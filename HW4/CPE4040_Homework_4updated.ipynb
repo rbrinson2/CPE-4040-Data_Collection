{
 "cells": [
  {
   "cell_type": "markdown",
   "metadata": {},
   "source": [
    "<center><h2> CPE 4040: Homework 4</h2></center>"
   ]
  },
  {
   "cell_type": "markdown",
   "metadata": {},
   "source": [
    "1. Write your answer in the cell provided under each question.\n",
    "2. __You must write comments to explain your thoughts and earn full credit__.\n",
    "3. __Show your execution result__.\n",
    "4. Do your own work. __Do not copy-and-paste other people's (or Generative AI's) codes.__\n",
    "5. <font color=blue> You can find Matplotlib code snippets in the accompanying Jupyter Notebook file to help you make time-domain and frequency-domain plots.  \n",
    "\n",
    "### Submission:\n",
    " * __Submit this notebook file and the pdf version__ - remember to add your name in the filename."
   ]
  },
  {
   "cell_type": "code",
   "execution_count": 273,
   "metadata": {},
   "outputs": [],
   "source": [
    "import pandas as pd\n",
    "import numpy as np\n",
    "\n",
    "from numpy.fft import fft, ifft"
   ]
  },
  {
   "cell_type": "code",
   "execution_count": 274,
   "metadata": {},
   "outputs": [],
   "source": [
    "import matplotlib.pyplot as plt"
   ]
  },
  {
   "cell_type": "markdown",
   "metadata": {},
   "source": [
    "## Q1: Signal Processing: Square Wave and Random Noise (60 Points)\n",
    "\n",
    "__A communication system is commonly modelled by the transmitted signal, the channel, and the receiver.__ \n",
    "\n",
    "__Let's consider a simple system where the signal is a `square wave` and the the channel adds `white Gaussian noise` to the signal. Therefore, the received signal is represented by__\n",
    "\n",
    "__$$r(t) = s(t) + n(t)$$ where $s(t)$ = square wave, $n(t)$ = Gaussian noise.__"
   ]
  },
  {
   "attachments": {
    "square_wave.png": {
     "image/png": "[encoded data removed]"
    }
   },
   "cell_type": "markdown",
   "metadata": {},
   "source": [
    "![square_wave.png](attachment:square_wave.png)"
   ]
  },
  {
   "cell_type": "markdown",
   "metadata": {},
   "source": [
    "### 1. (8 Points) Generate a periodic square wave by taking a `sign function` on the sine wave, that is,\n",
    "\n",
    "$$\n",
    "s(t) = \n",
    "\\begin{cases} \n",
    "1 & \\text{if } \\sin(2\\pi ft) \\ge 0 \\\\\n",
    "-1 & \\text{if } \\sin(2\\pi ft) < 0\n",
    "\\end{cases}\n",
    "$$\n",
    "\n",
    "* Plot a 10-second __square wave__ with amplitude 1, $f$ = 4Hz and sampling rate $f_s$ = 100Hz. Use Matplotlib to plot the signal. You should have a total of 1000 samples. \n",
    "\n",
    "* Properly label the x-axis (\"Time\"), and y-axis (\"Amplitude\").\n"
   ]
  },
  {
   "cell_type": "code",
   "execution_count": 152,
   "metadata": {},
   "outputs": [],
   "source": [
    "def generate_sine_wave(freq, sample_rate, duration):\n",
    "\n",
    "    t = np.linspace(0, duration, sample_rate * duration, endpoint=False)\n",
    "    y = np.sin((2 * np.pi) * freq * t)\n",
    "    \n",
    "    return t, y"
   ]
  },
  {
   "cell_type": "markdown",
   "metadata": {},
   "source": [
    "### <font color= green> Generate the square wave"
   ]
  },
  {
   "cell_type": "code",
   "execution_count": null,
   "metadata": {},
   "outputs": [],
   "source": []
  },
  {
   "cell_type": "markdown",
   "metadata": {},
   "source": [
    "### <font color= green> Plot the square wave"
   ]
  },
  {
   "cell_type": "code",
   "execution_count": null,
   "metadata": {},
   "outputs": [],
   "source": []
  },
  {
   "cell_type": "markdown",
   "metadata": {},
   "source": [
    "### 2. (6 Points) Frequency domain representation of the square wave. \n",
    "\n",
    "Apply the `calculate_fft( )` function below and use Matplotlib to plot the Fourier Transform result for `frequency range from 0 to 50 Hz`."
   ]
  },
  {
   "cell_type": "code",
   "execution_count": 155,
   "metadata": {},
   "outputs": [],
   "source": [
    "def calculate_fft(signal,fs):\n",
    "    N = len(signal)\n",
    "    n = np.arange(N)\n",
    "    freqs = n*fs/N               # the frequency bins\n",
    "    mag_fft = abs(fft(signal)/N)   # calculate the magnitude of fft\n",
    "    return freqs, mag_fft"
   ]
  },
  {
   "cell_type": "markdown",
   "metadata": {},
   "source": [
    "### <font color= green> Calculate the FFT"
   ]
  },
  {
   "cell_type": "code",
   "execution_count": null,
   "metadata": {},
   "outputs": [],
   "source": []
  },
  {
   "cell_type": "markdown",
   "metadata": {},
   "source": [
    "### <font color= green> Plot FFT of the square wave for frequency range 0 to 50Hz"
   ]
  },
  {
   "cell_type": "code",
   "execution_count": null,
   "metadata": {},
   "outputs": [],
   "source": []
  },
  {
   "cell_type": "markdown",
   "metadata": {},
   "source": [
    "### 3. (10 Points) Find Peak Frequency Components \n",
    "\n",
    "You can see a few distinct peaks in the FFT from Step 2. Write a code to identify the frequencies of the top five peaks in the FFT plot, `for frequency range from 0 to 50 Hz`.\n",
    "\n",
    "Please list the frequencies and their corresponding magnitudes."
   ]
  },
  {
   "cell_type": "code",
   "execution_count": null,
   "metadata": {},
   "outputs": [],
   "source": []
  },
  {
   "cell_type": "markdown",
   "metadata": {},
   "source": [
    "### 4. (5 Points) Generate an array of Gausian noise with mean = 0 and standard deviation = 0.5\n",
    "\n",
    "Use `np.random.normal` to generate the noise array. The size of the noise array should also be 1000.\n",
    "\n",
    "Add the square wave array from 1 and the noise array together. Plot the resulting array."
   ]
  },
  {
   "cell_type": "markdown",
   "metadata": {},
   "source": [
    "### <font color= green> Generate the Gaussian noise and the noisy signal"
   ]
  },
  {
   "cell_type": "code",
   "execution_count": null,
   "metadata": {},
   "outputs": [],
   "source": []
  },
  {
   "cell_type": "markdown",
   "metadata": {},
   "source": [
    "### <font color= green> Plot the noisy signal"
   ]
  },
  {
   "cell_type": "code",
   "execution_count": null,
   "metadata": {},
   "outputs": [],
   "source": []
  },
  {
   "cell_type": "markdown",
   "metadata": {},
   "source": [
    "### 5. (6 Points) Signal-to-noise ratio (SNR) is an important quality indicator of the communication channel.\n",
    "\n",
    "     SNR(dB) = 10log10(P_s/P_n), where P_s is the average signal power and P_n is the average noise power.\n",
    "\n",
    "Please calculate the SNR(dB) of this case. The average power of a sequence of signals = $\\sum_{i=1}^N s^2/N$, where $N$ is the number of samples."
   ]
  },
  {
   "cell_type": "code",
   "execution_count": null,
   "metadata": {},
   "outputs": [],
   "source": []
  },
  {
   "cell_type": "markdown",
   "metadata": {},
   "source": [
    "### 6. (10 Points) Implement a moving-average low-pass filter. \n",
    "\n",
    "A moving-average filter is a simple yet effective digital low-pass filter that reduces random noises in the signal. It is characterized by its filter length $L$, specifying how many of the last points of the signal will be averaged to produce the next point in the output.\n",
    "\n",
    "$$y[n] = \\frac{1}{L}\\sum_{i=0}^{L-1}x[n-i] $$\n",
    "where $x[n]$ is the noisy signal, $L$ is the length of the filter, and $y[n]$ is the filtered signal.\n",
    "\n",
    "* Write a Python function `moving_average_filter` that implements this low-pass filter. The function should accept two parameters: `noisy_signal` and `L`. It should return the filtered signal array. For this exercise, set $L=7$ for the length of the filter.\n",
    "\n",
    "* Visualization: Plot the noisy signal and the filtered signal in the same figure.\n",
    "\n",
    "* Please make a comment to compare the signals before and after the filtering. "
   ]
  },
  {
   "cell_type": "markdown",
   "metadata": {},
   "source": [
    "### <font color= green> Define the function for moving-average filter and calculate the filter output"
   ]
  },
  {
   "cell_type": "code",
   "execution_count": null,
   "metadata": {},
   "outputs": [],
   "source": []
  },
  {
   "cell_type": "markdown",
   "metadata": {},
   "source": [
    "### <font color= green> Plot the noisy signal and the filtered signal"
   ]
  },
  {
   "cell_type": "code",
   "execution_count": null,
   "metadata": {},
   "outputs": [],
   "source": []
  },
  {
   "cell_type": "markdown",
   "metadata": {},
   "source": [
    "### <font color=green> Compare the signals before and after the filtering."
   ]
  },
  {
   "cell_type": "code",
   "execution_count": null,
   "metadata": {},
   "outputs": [],
   "source": []
  },
  {
   "cell_type": "markdown",
   "metadata": {},
   "source": [
    "### 7. (8 Points) Frequency Domain view of the noisy signal and the filtered signal¶\n",
    "\n",
    "Use FFT to transform both the noisy signal and the filtered signal to the frequency domain.\n",
    "\n",
    "Visualization: Plot the noisy signal and the filtered signal in the same figure for comparison.You only need to plot in the frequency range between 0 to 5Hz.\n",
    "\n",
    "Please make an observation on:\n",
    "* The noise levels before and after moving-average filtering\n",
    "* The peak frequency components: what happened there?"
   ]
  },
  {
   "cell_type": "markdown",
   "metadata": {},
   "source": [
    "### <font color=green> Calculate the FFTs"
   ]
  },
  {
   "cell_type": "code",
   "execution_count": 278,
   "metadata": {},
   "outputs": [],
   "source": []
  },
  {
   "cell_type": "markdown",
   "metadata": {},
   "source": [
    "### <font color= green> Plot FFTs for both the noisy signal and the filtered signal, for frequency range from 0 to 50Hz"
   ]
  },
  {
   "cell_type": "code",
   "execution_count": null,
   "metadata": {},
   "outputs": [],
   "source": []
  },
  {
   "cell_type": "markdown",
   "metadata": {},
   "source": [
    "### <font color=green> Your observations"
   ]
  },
  {
   "cell_type": "code",
   "execution_count": null,
   "metadata": {},
   "outputs": [],
   "source": []
  },
  {
   "cell_type": "markdown",
   "metadata": {},
   "source": [
    "### 8. (7 Points) Frequency domain representation of the moving-average filter¶\n",
    "\n",
    "To gain an insight on how the signal and the noise are shaped by the moving-average filter in the frequency domain, you will calculate the FFT of the filter (we call it the `frequency response`).\n",
    "\n",
    "Recall in Step 6, the $L$-tap moving-average filter is represented by \n",
    "$$ h = \\big[ \\frac{1}{L}, \\frac{1}{L}, \\frac{1}{L}, \\cdots, \\frac{1}{L} \\big] $$\n",
    "\n",
    "* Apply FFT on the filter, $h$, and plot the result for frequency range from 0 to 50Hz. Assume $L=7$. \n",
    "\n",
    "* Please make a comment on the shape of the frequency response and explain how it affects the noise and signal in Step 7."
   ]
  },
  {
   "cell_type": "markdown",
   "metadata": {},
   "source": [
    "### <font color=green> Calculate the FFT of the 7-tap moving-average filter"
   ]
  },
  {
   "cell_type": "code",
   "execution_count": null,
   "metadata": {},
   "outputs": [],
   "source": []
  },
  {
   "cell_type": "markdown",
   "metadata": {},
   "source": [
    "### <font color= green> Plot FFT of the 7-tap moving-average filter"
   ]
  },
  {
   "cell_type": "code",
   "execution_count": null,
   "metadata": {},
   "outputs": [],
   "source": []
  },
  {
   "cell_type": "markdown",
   "metadata": {},
   "source": [
    "### <font color=green> Make a comment on the shape of the frequency response and explain how it affects the noise and signal in Step 7"
   ]
  },
  {
   "cell_type": "code",
   "execution_count": null,
   "metadata": {},
   "outputs": [],
   "source": []
  },
  {
   "cell_type": "markdown",
   "metadata": {},
   "source": [
    "<h2>Q2: DataFrame indexing and slicing (20 Points)</h2>\n",
    "\n",
    "<h3>1. Create a DataFrame with the same row indices, column labels, and data as the table below.</h3>"
   ]
  },
  {
   "attachments": {
    "animal%20data.png": {
     "image/png": "[encoded data removed]"
    }
   },
   "cell_type": "markdown",
   "metadata": {},
   "source": [
    "![animal%20data.png](attachment:animal%20data.png)"
   ]
  },
  {
   "cell_type": "code",
   "execution_count": null,
   "metadata": {},
   "outputs": [],
   "source": []
  },
  {
   "cell_type": "markdown",
   "metadata": {},
   "source": [
    "<h3>2. Select only the 'animal' and 'visits' columns from the DataFrame and show the result.</h3>"
   ]
  },
  {
   "cell_type": "code",
   "execution_count": null,
   "metadata": {},
   "outputs": [],
   "source": []
  },
  {
   "cell_type": "markdown",
   "metadata": {},
   "source": [
    "<h3>3. Select the data in rows 'c', 'f', and 'g' and in columns 'animal' and 'age'. Show the result.</h3>"
   ]
  },
  {
   "cell_type": "code",
   "execution_count": null,
   "metadata": {},
   "outputs": [],
   "source": []
  },
  {
   "cell_type": "markdown",
   "metadata": {},
   "source": [
    "<h3>4. Select the rows where the animal is a dog and the age is less than 5.</h3>"
   ]
  },
  {
   "cell_type": "code",
   "execution_count": null,
   "metadata": {},
   "outputs": [],
   "source": []
  },
  {
   "cell_type": "markdown",
   "metadata": {},
   "source": [
    "<h3>5. In the 'animal' column, change the 'snake' entries to 'python'</h3>"
   ]
  },
  {
   "cell_type": "code",
   "execution_count": null,
   "metadata": {},
   "outputs": [],
   "source": []
  },
  {
   "cell_type": "markdown",
   "metadata": {},
   "source": [
    "<h3>6. Select the rows where the age is missing, i.e. age value is NaN.</h3>"
   ]
  },
  {
   "cell_type": "code",
   "execution_count": null,
   "metadata": {},
   "outputs": [],
   "source": []
  },
  {
   "cell_type": "markdown",
   "metadata": {},
   "source": [
    "<h3>7. We want to clean up the NaN by replacing it with the average age of the dogs (or cats).</h3>\n",
    "<h3>First, please find out the average age of the dogs and the average age of the cats.</h3>"
   ]
  },
  {
   "cell_type": "code",
   "execution_count": null,
   "metadata": {},
   "outputs": [],
   "source": []
  },
  {
   "cell_type": "markdown",
   "metadata": {},
   "source": [
    "<h3>8. Replace the NaNs with the average ages and show the resulting DataFrame</h3>"
   ]
  },
  {
   "cell_type": "code",
   "execution_count": null,
   "metadata": {},
   "outputs": [],
   "source": []
  },
  {
   "cell_type": "markdown",
   "metadata": {},
   "source": [
    "<h2>Q3: DataFrame Arithmetics (20 Points)</h2>\n",
    "    \n",
    "<h3> 1. Generate a DataFrame that has 10 rows and 8 columns of random numbers (use np.random.rand). </h3>\n",
    "<h3>Label the columns A, B, C, D, E, F, G and H.</h3>"
   ]
  },
  {
   "cell_type": "code",
   "execution_count": null,
   "metadata": {},
   "outputs": [],
   "source": []
  },
  {
   "cell_type": "markdown",
   "metadata": {},
   "source": [
    "<h3>2. Calculate the sum of numbers for each column. Display the result.</h3>"
   ]
  },
  {
   "cell_type": "code",
   "execution_count": null,
   "metadata": {},
   "outputs": [],
   "source": []
  },
  {
   "cell_type": "markdown",
   "metadata": {},
   "source": [
    "<h3>3. Which column has the smallest sum? Please answer with the column label.</h3>"
   ]
  },
  {
   "cell_type": "code",
   "execution_count": null,
   "metadata": {},
   "outputs": [],
   "source": []
  },
  {
   "cell_type": "markdown",
   "metadata": {},
   "source": [
    "<h3>4. Calculate the mean value for each row, then subtract the mean from each element in the row.</h3>"
   ]
  },
  {
   "cell_type": "code",
   "execution_count": null,
   "metadata": {},
   "outputs": [],
   "source": []
  },
  {
   "cell_type": "markdown",
   "metadata": {},
   "source": [
    "<h3>5. Add an additional row with the mean value of each column. Label this new row \"Average\".</h3>"
   ]
  },
  {
   "cell_type": "code",
   "execution_count": null,
   "metadata": {},
   "outputs": [],
   "source": []
  }
 ],
 "metadata": {
  "kernelspec": {
   "display_name": "Python 3 (ipykernel)",
   "language": "python",
   "name": "python3"
  },
  "language_info": {
   "codemirror_mode": {
    "name": "ipython",
    "version": 3
   },
   "file_extension": ".py",
   "mimetype": "text/x-python",
   "name": "python",
   "nbconvert_exporter": "python",
   "pygments_lexer": "ipython3",
   "version": "3.12.4"
  }
 },
 "nbformat": 4,
 "nbformat_minor": 4
}
