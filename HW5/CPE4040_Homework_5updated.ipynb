{
 "cells": [
  {
   "cell_type": "markdown",
   "metadata": {},
   "source": [
    "<center><h2> CPE 4040: Homework #5</h2></center>"
   ]
  },
  {
   "cell_type": "markdown",
   "metadata": {
    "jp-MarkdownHeadingCollapsed": true
   },
   "source": [
    "1. Write your answer in the cell provided under each question.\n",
    "2. __You must write comments to explain your thoughts and earn full credit__.\n",
    "3. __Show your execution result__.\n",
    "4. Do your own work. __Do not copy-and-paste other people's (or Generative AI's) codes.__\n",
    "\n",
    "### Submission:\n",
    " * __Submit this notebook file and the pdf version__"
   ]
  },
  {
   "cell_type": "code",
   "execution_count": 2,
   "metadata": {},
   "outputs": [],
   "source": [
    "import pandas as pd\n",
    "import numpy as np"
   ]
  },
  {
   "cell_type": "markdown",
   "metadata": {},
   "source": [
    "<h2>Q1: Revisiting the Apple Store (25 Points)</h2>\n",
    "\n",
    "<h4>It is time to revisit the AppleStore dataset that we worked on earlier in the semester. </h4>\n",
    "\n",
    "<h4>Use what you learn from pandas, answer the following questions.</h4>"
   ]
  },
  {
   "cell_type": "markdown",
   "metadata": {},
   "source": [
    "<h3>1. Import the dataset AppleStore.csv and assign a DataFrame called 'df_apps'.</h3>\n",
    "<h4>How many rows and columns in the dataset? What are the row index and column labels?</h4>\n",
    "<h4>Print the first 5 lines of the dataset.</h4>"
   ]
  },
  {
   "cell_type": "code",
   "execution_count": 3,
   "metadata": {},
   "outputs": [],
   "source": [
    "df_apps = pd.read_csv('AppleStore.csv')\n"
   ]
  },
  {
   "cell_type": "code",
   "execution_count": null,
   "metadata": {},
   "outputs": [],
   "source": []
  },
  {
   "cell_type": "markdown",
   "metadata": {},
   "source": [
    "<h3>2. Counting genres: how many different genres in \"prime_genre\"?</h3>\n",
    "<h3>How many titles are in each genre? (Hint: use value_counts method)</h3>"
   ]
  },
  {
   "cell_type": "code",
   "execution_count": null,
   "metadata": {},
   "outputs": [],
   "source": []
  },
  {
   "cell_type": "markdown",
   "metadata": {},
   "source": [
    "<h3>3. Content rating: how many different categories of 'content_rating'?</h3>\n",
    "<h3>What percentage of titles are in each category?</h3>"
   ]
  },
  {
   "cell_type": "code",
   "execution_count": null,
   "metadata": {},
   "outputs": [],
   "source": []
  },
  {
   "cell_type": "markdown",
   "metadata": {},
   "source": [
    "<h3>4. Solve a simiar problem as in Homework #3: Use GroupBy to find the distribution of rating in each genre.</h3>\n",
    "    <h4>a. How many apps in 'Games' are for age 17 and above?</h4>\n",
    "    <h4>b. How many apps in 'Education' are for kids 9 years and older?</h4>"
   ]
  },
  {
   "cell_type": "code",
   "execution_count": null,
   "metadata": {},
   "outputs": [],
   "source": []
  },
  {
   "cell_type": "code",
   "execution_count": null,
   "metadata": {},
   "outputs": [],
   "source": []
  },
  {
   "cell_type": "markdown",
   "metadata": {},
   "source": [
    "<h3>5. How many apps are free? What is the title of the most expensive app?</h3> "
   ]
  },
  {
   "cell_type": "code",
   "execution_count": null,
   "metadata": {},
   "outputs": [],
   "source": []
  },
  {
   "cell_type": "markdown",
   "metadata": {},
   "source": [
    "<h2>Q2: Practicing GroupBy and Data Aggregation (25 Points)</h2>"
   ]
  },
  {
   "cell_type": "markdown",
   "metadata": {},
   "source": [
    "<h3>1. Import the dataset from the URL. This is a set of statistics of age, gender and occupation.</h3>\n",
    "<h3> How many different occupations are in the dataset?"
   ]
  },
  {
   "cell_type": "code",
   "execution_count": 4,
   "metadata": {},
   "outputs": [],
   "source": [
    "users = pd.read_table('https://raw.githubusercontent.com/justmarkham/DAT8/master/data/u.user', \n",
    "                      sep='|', index_col='user_id')\n",
    "\n"
   ]
  },
  {
   "cell_type": "code",
   "execution_count": null,
   "metadata": {},
   "outputs": [],
   "source": []
  },
  {
   "cell_type": "markdown",
   "metadata": {},
   "source": [
    "<h3>2.1 There is a column label, zip_code, which will not be used in this exercise.</h3>\n",
    "<h3>Please remove the column from the DataFrame</h3>"
   ]
  },
  {
   "cell_type": "code",
   "execution_count": null,
   "metadata": {},
   "outputs": [],
   "source": []
  },
  {
   "cell_type": "markdown",
   "metadata": {},
   "source": [
    "<h3>2.2 As you may have noticed, there is an occupation called \"retired\".</h3>\n",
    "<h3>Please remove the users whose occupation is \"retired\" from the DataFrame.</h3>"
   ]
  },
  {
   "cell_type": "code",
   "execution_count": null,
   "metadata": {},
   "outputs": [],
   "source": []
  },
  {
   "cell_type": "markdown",
   "metadata": {},
   "source": [
    "<h3>3. Calculate the average age for each occupation. What are the top 5 youngest occupation groups?</h3>\n",
    "<h3>Hint: use sort_values() method. </h3>"
   ]
  },
  {
   "cell_type": "code",
   "execution_count": null,
   "metadata": {},
   "outputs": [],
   "source": []
  },
  {
   "cell_type": "markdown",
   "metadata": {},
   "source": [
    "<h3>4. Calculate the female ratio for each occupation and sort it in ascending order.</h3>"
   ]
  },
  {
   "cell_type": "code",
   "execution_count": null,
   "metadata": {},
   "outputs": [],
   "source": []
  },
  {
   "cell_type": "markdown",
   "metadata": {},
   "source": [
    "<h3>5. For each occupation, calculate the minimum and maximum ages.</h3>"
   ]
  },
  {
   "cell_type": "code",
   "execution_count": null,
   "metadata": {},
   "outputs": [],
   "source": []
  },
  {
   "cell_type": "markdown",
   "metadata": {},
   "source": [
    "<h3>6. For each combination of occupation and gender, calculate the mean age.</h3>\n",
    "<h3>Hint: This will require you to pass two column labels to Groupby.</h3>"
   ]
  },
  {
   "cell_type": "code",
   "execution_count": null,
   "metadata": {},
   "outputs": [],
   "source": []
  },
  {
   "cell_type": "markdown",
   "metadata": {},
   "source": [
    "<h2>Q3: Historical Stock Prices (50 Points)</h2>\n",
    "\n",
    "__In this exercise, you will download market data of a stock of your choice (or an index, such as Dow Jones or S&P500) and perform some exploratory data analysis (EDA).__\n",
    "\n",
    "__You will follow the step-by-step guide in the companion Jupyter Notebook file, Homework 6 - Historical Stock data, to download the stock price data and clean up the data.__\n",
    "\n",
    "__<font color=red>Please make sure to include the CSV file for the stock price data when submitting the homework.</font>__\n",
    "\n",
    "__<font color=red>NOTE: You cannot pick AAPL since it is used in the example.</font>__\n",
    "\n",
    "__To summarize, you will work on:__\n",
    "\n",
    "    1. Data cleaning\n",
    "    2. Simple Exploratory Data Analysis\n",
    "    3. 52-Week Price Range\n",
    "    4. Yearly Performance Summary\n",
    "    5. Yearly Investment Results"
   ]
  },
  {
   "cell_type": "markdown",
   "metadata": {},
   "source": [
    "<h3>Import the stock historical data of your choice.</h3>"
   ]
  },
  {
   "cell_type": "code",
   "execution_count": null,
   "metadata": {},
   "outputs": [],
   "source": []
  },
  {
   "cell_type": "markdown",
   "metadata": {},
   "source": [
    "### Display the first 5 rows of data"
   ]
  },
  {
   "cell_type": "code",
   "execution_count": null,
   "metadata": {},
   "outputs": [],
   "source": []
  },
  {
   "cell_type": "markdown",
   "metadata": {},
   "source": [
    "### 1. Data Cleaning Before Data Analysis\n",
    "\n",
    "__Please follow the step-by-step guide below to clean up the data. You can refer to Step 4 in the Jupyter Notebook file, Homework 6 - Historical Stock data, to learn how to perform the task.__"
   ]
  },
  {
   "cell_type": "markdown",
   "metadata": {},
   "source": [
    "<h3><font color=green>Step 1: Remove the dollar signs in the price columns and convert them to float</h3></font>"
   ]
  },
  {
   "cell_type": "code",
   "execution_count": 6,
   "metadata": {},
   "outputs": [],
   "source": []
  },
  {
   "cell_type": "code",
   "execution_count": null,
   "metadata": {},
   "outputs": [],
   "source": []
  },
  {
   "cell_type": "markdown",
   "metadata": {},
   "source": [
    "### <font color=green>We need to convert the string to float using either astype() or pd.to_numeric</font>"
   ]
  },
  {
   "cell_type": "code",
   "execution_count": null,
   "metadata": {},
   "outputs": [],
   "source": []
  },
  {
   "cell_type": "markdown",
   "metadata": {},
   "source": [
    "### <font color=green>Step 2: The Date column needs to be converted to datetime format first</font>"
   ]
  },
  {
   "cell_type": "code",
   "execution_count": null,
   "metadata": {},
   "outputs": [],
   "source": []
  },
  {
   "cell_type": "markdown",
   "metadata": {},
   "source": [
    "<h3>Rename the column 'Close/Last' to 'Close'</h3>"
   ]
  },
  {
   "cell_type": "code",
   "execution_count": 22,
   "metadata": {},
   "outputs": [
    {
     "data": {
      "text/html": [
       "<div>\n",
       "<style scoped>\n",
       "    .dataframe tbody tr th:only-of-type {\n",
       "        vertical-align: middle;\n",
       "    }\n",
       "\n",
       "    .dataframe tbody tr th {\n",
       "        vertical-align: top;\n",
       "    }\n",
       "\n",
       "    .dataframe thead th {\n",
       "        text-align: right;\n",
       "    }\n",
       "</style>\n",
       "<table border=\"1\" class=\"dataframe\">\n",
       "  <thead>\n",
       "    <tr style=\"text-align: right;\">\n",
       "      <th></th>\n",
       "      <th>Date</th>\n",
       "      <th>Close</th>\n",
       "      <th>Volume</th>\n",
       "      <th>Open</th>\n",
       "      <th>High</th>\n",
       "      <th>Low</th>\n",
       "    </tr>\n",
       "  </thead>\n",
       "  <tbody>\n",
       "    <tr>\n",
       "      <th>0</th>\n",
       "      <td>2024-03-22</td>\n",
       "      <td>172.28</td>\n",
       "      <td>71160140</td>\n",
       "      <td>171.76</td>\n",
       "      <td>173.050</td>\n",
       "      <td>170.06</td>\n",
       "    </tr>\n",
       "    <tr>\n",
       "      <th>1</th>\n",
       "      <td>2024-03-21</td>\n",
       "      <td>171.37</td>\n",
       "      <td>106181300</td>\n",
       "      <td>177.05</td>\n",
       "      <td>177.490</td>\n",
       "      <td>170.84</td>\n",
       "    </tr>\n",
       "    <tr>\n",
       "      <th>2</th>\n",
       "      <td>2024-03-20</td>\n",
       "      <td>178.67</td>\n",
       "      <td>53423100</td>\n",
       "      <td>175.72</td>\n",
       "      <td>178.670</td>\n",
       "      <td>175.09</td>\n",
       "    </tr>\n",
       "    <tr>\n",
       "      <th>3</th>\n",
       "      <td>2024-03-19</td>\n",
       "      <td>176.08</td>\n",
       "      <td>55215240</td>\n",
       "      <td>174.34</td>\n",
       "      <td>176.605</td>\n",
       "      <td>173.03</td>\n",
       "    </tr>\n",
       "    <tr>\n",
       "      <th>4</th>\n",
       "      <td>2024-03-18</td>\n",
       "      <td>173.72</td>\n",
       "      <td>75604180</td>\n",
       "      <td>175.57</td>\n",
       "      <td>177.710</td>\n",
       "      <td>173.52</td>\n",
       "    </tr>\n",
       "  </tbody>\n",
       "</table>\n",
       "</div>"
      ],
      "text/plain": [
       "        Date   Close     Volume    Open     High     Low\n",
       "0 2024-03-22  172.28   71160140  171.76  173.050  170.06\n",
       "1 2024-03-21  171.37  106181300  177.05  177.490  170.84\n",
       "2 2024-03-20  178.67   53423100  175.72  178.670  175.09\n",
       "3 2024-03-19  176.08   55215240  174.34  176.605  173.03\n",
       "4 2024-03-18  173.72   75604180  175.57  177.710  173.52"
      ]
     },
     "execution_count": 22,
     "metadata": {},
     "output_type": "execute_result"
    }
   ],
   "source": [
    "df.rename(columns = {'Close/Last':'Close'}, inplace=True)\n",
    "df.head()"
   ]
  },
  {
   "cell_type": "markdown",
   "metadata": {},
   "source": [
    "### 2. Simple Exploratory Data Analysis"
   ]
  },
  {
   "cell_type": "markdown",
   "metadata": {},
   "source": [
    "### Examine the column data statistics using df.describe()"
   ]
  },
  {
   "cell_type": "code",
   "execution_count": null,
   "metadata": {},
   "outputs": [],
   "source": []
  },
  {
   "cell_type": "markdown",
   "metadata": {},
   "source": [
    "### Write a script to find the largest trading volumn in your dataset"
   ]
  },
  {
   "cell_type": "code",
   "execution_count": null,
   "metadata": {},
   "outputs": [],
   "source": []
  },
  {
   "cell_type": "markdown",
   "metadata": {},
   "source": [
    "### Write a script to find the all-time high in closing price"
   ]
  },
  {
   "cell_type": "code",
   "execution_count": null,
   "metadata": {},
   "outputs": [],
   "source": []
  },
  {
   "cell_type": "markdown",
   "metadata": {},
   "source": [
    "### Which date(s) did the all-time high in closing price occur? "
   ]
  },
  {
   "cell_type": "code",
   "execution_count": null,
   "metadata": {},
   "outputs": [],
   "source": []
  },
  {
   "cell_type": "markdown",
   "metadata": {},
   "source": [
    "<h3>3. The 52-Week Range </h3>\n",
    "\n",
    "The 52-week range refers to the lowest and highest price at which a stock has traded during the previous 52 weeks. In this exercise, we consider the __intraday highs and lows__, that is, the 'High' and 'Low' columns, to find the answer.\n",
    "\n",
    "#### Note: if the last date of your data is 2024-3-22, then the 52-week range starts at 2023-3-23 and ends at 2024-3-22.\n",
    "#### Note: if your starting date falls on a non-trading day, then move the date up to the next trading day."
   ]
  },
  {
   "cell_type": "markdown",
   "metadata": {},
   "source": [
    "### Write a script to show the 52-week range."
   ]
  },
  {
   "cell_type": "code",
   "execution_count": null,
   "metadata": {},
   "outputs": [],
   "source": []
  },
  {
   "cell_type": "markdown",
   "metadata": {},
   "source": [
    "<h3>4. Yearly Performance from 2014 to 2024</h3>\n",
    "\n",
    "#### From the historical data, we can create a performance summary table for the past 10 years, such as the one shown below."
   ]
  },
  {
   "attachments": {
    "HW6-2.png": {
     "image/png": "[encoded data removed]"
    }
   },
   "cell_type": "markdown",
   "metadata": {},
   "source": [
    "![HW6-2.png](attachment:HW6-2.png)"
   ]
  },
  {
   "cell_type": "markdown",
   "metadata": {},
   "source": [
    "<h3>Follow the steps below to create one for your stock.</h3>"
   ]
  },
  {
   "cell_type": "markdown",
   "metadata": {},
   "source": [
    "<h3>Step 1: Reverse the order of the DataFrame</h3>\n",
    "\n",
    "#### The dates in the DataFrame start from the most recent date and go back in time. Let's reverse the order so the dates are in chronological order."
   ]
  },
  {
   "cell_type": "code",
   "execution_count": 28,
   "metadata": {},
   "outputs": [],
   "source": [
    "# There are several ways to reverse a DataFrame. However, slicing is still the most effetive approach.\n",
    "# df is the name of your own DataFrame. \n",
    "\n",
    "df_rev = df.loc[::-1].copy()"
   ]
  },
  {
   "cell_type": "markdown",
   "metadata": {},
   "source": [
    "#### Print the first 10 rows to confirm the results."
   ]
  },
  {
   "cell_type": "code",
   "execution_count": null,
   "metadata": {},
   "outputs": [],
   "source": []
  },
  {
   "cell_type": "markdown",
   "metadata": {},
   "source": [
    "### Step 2: Extract the 'year' information from datetime data\n",
    "\n",
    "#### Add a new column, 'Year', to the DataFrame. This is important for grouping by year."
   ]
  },
  {
   "cell_type": "code",
   "execution_count": 30,
   "metadata": {},
   "outputs": [],
   "source": [
    "df_rev['Year'] = df_rev['Date'].dt.year"
   ]
  },
  {
   "cell_type": "markdown",
   "metadata": {},
   "source": [
    "#### Print the first 10 rows of the DataFrame to confirm the results."
   ]
  },
  {
   "cell_type": "code",
   "execution_count": null,
   "metadata": {},
   "outputs": [],
   "source": []
  },
  {
   "cell_type": "markdown",
   "metadata": {},
   "source": [
    "### Step 3: Groupby the DataFrame by \"Year\""
   ]
  },
  {
   "cell_type": "code",
   "execution_count": null,
   "metadata": {},
   "outputs": [],
   "source": [
    "df_year = df_rev.groupby('Year')\n",
    "df_year.groups.keys()"
   ]
  },
  {
   "cell_type": "markdown",
   "metadata": {},
   "source": [
    "#### Please show the number of trading days for each year from 2013 to 2023."
   ]
  },
  {
   "cell_type": "code",
   "execution_count": null,
   "metadata": {},
   "outputs": [],
   "source": []
  },
  {
   "cell_type": "markdown",
   "metadata": {},
   "source": [
    "### Step 4: For each year, extract 'Open' price for the first trading day of the year and the 'Close' price for the last trading day of the year.\n",
    "\n",
    "#### Note: this will require you to apply separate aggregate functions on 'Open' and 'Close' columns"
   ]
  },
  {
   "cell_type": "code",
   "execution_count": null,
   "metadata": {},
   "outputs": [],
   "source": [
    "df_summary = df_year.agg({'Open': 'first', 'Close': 'last'}) "
   ]
  },
  {
   "cell_type": "markdown",
   "metadata": {},
   "source": [
    "#### Print the DataFrame, df_summary, to confirm the results."
   ]
  },
  {
   "cell_type": "code",
   "execution_count": null,
   "metadata": {},
   "outputs": [],
   "source": []
  },
  {
   "cell_type": "markdown",
   "metadata": {},
   "source": [
    "### Step 5: Add a new column, \"Average Daily Volume\", to df_summary, by calculating the mean of 'Volume' for each year.\n",
    "\n",
    "#### Note: the data type of the average daily volume is integer."
   ]
  },
  {
   "cell_type": "code",
   "execution_count": null,
   "metadata": {},
   "outputs": [],
   "source": []
  },
  {
   "cell_type": "markdown",
   "metadata": {},
   "source": [
    "####  Print the DataFrame, df_summary, to confirm the results."
   ]
  },
  {
   "cell_type": "code",
   "execution_count": null,
   "metadata": {},
   "outputs": [],
   "source": []
  },
  {
   "cell_type": "markdown",
   "metadata": {},
   "source": [
    "### Step 6: Add another new column, \"Price Change %\", to df_summary, by calculating the percentage change of the stock price for each year.\n",
    "\n",
    "#### % change = (Close - Open)/Open * 100"
   ]
  },
  {
   "cell_type": "code",
   "execution_count": null,
   "metadata": {},
   "outputs": [],
   "source": []
  },
  {
   "cell_type": "markdown",
   "metadata": {},
   "source": [
    "#### Print the DataFrame, df_summary. This is your final performance table."
   ]
  },
  {
   "cell_type": "code",
   "execution_count": null,
   "metadata": {},
   "outputs": [],
   "source": []
  },
  {
   "cell_type": "markdown",
   "metadata": {},
   "source": [
    "<h3>5: Buy-and-Hold: Investment Results After 10 Years</h3>\n",
    "    \n",
    "<h4> Assume you invested $1,000 in the stock on the first trading date of your dataset (say, 2014-2-28) and you continued to hold the stock.</h4>\n",
    "<h4>What are the investment values at the end of each year from 2014 to 2024? </h4>"
   ]
  },
  {
   "cell_type": "markdown",
   "metadata": {},
   "source": [
    "### Step 1: Calculate the yearly cumulative return\n",
    "\n",
    "#### A cumulative return on an investment is the aggregate amount that the investment has gained or lost over time.\n",
    "\n",
    "#### Note: cumulative return % = (Close - Open[2014])/Open[2014] * 100 "
   ]
  },
  {
   "cell_type": "markdown",
   "metadata": {},
   "source": [
    "#### Add an additional column, \"Cumm Return %\", to df_summary, that shows the yearly cumulative return of the stock."
   ]
  },
  {
   "cell_type": "code",
   "execution_count": null,
   "metadata": {},
   "outputs": [],
   "source": []
  },
  {
   "cell_type": "markdown",
   "metadata": {},
   "source": [
    "#### Print the DataFrame, df_summary, to show the result"
   ]
  },
  {
   "cell_type": "code",
   "execution_count": null,
   "metadata": {},
   "outputs": [],
   "source": []
  },
  {
   "cell_type": "markdown",
   "metadata": {},
   "source": [
    "<h3>Step 2: Calculate the investment values</h3>\n",
    "\n",
    "#### Using the cumulative returns, add a column, 'Investment Value', by calculating the year-end value of the initial $1,000 investment."
   ]
  },
  {
   "cell_type": "code",
   "execution_count": null,
   "metadata": {},
   "outputs": [],
   "source": []
  },
  {
   "cell_type": "markdown",
   "metadata": {},
   "source": [
    "#### Print the DataFrame, df_summary, to show the result"
   ]
  },
  {
   "cell_type": "code",
   "execution_count": null,
   "metadata": {},
   "outputs": [],
   "source": []
  },
  {
   "cell_type": "code",
   "execution_count": null,
   "metadata": {},
   "outputs": [],
   "source": []
  }
 ],
 "metadata": {
  "kernelspec": {
   "display_name": "Python 3 (ipykernel)",
   "language": "python",
   "name": "python3"
  },
  "language_info": {
   "codemirror_mode": {
    "name": "ipython",
    "version": 3
   },
   "file_extension": ".py",
   "mimetype": "text/x-python",
   "name": "python",
   "nbconvert_exporter": "python",
   "pygments_lexer": "ipython3",
   "version": "3.12.4"
  }
 },
 "nbformat": 4,
 "nbformat_minor": 4
}
