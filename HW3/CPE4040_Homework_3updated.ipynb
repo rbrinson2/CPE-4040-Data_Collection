{
 "cells": [
  {
   "cell_type": "markdown",
   "metadata": {},
   "source": [
    "<center><h1> CPE 4040: Homework 3</h1></center>"
   ]
  },
  {
   "cell_type": "markdown",
   "metadata": {
    "jp-MarkdownHeadingCollapsed": true
   },
   "source": [
    "1. Write your answer in the cell provided under each question.\n",
    "2. __You must write comments to explain your thoughts and earn full credit__.\n",
    "3. __Show your execution result__.\n",
    "4. Do your own work. __Do not copy-and-paste other people's (or Generative AI's) codes.__\n",
    "5. Please do not use pandas since it is not covered yet.\n",
    "\n",
    "### Submission:\n",
    " * __Submit this notebook file and the pdf version__ - remember to add your name in the filename."
   ]
  },
  {
   "cell_type": "code",
   "execution_count": 78,
   "metadata": {},
   "outputs": [],
   "source": [
    "import numpy as np"
   ]
  },
  {
   "cell_type": "markdown",
   "metadata": {},
   "source": [
    "### Check your Numpy Version"
   ]
  },
  {
   "cell_type": "code",
   "execution_count": 79,
   "metadata": {},
   "outputs": [
    {
     "name": "stdout",
     "output_type": "stream",
     "text": [
      "Numpy version: 1.26.4\n"
     ]
    }
   ],
   "source": [
    "print(\"Numpy version: \" + np.__version__)"
   ]
  },
  {
   "cell_type": "markdown",
   "metadata": {},
   "source": [
    "<h3>Q1: Checker Board (10 Points)</h3>"
   ]
  },
  {
   "cell_type": "raw",
   "metadata": {},
   "source": [
    "Please write NumPy codes to generate this 9x9 matrix -\n",
    "\n",
    "   [[1 0 0 1 0 0 1 0 0]\n",
    "    [0 1 0 0 1 0 0 1 0]\n",
    "    [0 0 1 0 0 1 0 0 1]\n",
    "    [1 0 0 1 0 0 1 0 0]\n",
    "    [0 1 0 0 1 0 0 1 0]\n",
    "    [0 0 1 0 0 1 0 0 1]\n",
    "    [1 0 0 1 0 0 1 0 0]\n",
    "    [0 1 0 0 1 0 0 1 0]\n",
    "    [0 0 1 0 0 1 0 0 1]]\n",
    "    \n",
    "    Note: you cannot simply copy the numbers. Pay attention to the pattern. There are many ways to do this."
   ]
  },
  {
   "cell_type": "code",
   "execution_count": 80,
   "metadata": {},
   "outputs": [
    {
     "name": "stdout",
     "output_type": "stream",
     "text": [
      "[[1 0 0 1 0 0 1 0 0]\n",
      " [0 1 0 0 1 0 0 1 0]\n",
      " [0 0 1 0 0 1 0 0 1]\n",
      " [1 0 0 1 0 0 1 0 0]\n",
      " [0 1 0 0 1 0 0 1 0]\n",
      " [0 0 1 0 0 1 0 0 1]\n",
      " [1 0 0 1 0 0 1 0 0]\n",
      " [0 1 0 0 1 0 0 1 0]\n",
      " [0 0 1 0 0 1 0 0 1]]\n"
     ]
    }
   ],
   "source": [
    "diag = np.diag([1,1,1])\n",
    "cat = np.concatenate((diag, diag, diag), axis=1)\n",
    "concat = np.concatenate((cat, cat, cat))\n",
    "print(concat)"
   ]
  },
  {
   "cell_type": "markdown",
   "metadata": {},
   "source": [
    "<h3>Q2: Array Indexing and Slicing (12 Points) </h3>"
   ]
  },
  {
   "cell_type": "markdown",
   "metadata": {},
   "source": [
    "#### Q2.1 Please convert this vector, `np.arange(48)`, into a 8x6 array, i.e, 8 rows and 6 columns. Let's call this array A."
   ]
  },
  {
   "cell_type": "code",
   "execution_count": 81,
   "metadata": {},
   "outputs": [
    {
     "name": "stdout",
     "output_type": "stream",
     "text": [
      "[[ 0  1  2  3  4  5]\n",
      " [ 6  7  8  9 10 11]\n",
      " [12 13 14 15 16 17]\n",
      " [18 19 20 21 22 23]\n",
      " [24 25 26 27 28 29]\n",
      " [30 31 32 33 34 35]\n",
      " [36 37 38 39 40 41]\n",
      " [42 43 44 45 46 47]]\n"
     ]
    }
   ],
   "source": [
    "A = np.arange(48).reshape(8,6)\n",
    "print(A)"
   ]
  },
  {
   "cell_type": "markdown",
   "metadata": {},
   "source": [
    "#### Q2.2 Write codes to extract the elements in columns 2, 3, and 5 from A."
   ]
  },
  {
   "cell_type": "code",
   "execution_count": 82,
   "metadata": {},
   "outputs": [
    {
     "name": "stdout",
     "output_type": "stream",
     "text": [
      "[[ 2  3  5]\n",
      " [ 8  9 11]\n",
      " [14 15 17]\n",
      " [20 21 23]\n",
      " [26 27 29]\n",
      " [32 33 35]\n",
      " [38 39 41]\n",
      " [44 45 47]]\n"
     ]
    }
   ],
   "source": [
    "arr22 = A[:, [2,3,5]]\n",
    "print(arr22)"
   ]
  },
  {
   "cell_type": "markdown",
   "metadata": {},
   "source": [
    "#### Q2.3 Create a new 3x5 array, with elements from rows 6, 1, 3 of A (in that order). __Hint: use fancy indexing__"
   ]
  },
  {
   "cell_type": "code",
   "execution_count": 83,
   "metadata": {},
   "outputs": [
    {
     "name": "stdout",
     "output_type": "stream",
     "text": [
      "[[36 37 38 39 40]\n",
      " [ 6  7  8  9 10]\n",
      " [18 19 20 21 22]]\n"
     ]
    }
   ],
   "source": [
    "arr23 = A[[6,1,3], :5]\n",
    "print(arr23)"
   ]
  },
  {
   "cell_type": "markdown",
   "metadata": {},
   "source": [
    "#### Q2.4 Write codes to extract four elements from A with the following indices (4,2), (5,0), (1,2), (3,3)."
   ]
  },
  {
   "cell_type": "code",
   "execution_count": 84,
   "metadata": {},
   "outputs": [
    {
     "name": "stdout",
     "output_type": "stream",
     "text": [
      "[26 30  8 21]\n"
     ]
    }
   ],
   "source": [
    "arr24 = np.array([A[4][2], A[5][0], A[1][2], A[3][3]])\n",
    "print(arr24)"
   ]
  },
  {
   "cell_type": "markdown",
   "metadata": {},
   "source": [
    "<h3>Q3: Array Processing (15 points)</h3>\n",
    "<h4>Given a 9-by-9 matrix of random integers from 0 to 99:</h4>"
   ]
  },
  {
   "cell_type": "code",
   "execution_count": 85,
   "metadata": {},
   "outputs": [
    {
     "data": {
      "text/plain": [
       "array([[37, 12, 72,  9, 75,  5, 79, 64, 16],\n",
       "       [ 1, 76, 71,  6, 25, 50, 20, 18, 84],\n",
       "       [11, 28, 29, 14, 50, 68, 87, 87, 94],\n",
       "       [96, 86, 13,  9,  7, 63, 61, 22, 57],\n",
       "       [ 1,  0, 60, 81,  8, 88, 13, 47, 72],\n",
       "       [30, 71,  3, 70, 21, 49, 57,  3, 68],\n",
       "       [24, 43, 76, 26, 52, 80, 41, 82, 15],\n",
       "       [64, 68, 25, 98, 87,  7, 26, 25, 22],\n",
       "       [ 9, 67, 23, 27, 37, 57, 83, 38,  8]])"
      ]
     },
     "execution_count": 85,
     "metadata": {},
     "output_type": "execute_result"
    }
   ],
   "source": [
    "np.random.seed(1)\n",
    "arr = np.random.randint(100,size=(9,9))\n",
    "arr"
   ]
  },
  {
   "cell_type": "markdown",
   "metadata": {},
   "source": [
    "<h4>Q3.1 Observe that each 9x9 matrix is essentially nine blocks of 3x3 matrix. Write a Python code to calculate the mean value for each of the 3x3 matrix.</h4>\n",
    "<h4> Hint: use array slicing to index each of the 9 sub-block.</h4>"
   ]
  },
  {
   "cell_type": "code",
   "execution_count": 86,
   "metadata": {},
   "outputs": [
    {
     "name": "stdout",
     "output_type": "stream",
     "text": [
      "[[37.44444444 33.55555556 61.        ]\n",
      " [40.         44.         44.44444444]\n",
      " [44.33333333 52.33333333 37.77777778]]\n"
     ]
    }
   ],
   "source": [
    "arr31 = arr\n",
    "arr31 = arr31.reshape(3, 3, 3, 3).mean(axis=(1,3))\n",
    "print(arr31)"
   ]
  },
  {
   "cell_type": "markdown",
   "metadata": {},
   "source": [
    "<h4>Q3.2 What is the maximum value in the array? What is the index of the maximum value?</h4>\n",
    "<h4>Note: use argmax()."
   ]
  },
  {
   "cell_type": "code",
   "execution_count": 87,
   "metadata": {},
   "outputs": [
    {
     "name": "stdout",
     "output_type": "stream",
     "text": [
      "Max value:  98  Max value index:  (7, 3)\n"
     ]
    }
   ],
   "source": [
    "arr32 = arr\n",
    "print(\"Max value: \", arr32.max(), \" Max value index: \", np.unravel_index(np.argmax(arr32), arr32.shape))"
   ]
  },
  {
   "cell_type": "markdown",
   "metadata": {},
   "source": [
    "<h3>Q4: Rolling Dices (20 Points)</h3>\n",
    "    \n",
    "Assume that you have a fair dice of six faces, that is, it is equally likely to get any of the 6 possible outcomes for one dice roll.\n",
    "\n",
    "__Q4.1 (5 points): Applying the same method that we used for coin tosses, write a code to simulate the probability of occurrence for each of the 6 numbers. You will perform at least 1,000,000 rolls.__\n",
    "\n",
    "The result should be presented as follows:\n",
    "   * Number of 1's = 100,000. Probability = 16.67%\n",
    "   * Number of 2's = 96,000. Probability = 16.0%\n",
    "   * ......"
   ]
  },
  {
   "cell_type": "code",
   "execution_count": 88,
   "metadata": {},
   "outputs": [
    {
     "name": "stdout",
     "output_type": "stream",
     "text": [
      "Number of  1 's = 166286 | Probability = 16.6286 %\n",
      "Number of  2 's = 166305 | Probability = 16.6305 %\n",
      "Number of  3 's = 166646 | Probability = 16.6646 %\n",
      "Number of  4 's = 166557 | Probability = 16.6557 %\n",
      "Number of  5 's = 167246 | Probability = 16.7246 %\n",
      "Number of  6 's = 166960 | Probability = 16.696 %\n"
     ]
    }
   ],
   "source": [
    "n_toss = 1_000_000\n",
    "die = np.array([side for side in range(1, 7)])\n",
    "rolls = np.array([np.random.choice(die) for _ in range(n_toss)])\n",
    "\n",
    "for i in range(1,7):\n",
    "    print(\"Number of \", i, \"'s =\", (rolls == i).sum(), \"| Probability =\", 100 * (rolls == i).sum() / n_toss, \"%\")"
   ]
  },
  {
   "cell_type": "markdown",
   "metadata": {},
   "source": [
    "__Q4.2 (7 points): Suppose you are rolling two dices and add the two numbers together. The possible 11 outcomes range from 2 (1+1) to 12 (6+6).__ \n",
    "\n",
    "Write a simulation of 1,000,000 trials to find out the probability for each of the 11 outcomes.\n",
    "\n",
    "The result should be presented as follows:\n",
    "   * Number of 2's = 14,000. Probability = 2.80%\n",
    "   * Number of 3's = 27,800. Probability = 5.56%\n",
    "   * ....."
   ]
  },
  {
   "cell_type": "code",
   "execution_count": 89,
   "metadata": {},
   "outputs": [
    {
     "name": "stdout",
     "output_type": "stream",
     "text": [
      "Number of  2 's = 27880 | Probability = 2.788 %\n",
      "Number of  3 's = 54997 | Probability = 5.4997 %\n",
      "Number of  4 's = 83476 | Probability = 8.3476 %\n",
      "Number of  5 's = 111376 | Probability = 11.1376 %\n",
      "Number of  6 's = 138915 | Probability = 13.8915 %\n",
      "Number of  7 's = 166577 | Probability = 16.6577 %\n",
      "Number of  8 's = 138837 | Probability = 13.8837 %\n",
      "Number of  9 's = 110990 | Probability = 11.099 %\n",
      "Number of  10 's = 83261 | Probability = 8.3261 %\n",
      "Number of  11 's = 56010 | Probability = 5.601 %\n",
      "Number of  12 's = 27681 | Probability = 2.7681 %\n"
     ]
    }
   ],
   "source": [
    "rolls2 = np.array([np.random.choice(die) for _ in range(n_toss)])\n",
    "\n",
    "rolls_sum = rolls + rolls2\n",
    "\n",
    "for i in range(2, 13):\n",
    "    print(\"Number of \", i, \"'s =\", (rolls_sum == i).sum(), \"| Probability =\", 100 * (rolls_sum == i).sum() / n_toss, \"%\")\n"
   ]
  },
  {
   "cell_type": "markdown",
   "metadata": {},
   "source": [
    "__Q4.3 (8 points): Suppose you roll an uneven dice 5 times, what is the probability of getting '4' exactly 3 times? The probability for each face of the dice is as follows.__\n",
    "\n",
    "      * P(1) = 0.10, P(2) = 0.15, P(3)=0.20, P(4) = 0.25, P(5) = 0.20, P(6) = 0.10\n",
    "\n",
    "Write a simulation of 1,000,000 trials for the answer."
   ]
  },
  {
   "cell_type": "code",
   "execution_count": 91,
   "metadata": {},
   "outputs": [
    {
     "name": "stdout",
     "output_type": "stream",
     "text": [
      "Number of  1 's = 100416 | Probability = 10.0416 %\n",
      "Number of  2 's = 148808 | Probability = 14.8808 %\n",
      "Number of  3 's = 201194 | Probability = 20.1194 %\n",
      "Number of  4 's = 249678 | Probability = 24.9678 %\n",
      "Number of  5 's = 199955 | Probability = 19.9955 %\n",
      "Number of  6 's = 99949 | Probability = 9.9949 %\n"
     ]
    }
   ],
   "source": [
    "probability = np.array([.1, .15, .2, .25, .2, .1])\n",
    "rolls_loaded = np.array([np.random.choice(die, p=probability) for _ in range(n_toss)])\n",
    "\n",
    "\n",
    "for i in range(1,7):\n",
    "    print(\"Number of \", i, \"'s =\", (rolls_loaded == i).sum(), \"| Probability =\", 100 * (rolls_loaded == i).sum() / n_toss, \"%\")"
   ]
  },
  {
   "cell_type": "markdown",
   "metadata": {},
   "source": [
    "<h3>Q5: Picking Marbles (20 Points)</h3>\n",
    "\n",
    "__Q5.1 (10 points): You have a bag of 12 marbles, 6 are red, 4 are white, and 2 are blue. You randomly pick three marbles from the bag. What is the probability of drawing 1 red, 1 white, and 1 blue (in this order)? The theoretical result is 2/55 ~3.636%. Write a simulation of 100,000 trials to verify the answer.__ \n",
    "\n",
    "Hint: You can follow the steps here:\n",
    "1. Create an array of 12 elements, bag = np.array(['r','r','r','r','r','r','w','w','w','w','b','b'])\n",
    "2. Create the desired outcome of 3 marbels of red, white, and blue, bag3 = np.array(['r','w','b'])\n",
    "3. For each of the trial, you use np.random.permutation() to shuffle the bag array\n",
    "4. Create a Boolean array by comparing the first three elements of the shuffled array with the desired outcome.\n",
    "5. If the values the Boolean array are all True --> you have a match"
   ]
  },
  {
   "cell_type": "code",
   "execution_count": null,
   "metadata": {},
   "outputs": [],
   "source": []
  },
  {
   "cell_type": "markdown",
   "metadata": {},
   "source": [
    "__Q5.2 (10 points) With the same bag, you again pick out three marbles. However, the order does not matter this time. What is the probability of drawing 1 red, 1 white, and 1 blue? The theoretical result is 12/55 ~21.82%. Write a simulation of 100,000 trials to verify the answer.__\n",
    "\n",
    "Hint: This question is different from Q5.1 since the order of the drawing is not important as long as you have {r,w,b} in the outcome. You should look for another way to compare the desired outcome with the shuffled arrays."
   ]
  },
  {
   "cell_type": "code",
   "execution_count": null,
   "metadata": {},
   "outputs": [],
   "source": []
  },
  {
   "cell_type": "markdown",
   "metadata": {},
   "source": [
    "### Q6: Birthday Problem & Normal Distribution (23 Points)\n",
    "\n",
    "__Q6.1 (8 points) With 30 people in the same room, what is the probability that at least three people are sharing the same birthday? Write a simulation of 100,000 trials to find the answer.__"
   ]
  },
  {
   "cell_type": "code",
   "execution_count": null,
   "metadata": {},
   "outputs": [],
   "source": []
  },
  {
   "cell_type": "markdown",
   "metadata": {},
   "source": [
    "__Q6.2 (8 points) With 30 people in the same room, what is the probability that Exactly three people are sharing the same birthday? Write a simulation of 100,000 trials to find the answer.__"
   ]
  },
  {
   "cell_type": "code",
   "execution_count": null,
   "metadata": {},
   "outputs": [],
   "source": []
  },
  {
   "cell_type": "markdown",
   "metadata": {},
   "source": [
    "__Q6.3 (7 poins) A company produces light bulbs, and the weight of each bulb is normally distributed with a mean of 50 grams and a standard deviation of 2 grams. If the company wants to package the bulbs in boxes of 10, what is the probability that the total weight of the bulbs in a box is between 495 and 505 grams? Write a simulation of 100,000 trials to answer this.__"
   ]
  },
  {
   "cell_type": "code",
   "execution_count": null,
   "metadata": {},
   "outputs": [],
   "source": []
  }
 ],
 "metadata": {
  "kernelspec": {
   "display_name": "4040",
   "language": "python",
   "name": "python3"
  },
  "language_info": {
   "codemirror_mode": {
    "name": "ipython",
    "version": 3
   },
   "file_extension": ".py",
   "mimetype": "text/x-python",
   "name": "python",
   "nbconvert_exporter": "python",
   "pygments_lexer": "ipython3",
   "version": "3.11.9"
  }
 },
 "nbformat": 4,
 "nbformat_minor": 4
}
