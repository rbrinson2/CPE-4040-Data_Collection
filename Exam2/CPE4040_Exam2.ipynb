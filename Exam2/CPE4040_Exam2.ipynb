{
 "cells": [
  {
   "cell_type": "markdown",
   "metadata": {},
   "source": [
    "# <center><h2> Exam 2</h2></center>"
   ]
  },
  {
   "cell_type": "markdown",
   "metadata": {},
   "source": [
    "### General guidelines:\n",
    " * Do your coding in a clean and logical manner.\n",
    " * __Make comments on your codes. Make insightful observations after the analysis.__\n",
    " * This is an individual assignment.\n",
    " * __No plagiarism__: you are encouraged to do reseach, however, do your own work. Do not copy-and-paste AI's or other people's work.    \n",
    "\n",
    "### Submission:\n",
    " * You have to submit this notebook file and the pdf file - remember to add your name in in the filenames. "
   ]
  },
  {
   "cell_type": "markdown",
   "metadata": {},
   "source": [
    "<h3> Import Python Tool Modules First</h3>"
   ]
  },
  {
   "cell_type": "code",
   "execution_count": 26,
   "metadata": {},
   "outputs": [],
   "source": [
    "import numpy as np\n",
    "import pandas as pd"
   ]
  },
  {
   "cell_type": "code",
   "execution_count": 27,
   "metadata": {},
   "outputs": [],
   "source": [
    "import matplotlib.pyplot as plt\n",
    "import seaborn as sns"
   ]
  },
  {
   "cell_type": "markdown",
   "metadata": {},
   "source": [
    "<h3>Part 1: Baby Name Dataset Analysis (30 Points)</h3>\n",
    "\n",
    "In this dataset, baby names in the US from 2004 to 2014 are tablulated by gender, year, State, and number of counts.\n",
    "\n",
    "#### First step: import the dataset (in csv format) from this [address](https://raw.githubusercontent.com/guipsamora/pandas_exercises/master/06_Stats/US_Baby_Names/US_Baby_Names_right.csv). "
   ]
  },
  {
   "cell_type": "markdown",
   "metadata": {},
   "source": [
    "<h4>Q1. Read the dataset and assign it to a dataframe called \"baby\". Display the first 10 rows of the dataset. What are the column labels?</h4>"
   ]
  },
  {
   "cell_type": "code",
   "execution_count": 28,
   "metadata": {},
   "outputs": [
    {
     "data": {
      "text/html": [
       "<div>\n",
       "<style scoped>\n",
       "    .dataframe tbody tr th:only-of-type {\n",
       "        vertical-align: middle;\n",
       "    }\n",
       "\n",
       "    .dataframe tbody tr th {\n",
       "        vertical-align: top;\n",
       "    }\n",
       "\n",
       "    .dataframe thead th {\n",
       "        text-align: right;\n",
       "    }\n",
       "</style>\n",
       "<table border=\"1\" class=\"dataframe\">\n",
       "  <thead>\n",
       "    <tr style=\"text-align: right;\">\n",
       "      <th></th>\n",
       "      <th>Unnamed: 0</th>\n",
       "      <th>Id</th>\n",
       "      <th>Name</th>\n",
       "      <th>Year</th>\n",
       "      <th>Gender</th>\n",
       "      <th>State</th>\n",
       "      <th>Count</th>\n",
       "    </tr>\n",
       "  </thead>\n",
       "  <tbody>\n",
       "    <tr>\n",
       "      <th>0</th>\n",
       "      <td>11349</td>\n",
       "      <td>11350</td>\n",
       "      <td>Emma</td>\n",
       "      <td>2004</td>\n",
       "      <td>F</td>\n",
       "      <td>AK</td>\n",
       "      <td>62</td>\n",
       "    </tr>\n",
       "    <tr>\n",
       "      <th>1</th>\n",
       "      <td>11350</td>\n",
       "      <td>11351</td>\n",
       "      <td>Madison</td>\n",
       "      <td>2004</td>\n",
       "      <td>F</td>\n",
       "      <td>AK</td>\n",
       "      <td>48</td>\n",
       "    </tr>\n",
       "    <tr>\n",
       "      <th>2</th>\n",
       "      <td>11351</td>\n",
       "      <td>11352</td>\n",
       "      <td>Hannah</td>\n",
       "      <td>2004</td>\n",
       "      <td>F</td>\n",
       "      <td>AK</td>\n",
       "      <td>46</td>\n",
       "    </tr>\n",
       "    <tr>\n",
       "      <th>3</th>\n",
       "      <td>11352</td>\n",
       "      <td>11353</td>\n",
       "      <td>Grace</td>\n",
       "      <td>2004</td>\n",
       "      <td>F</td>\n",
       "      <td>AK</td>\n",
       "      <td>44</td>\n",
       "    </tr>\n",
       "    <tr>\n",
       "      <th>4</th>\n",
       "      <td>11353</td>\n",
       "      <td>11354</td>\n",
       "      <td>Emily</td>\n",
       "      <td>2004</td>\n",
       "      <td>F</td>\n",
       "      <td>AK</td>\n",
       "      <td>41</td>\n",
       "    </tr>\n",
       "    <tr>\n",
       "      <th>5</th>\n",
       "      <td>11354</td>\n",
       "      <td>11355</td>\n",
       "      <td>Abigail</td>\n",
       "      <td>2004</td>\n",
       "      <td>F</td>\n",
       "      <td>AK</td>\n",
       "      <td>37</td>\n",
       "    </tr>\n",
       "    <tr>\n",
       "      <th>6</th>\n",
       "      <td>11355</td>\n",
       "      <td>11356</td>\n",
       "      <td>Olivia</td>\n",
       "      <td>2004</td>\n",
       "      <td>F</td>\n",
       "      <td>AK</td>\n",
       "      <td>33</td>\n",
       "    </tr>\n",
       "    <tr>\n",
       "      <th>7</th>\n",
       "      <td>11356</td>\n",
       "      <td>11357</td>\n",
       "      <td>Isabella</td>\n",
       "      <td>2004</td>\n",
       "      <td>F</td>\n",
       "      <td>AK</td>\n",
       "      <td>30</td>\n",
       "    </tr>\n",
       "    <tr>\n",
       "      <th>8</th>\n",
       "      <td>11357</td>\n",
       "      <td>11358</td>\n",
       "      <td>Alyssa</td>\n",
       "      <td>2004</td>\n",
       "      <td>F</td>\n",
       "      <td>AK</td>\n",
       "      <td>29</td>\n",
       "    </tr>\n",
       "    <tr>\n",
       "      <th>9</th>\n",
       "      <td>11358</td>\n",
       "      <td>11359</td>\n",
       "      <td>Sophia</td>\n",
       "      <td>2004</td>\n",
       "      <td>F</td>\n",
       "      <td>AK</td>\n",
       "      <td>28</td>\n",
       "    </tr>\n",
       "  </tbody>\n",
       "</table>\n",
       "</div>"
      ],
      "text/plain": [
       "   Unnamed: 0     Id      Name  Year Gender State  Count\n",
       "0       11349  11350      Emma  2004      F    AK     62\n",
       "1       11350  11351   Madison  2004      F    AK     48\n",
       "2       11351  11352    Hannah  2004      F    AK     46\n",
       "3       11352  11353     Grace  2004      F    AK     44\n",
       "4       11353  11354     Emily  2004      F    AK     41\n",
       "5       11354  11355   Abigail  2004      F    AK     37\n",
       "6       11355  11356    Olivia  2004      F    AK     33\n",
       "7       11356  11357  Isabella  2004      F    AK     30\n",
       "8       11357  11358    Alyssa  2004      F    AK     29\n",
       "9       11358  11359    Sophia  2004      F    AK     28"
      ]
     },
     "execution_count": 28,
     "metadata": {},
     "output_type": "execute_result"
    }
   ],
   "source": [
    "url = \"https://raw.githubusercontent.com/guipsamora/pandas_exercises/master/06_Stats/US_Baby_Names/US_Baby_Names_right.csv\"\n",
    "baby = pd.read_csv(url)\n",
    "baby.head(n = 10)"
   ]
  },
  {
   "cell_type": "markdown",
   "metadata": {},
   "source": [
    "<h4>Q2. The first two columns \"Unnamed: 0\" and \"Id\" are not useful. Please remove them and display the first 5 rows of the new dataframe.</h4> "
   ]
  },
  {
   "cell_type": "code",
   "execution_count": 29,
   "metadata": {},
   "outputs": [
    {
     "data": {
      "text/html": [
       "<div>\n",
       "<style scoped>\n",
       "    .dataframe tbody tr th:only-of-type {\n",
       "        vertical-align: middle;\n",
       "    }\n",
       "\n",
       "    .dataframe tbody tr th {\n",
       "        vertical-align: top;\n",
       "    }\n",
       "\n",
       "    .dataframe thead th {\n",
       "        text-align: right;\n",
       "    }\n",
       "</style>\n",
       "<table border=\"1\" class=\"dataframe\">\n",
       "  <thead>\n",
       "    <tr style=\"text-align: right;\">\n",
       "      <th></th>\n",
       "      <th></th>\n",
       "      <th></th>\n",
       "      <th>Name</th>\n",
       "      <th>Year</th>\n",
       "      <th>Gender</th>\n",
       "      <th>State</th>\n",
       "      <th>Count</th>\n",
       "    </tr>\n",
       "  </thead>\n",
       "  <tbody>\n",
       "    <tr>\n",
       "      <th>0</th>\n",
       "      <td>11349</td>\n",
       "      <td>11350</td>\n",
       "      <td>Emma</td>\n",
       "      <td>2004</td>\n",
       "      <td>F</td>\n",
       "      <td>AK</td>\n",
       "      <td>62</td>\n",
       "    </tr>\n",
       "    <tr>\n",
       "      <th>1</th>\n",
       "      <td>11350</td>\n",
       "      <td>11351</td>\n",
       "      <td>Madison</td>\n",
       "      <td>2004</td>\n",
       "      <td>F</td>\n",
       "      <td>AK</td>\n",
       "      <td>48</td>\n",
       "    </tr>\n",
       "    <tr>\n",
       "      <th>2</th>\n",
       "      <td>11351</td>\n",
       "      <td>11352</td>\n",
       "      <td>Hannah</td>\n",
       "      <td>2004</td>\n",
       "      <td>F</td>\n",
       "      <td>AK</td>\n",
       "      <td>46</td>\n",
       "    </tr>\n",
       "    <tr>\n",
       "      <th>3</th>\n",
       "      <td>11352</td>\n",
       "      <td>11353</td>\n",
       "      <td>Grace</td>\n",
       "      <td>2004</td>\n",
       "      <td>F</td>\n",
       "      <td>AK</td>\n",
       "      <td>44</td>\n",
       "    </tr>\n",
       "    <tr>\n",
       "      <th>4</th>\n",
       "      <td>11353</td>\n",
       "      <td>11354</td>\n",
       "      <td>Emily</td>\n",
       "      <td>2004</td>\n",
       "      <td>F</td>\n",
       "      <td>AK</td>\n",
       "      <td>41</td>\n",
       "    </tr>\n",
       "  </tbody>\n",
       "</table>\n",
       "</div>"
      ],
      "text/plain": [
       "                    Name  Year Gender State  Count\n",
       "0  11349  11350     Emma  2004      F    AK     62\n",
       "1  11350  11351  Madison  2004      F    AK     48\n",
       "2  11351  11352   Hannah  2004      F    AK     46\n",
       "3  11352  11353    Grace  2004      F    AK     44\n",
       "4  11353  11354    Emily  2004      F    AK     41"
      ]
     },
     "execution_count": 29,
     "metadata": {},
     "output_type": "execute_result"
    }
   ],
   "source": [
    "# Set the unwanted columns to an empty string value\n",
    "baby = baby.rename(columns={\"Unnamed: 0\": \"\", \"Id\": \"\"})\n",
    "baby.head()"
   ]
  },
  {
   "cell_type": "markdown",
   "metadata": {},
   "source": [
    "<h4>Q3. According to this dataset, how many babies were born each year from 2004 to 2014? Show the results and plot a vertical bar chart for the number of new-borns from 2004 to 2014. Properly label the x-axis and the y-axis.</h4>"
   ]
  },
  {
   "cell_type": "code",
   "execution_count": 30,
   "metadata": {},
   "outputs": [
    {
     "data": {
      "text/plain": [
       "<Axes: xlabel='Year', ylabel='count'>"
      ]
     },
     "execution_count": 30,
     "metadata": {},
     "output_type": "execute_result"
    },
    {
     "data": {
      "image/png": "[encoded data removed]",
      "text/plain": [
       "<Figure size 640x480 with 1 Axes>"
      ]
     },
     "metadata": {},
     "output_type": "display_data"
    }
   ],
   "source": [
    "# Select the column Year, count the occurnce of the year,\n",
    "# then sort by the index\n",
    "year_counts = baby['Year'].value_counts().sort_index()\n",
    "\n",
    "# Use seaboarn to plot the bar graph\n",
    "sns.barplot(year_counts)"
   ]
  },
  {
   "cell_type": "markdown",
   "metadata": {},
   "source": [
    "<h4>Q4. How many boys (M) and girls (F) were born each year from 2004 to 2014? Show the results and plot a grouped bar chart, one for boys and one for girls. Please add a legend. </h4>"
   ]
  },
  {
   "cell_type": "code",
   "execution_count": 31,
   "metadata": {},
   "outputs": [
    {
     "data": {
      "text/plain": [
       "<Axes: xlabel='Year', ylabel='count'>"
      ]
     },
     "execution_count": 31,
     "metadata": {},
     "output_type": "execute_result"
    },
    {
     "data": {
      "image/png": "[encoded data removed]",
      "text/plain": [
       "<Figure size 640x480 with 1 Axes>"
      ]
     },
     "metadata": {},
     "output_type": "display_data"
    }
   ],
   "source": [
    "# Create a new dataframe that combines, year, gender, and separates by gender\n",
    "year_gender = baby[['Year', 'Gender']].value_counts().sort_index().to_frame()\n",
    "\n",
    "# Pass the new dataframe to seaborn \n",
    "sns.barplot(data=year_gender, x='Year', y='count', hue='Gender')"
   ]
  },
  {
   "cell_type": "markdown",
   "metadata": {},
   "source": [
    "<h4>Q5. Are there more unique male names or female names in the dataset?</h4>"
   ]
  },
  {
   "cell_type": "code",
   "execution_count": 32,
   "metadata": {},
   "outputs": [
    {
     "name": "stdout",
     "output_type": "stream",
     "text": [
      "Gender\n",
      "F    10929\n",
      "M     8012\n",
      "Name: count, dtype: int64\n"
     ]
    }
   ],
   "source": [
    "# First sort the main dataframe into just name and gender\n",
    "# and delete the duplicates\n",
    "name = baby[['Name', 'Gender']].drop_duplicates()\n",
    "\n",
    "# Then count the number of times each gender occurs\n",
    "gender = name['Gender'].value_counts()\n",
    "print(gender)"
   ]
  },
  {
   "cell_type": "markdown",
   "metadata": {},
   "source": [
    "<h4>Q6. What is the most popular boy's name from 2004 to 2014? What is the most popular girl's name from 2004 to 2014?</h4>"
   ]
  },
  {
   "cell_type": "code",
   "execution_count": 33,
   "metadata": {},
   "outputs": [
    {
     "name": "stdout",
     "output_type": "stream",
     "text": [
      "Name\n",
      "Daniel    4167\n",
      "Name: Count, dtype: int64\n",
      "Name\n",
      "Sophia    3634\n",
      "Name: Count, dtype: int64\n"
     ]
    }
   ],
   "source": [
    "boys = baby.loc[baby['Gender'] == 'M']\n",
    "boys_count = boys.groupby('Name')['Count'].max().sort_values(ascending=False)\n",
    "print(boys_count.head(n = 1))\n",
    "\n",
    "\n",
    "girls = baby.loc[baby['Gender'] == 'F']\n",
    "girls_count = girls.groupby('Name')['Count'].max().sort_values(ascending=False)\n",
    "print(girls_count.head(n = 1))"
   ]
  },
  {
   "cell_type": "markdown",
   "metadata": {},
   "source": [
    "<h4>Q7. For the State of Georgia, what was the most popular boy's name in 2008? How about girl's name?</h4>"
   ]
  },
  {
   "cell_type": "code",
   "execution_count": 34,
   "metadata": {
    "scrolled": true
   },
   "outputs": [
    {
     "name": "stdout",
     "output_type": "stream",
     "text": [
      "Name\n",
      "William    914\n",
      "Name: Count, dtype: int64\n",
      "Name\n",
      "Madison    683\n",
      "Name: Count, dtype: int64\n"
     ]
    }
   ],
   "source": [
    "# Grab the values of year 2008\n",
    "year = baby.loc[baby['Year'] == 2008]\n",
    "state = year.loc[year['State'] == 'GA']\n",
    "\n",
    "# Grab only the boys, and then count the number of times\n",
    "# each name appears, and then grab the top of the graph\n",
    "boys = state.loc[baby['Gender'] == 'M']\n",
    "boys_count = boys.groupby('Name')['Count'].max().sort_values(ascending=False)\n",
    "print(boys_count.head(n = 1))\n",
    "\n",
    "girls = state.loc[baby['Gender'] == 'F']\n",
    "girls_count = girls.groupby('Name')['Count'].max().sort_values(ascending=False)\n",
    "print(girls_count.head(n = 1))"
   ]
  },
  {
   "cell_type": "markdown",
   "metadata": {},
   "source": [
    "<h4>Q8. Let's see how popular your name is in the US. </h4>\n",
    "\n",
    "<h4>How many babies in this dataset have the same first name as you? </h4>"
   ]
  },
  {
   "cell_type": "code",
   "execution_count": 35,
   "metadata": {},
   "outputs": [
    {
     "name": "stdout",
     "output_type": "stream",
     "text": [
      "Name\n",
      "Ryan    2518\n",
      "Name: Count, dtype: int64\n"
     ]
    }
   ],
   "source": [
    "ryan = baby.loc[baby['Name'] == 'Ryan']\n",
    "ryan_count = ryan.groupby('Name')['Count'].max()\n",
    "print(ryan_count)"
   ]
  },
  {
   "cell_type": "markdown",
   "metadata": {},
   "source": [
    "<h4>Q9. Which states experienced the greatest increase in the total number of newborns between 2004 and 2014? </h4>\n",
    "<h4>How about the bottom five states with the lowest increase during the same period? So, for each state, you add up all the baby counts from 2004 to 2014 and figure out what the top 5 and bottom 5 states are.</h4>\n",
    "\n",
    "\n",
    "\n"
   ]
  },
  {
   "cell_type": "code",
   "execution_count": 36,
   "metadata": {},
   "outputs": [
    {
     "name": "stdout",
     "output_type": "stream",
     "text": [
      "Top 5: \n",
      "\n",
      "   State   Growth\n",
      "43    TX  12199.0\n",
      "47    WA   3924.0\n",
      "28    ND   1651.0\n",
      "40    SC   1196.0\n",
      "27    NC    849.0\n",
      "\n",
      "Bottom 5: \n",
      "\n",
      "   State   Growth\n",
      "4     CA -44041.0\n",
      "14    IL -22207.0\n",
      "22    MI -14691.0\n",
      "34    NY -13170.0\n",
      "35    OH -11843.0\n"
     ]
    }
   ],
   "source": [
    "# First I grouped the dataframe by state and year and summed them\n",
    "state_year = baby.groupby(['State', 'Year']).sum().reset_index()\n",
    "\n",
    "# Then I created a new column that calculated the differences and replaced any\n",
    "# NaN with 0\n",
    "state_year['Growth'] = state_year.groupby('State')['Count'].diff().fillna(0)\n",
    "\n",
    "# Then grouping by state I summed the growth column giving the overall\n",
    "# growth of each state\n",
    "state_growth = state_year.groupby('State')['Growth'].sum().reset_index()\n",
    "\n",
    "# Then I sorted from high to low and low to high\n",
    "state_growth_high = state_growth.sort_values(by='Growth', ascending=False)\n",
    "state_growth_low = state_growth.sort_values(by='Growth', ascending=True)\n",
    "\n",
    "print(\"Top 5: \\n\")\n",
    "print(state_growth_high.head())\n",
    "\n",
    "print(\"\\nBottom 5: \\n\")\n",
    "print(state_growth_low.head())"
   ]
  },
  {
   "cell_type": "markdown",
   "metadata": {},
   "source": [
    "# Part 2: The PIMA Diabetic Data Set \n",
    "\n",
    "This dataset is originally from the National Institute of Diabetes and Digestive and Kidney Diseases. It consists of several diagnostic measurements from female patients at least 21 years old of Pima Indian heritage. It also shows the diagnosis on whether the patients have diabetes mellitus disease.\n",
    "\n",
    "### The filename of the dataset is \"diabetes.csv\" that comes with this assignment.\n",
    "\n",
    "The dataset contains the following features/columns:\n",
    "\n",
    " * __Pregnancies__: Number of times pregnant\n",
    " * __Glucose__: Plasma glucose concentration at 2 hour in an oral glucose tolerance test (mg/dL)\n",
    " * __BloodPressure__: Diastolic blood pressure (mm Hg)\n",
    " * __SkinThickness__: Triceps skin fold thickness (mm)\n",
    " * __Insulin__: 2-hour serum insulin level (mu U/ml)\n",
    " * __BMI__: Body mass index (weight in kg/(height in m)^2)\n",
    " * __DiabetesPedigreeFunction__: a function which scores likelihood of diabetes based on family history\n",
    " * __Age__: age of patients (years)\n",
    " * __Outcome__: class variable 0 or 1 indicating disease (0: non-diabetic, 1: diabetic)\n"
   ]
  },
  {
   "cell_type": "markdown",
   "metadata": {},
   "source": [
    "## Part 2.1: Data Preparation and Cleaning (15 points)\n",
    "\n",
    "Some typical tasks in this part include:\n",
    " 1. Load the dataset in a data frame\n",
    " 2. Examine the dataset attributes: index, columns, range of values etc.\n",
    " 3. Handle missing and invalid data\n",
    " 4. Identify and remove outliers"
   ]
  },
  {
   "cell_type": "markdown",
   "metadata": {},
   "source": [
    "### Examine the dataset¶\n",
    "**Q1: Load the dataset in a data frame and show the dataset attributes: index, columns, range of values etc.**"
   ]
  },
  {
   "cell_type": "code",
   "execution_count": 37,
   "metadata": {},
   "outputs": [
    {
     "data": {
      "text/html": [
       "<div>\n",
       "<style scoped>\n",
       "    .dataframe tbody tr th:only-of-type {\n",
       "        vertical-align: middle;\n",
       "    }\n",
       "\n",
       "    .dataframe tbody tr th {\n",
       "        vertical-align: top;\n",
       "    }\n",
       "\n",
       "    .dataframe thead th {\n",
       "        text-align: right;\n",
       "    }\n",
       "</style>\n",
       "<table border=\"1\" class=\"dataframe\">\n",
       "  <thead>\n",
       "    <tr style=\"text-align: right;\">\n",
       "      <th></th>\n",
       "      <th>Pregnancies</th>\n",
       "      <th>Glucose</th>\n",
       "      <th>BloodPressure</th>\n",
       "      <th>SkinThickness</th>\n",
       "      <th>Insulin</th>\n",
       "      <th>BMI</th>\n",
       "      <th>DiabetesPedigreeFunction</th>\n",
       "      <th>Age</th>\n",
       "    </tr>\n",
       "  </thead>\n",
       "  <tbody>\n",
       "    <tr>\n",
       "      <th>count</th>\n",
       "      <td>768.000000</td>\n",
       "      <td>768.000000</td>\n",
       "      <td>768.000000</td>\n",
       "      <td>768.000000</td>\n",
       "      <td>768.000000</td>\n",
       "      <td>768.000000</td>\n",
       "      <td>768.000000</td>\n",
       "      <td>768.000000</td>\n",
       "    </tr>\n",
       "    <tr>\n",
       "      <th>mean</th>\n",
       "      <td>3.845052</td>\n",
       "      <td>121.656250</td>\n",
       "      <td>72.386719</td>\n",
       "      <td>29.108073</td>\n",
       "      <td>140.671875</td>\n",
       "      <td>32.455208</td>\n",
       "      <td>0.471876</td>\n",
       "      <td>33.240885</td>\n",
       "    </tr>\n",
       "    <tr>\n",
       "      <th>std</th>\n",
       "      <td>3.369578</td>\n",
       "      <td>30.438286</td>\n",
       "      <td>12.096642</td>\n",
       "      <td>8.791221</td>\n",
       "      <td>86.383060</td>\n",
       "      <td>6.875177</td>\n",
       "      <td>0.331329</td>\n",
       "      <td>11.760232</td>\n",
       "    </tr>\n",
       "    <tr>\n",
       "      <th>min</th>\n",
       "      <td>0.000000</td>\n",
       "      <td>44.000000</td>\n",
       "      <td>24.000000</td>\n",
       "      <td>7.000000</td>\n",
       "      <td>14.000000</td>\n",
       "      <td>18.200000</td>\n",
       "      <td>0.078000</td>\n",
       "      <td>21.000000</td>\n",
       "    </tr>\n",
       "    <tr>\n",
       "      <th>25%</th>\n",
       "      <td>1.000000</td>\n",
       "      <td>99.750000</td>\n",
       "      <td>64.000000</td>\n",
       "      <td>25.000000</td>\n",
       "      <td>121.500000</td>\n",
       "      <td>27.500000</td>\n",
       "      <td>0.243750</td>\n",
       "      <td>24.000000</td>\n",
       "    </tr>\n",
       "    <tr>\n",
       "      <th>50%</th>\n",
       "      <td>3.000000</td>\n",
       "      <td>117.000000</td>\n",
       "      <td>72.000000</td>\n",
       "      <td>29.000000</td>\n",
       "      <td>125.000000</td>\n",
       "      <td>32.300000</td>\n",
       "      <td>0.372500</td>\n",
       "      <td>29.000000</td>\n",
       "    </tr>\n",
       "    <tr>\n",
       "      <th>75%</th>\n",
       "      <td>6.000000</td>\n",
       "      <td>140.250000</td>\n",
       "      <td>80.000000</td>\n",
       "      <td>32.000000</td>\n",
       "      <td>127.250000</td>\n",
       "      <td>36.600000</td>\n",
       "      <td>0.626250</td>\n",
       "      <td>41.000000</td>\n",
       "    </tr>\n",
       "    <tr>\n",
       "      <th>max</th>\n",
       "      <td>17.000000</td>\n",
       "      <td>199.000000</td>\n",
       "      <td>122.000000</td>\n",
       "      <td>99.000000</td>\n",
       "      <td>846.000000</td>\n",
       "      <td>67.100000</td>\n",
       "      <td>2.420000</td>\n",
       "      <td>81.000000</td>\n",
       "    </tr>\n",
       "  </tbody>\n",
       "</table>\n",
       "</div>"
      ],
      "text/plain": [
       "       Pregnancies     Glucose  BloodPressure  SkinThickness     Insulin  \\\n",
       "count   768.000000  768.000000     768.000000     768.000000  768.000000   \n",
       "mean      3.845052  121.656250      72.386719      29.108073  140.671875   \n",
       "std       3.369578   30.438286      12.096642       8.791221   86.383060   \n",
       "min       0.000000   44.000000      24.000000       7.000000   14.000000   \n",
       "25%       1.000000   99.750000      64.000000      25.000000  121.500000   \n",
       "50%       3.000000  117.000000      72.000000      29.000000  125.000000   \n",
       "75%       6.000000  140.250000      80.000000      32.000000  127.250000   \n",
       "max      17.000000  199.000000     122.000000      99.000000  846.000000   \n",
       "\n",
       "              BMI  DiabetesPedigreeFunction         Age  \n",
       "count  768.000000                768.000000  768.000000  \n",
       "mean    32.455208                  0.471876   33.240885  \n",
       "std      6.875177                  0.331329   11.760232  \n",
       "min     18.200000                  0.078000   21.000000  \n",
       "25%     27.500000                  0.243750   24.000000  \n",
       "50%     32.300000                  0.372500   29.000000  \n",
       "75%     36.600000                  0.626250   41.000000  \n",
       "max     67.100000                  2.420000   81.000000  "
      ]
     },
     "execution_count": 37,
     "metadata": {},
     "output_type": "execute_result"
    }
   ],
   "source": [
    "diabetes_df = pd.read_csv(\"diabetes.csv\")\n",
    "diabetes_df.describe()"
   ]
  },
  {
   "cell_type": "markdown",
   "metadata": {},
   "source": [
    "### Handling missing data:\n",
    "   **Q2: Are there missing values in the data set? Write a code to find out.**"
   ]
  },
  {
   "cell_type": "markdown",
   "metadata": {},
   "source": [
    "### Missing value analysis"
   ]
  },
  {
   "cell_type": "code",
   "execution_count": 38,
   "metadata": {},
   "outputs": [
    {
     "data": {
      "text/plain": [
       "Pregnancies                 0\n",
       "Glucose                     0\n",
       "BloodPressure               0\n",
       "SkinThickness               0\n",
       "Insulin                     0\n",
       "BMI                         0\n",
       "DiabetesPedigreeFunction    0\n",
       "Age                         0\n",
       "class                       0\n",
       "dtype: int64"
      ]
     },
     "execution_count": 38,
     "metadata": {},
     "output_type": "execute_result"
    }
   ],
   "source": [
    "diabetes_df.isna().sum()\n",
    "diabetes_df.isnull().sum()"
   ]
  },
  {
   "cell_type": "markdown",
   "metadata": {},
   "source": [
    "It appear that there is no missing data"
   ]
  },
  {
   "cell_type": "markdown",
   "metadata": {},
   "source": [
    " **Q3: You may notice some of the columns have unreasonable zero values (for example, Glucose and BMI). Identify those columns and replace the zeros with the median value of that column.**"
   ]
  },
  {
   "cell_type": "code",
   "execution_count": 39,
   "metadata": {},
   "outputs": [
    {
     "data": {
      "text/html": [
       "<div>\n",
       "<style scoped>\n",
       "    .dataframe tbody tr th:only-of-type {\n",
       "        vertical-align: middle;\n",
       "    }\n",
       "\n",
       "    .dataframe tbody tr th {\n",
       "        vertical-align: top;\n",
       "    }\n",
       "\n",
       "    .dataframe thead th {\n",
       "        text-align: right;\n",
       "    }\n",
       "</style>\n",
       "<table border=\"1\" class=\"dataframe\">\n",
       "  <thead>\n",
       "    <tr style=\"text-align: right;\">\n",
       "      <th></th>\n",
       "      <th>Pregnancies</th>\n",
       "      <th>Glucose</th>\n",
       "      <th>BloodPressure</th>\n",
       "      <th>SkinThickness</th>\n",
       "      <th>Insulin</th>\n",
       "      <th>BMI</th>\n",
       "      <th>DiabetesPedigreeFunction</th>\n",
       "      <th>Age</th>\n",
       "    </tr>\n",
       "  </thead>\n",
       "  <tbody>\n",
       "    <tr>\n",
       "      <th>count</th>\n",
       "      <td>768.000000</td>\n",
       "      <td>768.000000</td>\n",
       "      <td>768.000000</td>\n",
       "      <td>768.000000</td>\n",
       "      <td>768.000000</td>\n",
       "      <td>768.000000</td>\n",
       "      <td>768.000000</td>\n",
       "      <td>768.000000</td>\n",
       "    </tr>\n",
       "    <tr>\n",
       "      <th>mean</th>\n",
       "      <td>3.845052</td>\n",
       "      <td>121.656250</td>\n",
       "      <td>72.386719</td>\n",
       "      <td>29.108073</td>\n",
       "      <td>140.671875</td>\n",
       "      <td>32.455208</td>\n",
       "      <td>0.471876</td>\n",
       "      <td>33.240885</td>\n",
       "    </tr>\n",
       "    <tr>\n",
       "      <th>std</th>\n",
       "      <td>3.369578</td>\n",
       "      <td>30.438286</td>\n",
       "      <td>12.096642</td>\n",
       "      <td>8.791221</td>\n",
       "      <td>86.383060</td>\n",
       "      <td>6.875177</td>\n",
       "      <td>0.331329</td>\n",
       "      <td>11.760232</td>\n",
       "    </tr>\n",
       "    <tr>\n",
       "      <th>min</th>\n",
       "      <td>0.000000</td>\n",
       "      <td>44.000000</td>\n",
       "      <td>24.000000</td>\n",
       "      <td>7.000000</td>\n",
       "      <td>14.000000</td>\n",
       "      <td>18.200000</td>\n",
       "      <td>0.078000</td>\n",
       "      <td>21.000000</td>\n",
       "    </tr>\n",
       "    <tr>\n",
       "      <th>25%</th>\n",
       "      <td>1.000000</td>\n",
       "      <td>99.750000</td>\n",
       "      <td>64.000000</td>\n",
       "      <td>25.000000</td>\n",
       "      <td>121.500000</td>\n",
       "      <td>27.500000</td>\n",
       "      <td>0.243750</td>\n",
       "      <td>24.000000</td>\n",
       "    </tr>\n",
       "    <tr>\n",
       "      <th>50%</th>\n",
       "      <td>3.000000</td>\n",
       "      <td>117.000000</td>\n",
       "      <td>72.000000</td>\n",
       "      <td>29.000000</td>\n",
       "      <td>125.000000</td>\n",
       "      <td>32.300000</td>\n",
       "      <td>0.372500</td>\n",
       "      <td>29.000000</td>\n",
       "    </tr>\n",
       "    <tr>\n",
       "      <th>75%</th>\n",
       "      <td>6.000000</td>\n",
       "      <td>140.250000</td>\n",
       "      <td>80.000000</td>\n",
       "      <td>32.000000</td>\n",
       "      <td>127.250000</td>\n",
       "      <td>36.600000</td>\n",
       "      <td>0.626250</td>\n",
       "      <td>41.000000</td>\n",
       "    </tr>\n",
       "    <tr>\n",
       "      <th>max</th>\n",
       "      <td>17.000000</td>\n",
       "      <td>199.000000</td>\n",
       "      <td>122.000000</td>\n",
       "      <td>99.000000</td>\n",
       "      <td>846.000000</td>\n",
       "      <td>67.100000</td>\n",
       "      <td>2.420000</td>\n",
       "      <td>81.000000</td>\n",
       "    </tr>\n",
       "  </tbody>\n",
       "</table>\n",
       "</div>"
      ],
      "text/plain": [
       "       Pregnancies     Glucose  BloodPressure  SkinThickness     Insulin  \\\n",
       "count   768.000000  768.000000     768.000000     768.000000  768.000000   \n",
       "mean      3.845052  121.656250      72.386719      29.108073  140.671875   \n",
       "std       3.369578   30.438286      12.096642       8.791221   86.383060   \n",
       "min       0.000000   44.000000      24.000000       7.000000   14.000000   \n",
       "25%       1.000000   99.750000      64.000000      25.000000  121.500000   \n",
       "50%       3.000000  117.000000      72.000000      29.000000  125.000000   \n",
       "75%       6.000000  140.250000      80.000000      32.000000  127.250000   \n",
       "max      17.000000  199.000000     122.000000      99.000000  846.000000   \n",
       "\n",
       "              BMI  DiabetesPedigreeFunction         Age  \n",
       "count  768.000000                768.000000  768.000000  \n",
       "mean    32.455208                  0.471876   33.240885  \n",
       "std      6.875177                  0.331329   11.760232  \n",
       "min     18.200000                  0.078000   21.000000  \n",
       "25%     27.500000                  0.243750   24.000000  \n",
       "50%     32.300000                  0.372500   29.000000  \n",
       "75%     36.600000                  0.626250   41.000000  \n",
       "max     67.100000                  2.420000   81.000000  "
      ]
     },
     "execution_count": 39,
     "metadata": {},
     "output_type": "execute_result"
    }
   ],
   "source": [
    "columns = [\"Glucose\", \"BloodPressure\", \"SkinThickness\", \"Insulin\", \"BMI\"]\n",
    "for col in columns:\n",
    "    mean_val = diabetes_df[col].mean()\n",
    "    diabetes_df[col] = diabetes_df[col].replace(0, mean_val)\n",
    "\n",
    "diabetes_df.describe()\n"
   ]
  },
  {
   "cell_type": "markdown",
   "metadata": {},
   "source": [
    "### Handling Outliers:\n",
    "**Q4: Use boxplot to identify outliers for BMI data. Replace the outliers with the median BMI value** "
   ]
  },
  {
   "cell_type": "code",
   "execution_count": 40,
   "metadata": {},
   "outputs": [
    {
     "data": {
      "text/plain": [
       "<Axes: xlabel='BMI'>"
      ]
     },
     "execution_count": 40,
     "metadata": {},
     "output_type": "execute_result"
    },
    {
     "data": {
      "image/png": "[encoded data removed]",
      "text/plain": [
       "<Figure size 640x480 with 1 Axes>"
      ]
     },
     "metadata": {},
     "output_type": "display_data"
    }
   ],
   "source": [
    "bmi = diabetes_df[\"BMI\"]\n",
    "sns.boxplot(bmi, orient='h')"
   ]
  },
  {
   "cell_type": "code",
   "execution_count": 41,
   "metadata": {},
   "outputs": [
    {
     "data": {
      "text/plain": [
       "<Axes: xlabel='BMI'>"
      ]
     },
     "execution_count": 41,
     "metadata": {},
     "output_type": "execute_result"
    },
    {
     "data": {
      "image/png": "[encoded data removed]",
      "text/plain": [
       "<Figure size 640x480 with 1 Axes>"
      ]
     },
     "metadata": {},
     "output_type": "display_data"
    }
   ],
   "source": [
    "quant_high = bmi.quantile(0.98)\n",
    "bmi = bmi[bmi < quant_high]\n",
    "sns.boxplot(bmi, orient='h')"
   ]
  },
  {
   "cell_type": "markdown",
   "metadata": {},
   "source": [
    "## Part 2.2: In-Depth Analysis \n",
    "\n",
    "In this section, you will write codes to answer __three__ questions about the dataset. The first two are given and you need to come up with your own question for the third one. For example, you may analyze how individual feature (column data) impacts the outcome of the diagnosis."
   ]
  },
  {
   "cell_type": "markdown",
   "metadata": {},
   "source": [
    "### Q1. Do older women have higher chances of getting diabetes?  \n",
    "#### You may need to create a bar chart with women in different age groups and show the percentage and/or total number of diabetic vs. non-diabetic in each group."
   ]
  },
  {
   "cell_type": "code",
   "execution_count": null,
   "metadata": {},
   "outputs": [],
   "source": []
  },
  {
   "cell_type": "markdown",
   "metadata": {},
   "source": [
    "### Analysis:"
   ]
  },
  {
   "cell_type": "markdown",
   "metadata": {},
   "source": []
  },
  {
   "cell_type": "markdown",
   "metadata": {},
   "source": [
    "### 2. Based on BMI data, how many of this group of patients are considered underweight, normal, overweight, obese (class I, II, and III)? \n",
    "\n",
    "  - underwieght: 0 < BMI < 18.5\n",
    "  - normal: 18.5 =< BMI < <25\n",
    "  - overweight: 25 =< BMI <30\n",
    "  - class I: 30 =< BMI < 35\n",
    "  - class II: 35 =< BMI <40\n",
    "  - class III: BMI >= 40"
   ]
  },
  {
   "cell_type": "code",
   "execution_count": 44,
   "metadata": {},
   "outputs": [
    {
     "name": "stdout",
     "output_type": "stream",
     "text": [
      "BMI Class\n",
      "Underweight      4\n",
      "Normal         102\n",
      "Overweight     179\n",
      "Class I        235\n",
      "Class II       150\n",
      "Class III       98\n",
      "Name: count, dtype: int64\n"
     ]
    }
   ],
   "source": [
    "categories =  ['Underweight', 'Normal', 'Overweight', 'Class I', 'Class II', 'Class III']\n",
    "cat_ranges = [0, 18.5, 25, 30, 35, 40, float('inf')]\n",
    "\n",
    "diabetes_df[\"BMI Class\"] = pd.cut(diabetes_df[\"BMI\"], bins= cat_ranges, labels= categories, right=False)\n",
    "counts = diabetes_df[\"BMI Class\"].value_counts().sort_index()\n",
    "print(counts)\n"
   ]
  },
  {
   "cell_type": "markdown",
   "metadata": {},
   "source": [
    "### Analysis:"
   ]
  },
  {
   "cell_type": "code",
   "execution_count": null,
   "metadata": {},
   "outputs": [],
   "source": []
  },
  {
   "cell_type": "markdown",
   "metadata": {},
   "source": [
    "### 3. Your own question here."
   ]
  },
  {
   "cell_type": "code",
   "execution_count": null,
   "metadata": {},
   "outputs": [],
   "source": []
  },
  {
   "cell_type": "markdown",
   "metadata": {},
   "source": [
    "### Analysis:"
   ]
  },
  {
   "cell_type": "code",
   "execution_count": null,
   "metadata": {},
   "outputs": [],
   "source": []
  },
  {
   "cell_type": "markdown",
   "metadata": {},
   "source": [
    "<center><h3>Submit both the Jupyter file and the PDF file.</h3></center>"
   ]
  }
 ],
 "metadata": {
  "kernelspec": {
   "display_name": "4040",
   "language": "python",
   "name": "python3"
  },
  "language_info": {
   "codemirror_mode": {
    "name": "ipython",
    "version": 3
   },
   "file_extension": ".py",
   "mimetype": "text/x-python",
   "name": "python",
   "nbconvert_exporter": "python",
   "pygments_lexer": "ipython3",
   "version": "3.12.7"
  }
 },
 "nbformat": 4,
 "nbformat_minor": 2
}
