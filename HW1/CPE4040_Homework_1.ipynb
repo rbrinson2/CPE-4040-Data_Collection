{
 "cells": [
  {
   "cell_type": "markdown",
   "metadata": {},
   "source": [
    "<center><h1> CPE 4040 Spring 2024: Homework 2</h1></center>"
   ]
  },
  {
   "cell_type": "markdown",
   "metadata": {},
   "source": [
    "1. Write your answer in the cell provided under each question.\n",
    "2. __Write comments__ in the code to explain your thoughts.\n",
    "3. Show your execution result.\n",
    "4. Do not use pandas, NumPy or other packages we have nor covered yet. \n",
    "4. __Do your own work.__    \n",
    "\n",
    "### Submission:\n",
    " * __Submit this notebook file and the pdf version__ - remember to add your name in the filename.\n",
    " * Deadline: 11:59 pm, 2/4 (Sunday)"
   ]
  },
  {
   "cell_type": "markdown",
   "metadata": {},
   "source": [
    "### Q1: Mary Had a Little Lamb (15 Points)"
   ]
  },
  {
   "cell_type": "code",
   "execution_count": 92,
   "metadata": {},
   "outputs": [],
   "source": [
    "title = 'mary HAD a little lamb'\n",
    "\n",
    "lyrics = '''\n",
    "Mary had a little limb,\n",
    "Little limb, little limb.\n",
    "Mary had a little limb\n",
    "Its fleece was white as snow.\n",
    "\n",
    "And everywhere that Mary went,\n",
    "Mary went, Mary went,\n",
    "Everywhere that Mary went\n",
    "The limb was sure to go.\n",
    "\n",
    "It followed her to school one day,\n",
    "School one day, school one day.\n",
    "It followed her to school one day\n",
    "Which was against the rules.\n",
    "\n",
    "It made the children laugh and play,\n",
    "Laugh and play, laugh and play.\n",
    "It made the children laugh and play,\n",
    "To see a limb at school.\n",
    "'''"
   ]
  },
  {
   "cell_type": "markdown",
   "metadata": {},
   "source": [
    "### Q1.1 The song title is not properly capitalized. Use string method to correct it to \"Mary Had a Little Lamb\"."
   ]
  },
  {
   "cell_type": "code",
   "execution_count": 93,
   "metadata": {},
   "outputs": [
    {
     "name": "stdout",
     "output_type": "stream",
     "text": [
      "mary HAD a little lamb\n"
     ]
    }
   ],
   "source": [
    "title = title.title()\n",
    "print(title)\n"
   ]
  },
  {
   "cell_type": "markdown",
   "metadata": {},
   "source": [
    "### Q1.2 The word \"lamb\" is misspelled in several places. Please find them and correct the spelling. "
   ]
  },
  {
   "cell_type": "code",
   "execution_count": null,
   "metadata": {},
   "outputs": [],
   "source": []
  },
  {
   "cell_type": "markdown",
   "metadata": {},
   "source": [
    "### Q1.3 How many words are in this song, not including commas, periods, spaces and new lines?\n",
    "\n",
    "Note: Use string method split( ) first."
   ]
  },
  {
   "cell_type": "code",
   "execution_count": null,
   "metadata": {},
   "outputs": [],
   "source": []
  },
  {
   "cell_type": "markdown",
   "metadata": {},
   "source": [
    "### Q2: Palindrome or Symmetrical String (20 Points)\n",
    "\n",
    "Write a Python program to check whether an input string is palindrome or symmetrical.\n",
    "    \n",
    "    A sequence is said to be palindrome if one half of the string is the reverse of the other half, e.g., \"madam\".\n",
    "    A sequence is said to be symmetrical if both halves of the string are the same, e.g., \"abcabc\"\n",
    "    \n",
    "    **Note: if there are odd number of letters in a string, the middle one is ignored.\n",
    "    **Note: the string is case insensitive\n",
    "    \n",
    "**Hint:** use the string slice( ) method to divide the string into 2 halves.\n",
    "\n",
    "To show your work, use those input strings: \"level\", \"Cosco\", \"aaaAAaaa\"."
   ]
  },
  {
   "cell_type": "code",
   "execution_count": null,
   "metadata": {},
   "outputs": [],
   "source": []
  },
  {
   "cell_type": "markdown",
   "metadata": {},
   "source": [
    "### Q3: List Comprehension - Exploring State Names (30 Points)\n",
    "\n",
    "Given the a list of 50 state names, please use list comprehension to answer the following questions. "
   ]
  },
  {
   "cell_type": "code",
   "execution_count": 94,
   "metadata": {},
   "outputs": [],
   "source": [
    "#--------------------------------------------------------------\n",
    "# 50 state names as a list\n",
    "#--------------------------------------------------------------\n",
    "states = ['Alabama','Alaska','Arizona','Arkansas','California','Colorado',\n",
    "          'Connecticut','Delaware','Florida','Georgia','Hawaii','Idaho',\n",
    "          'Illinois','Indiana','Iowa','Kansas','Kentucky','Louisiana',\n",
    "          'Maine','Maryland','Massachusetts','Michigan','Minnesota',\n",
    "          'Mississippi','Missouri','Montana','Nebraska','Nevada',\n",
    "          'New Hampshire','New Jersey','New Mexico','New York',\n",
    "          'North Carolina','North Dakota','Ohio','Oklahoma','Oregon',\n",
    "          'Pennsylvania','Rhode Island','South Carolina','South Dakota',\n",
    "          'Tennessee','Texas','Utah','Vermont','Virginia','Washington',\n",
    "          'West Virginia','Wisconsin','Wyoming']"
   ]
  },
  {
   "cell_type": "markdown",
   "metadata": {},
   "source": [
    "### Q3.1 What are the top 3 states with the longest one-word name?  \n",
    "\n",
    "Hint: Remember do not consider states such New York, North Carolina etc. which have two words."
   ]
  },
  {
   "cell_type": "code",
   "execution_count": null,
   "metadata": {},
   "outputs": [],
   "source": []
  },
  {
   "cell_type": "markdown",
   "metadata": {},
   "source": [
    "### Q3.2 Which states start and end with the same letter, for example, Alaska starts and ends with 'a'?"
   ]
  },
  {
   "cell_type": "code",
   "execution_count": null,
   "metadata": {},
   "outputs": [],
   "source": []
  },
  {
   "cell_type": "markdown",
   "metadata": {},
   "source": [
    "### Q3.3 Which alphabetic letter is not present in any of the state names? Yep, there's only one."
   ]
  },
  {
   "cell_type": "code",
   "execution_count": null,
   "metadata": {},
   "outputs": [],
   "source": []
  },
  {
   "cell_type": "markdown",
   "metadata": {},
   "source": [
    "### Q3.4 Which states names have no character repetition? For example, Florida has 7 distict letters and no repetition."
   ]
  },
  {
   "cell_type": "code",
   "execution_count": null,
   "metadata": {},
   "outputs": [],
   "source": []
  },
  {
   "cell_type": "markdown",
   "metadata": {},
   "source": [
    "### Q3.5: Which state names do not have the letter 'a' at all?"
   ]
  },
  {
   "cell_type": "code",
   "execution_count": null,
   "metadata": {},
   "outputs": [],
   "source": []
  },
  {
   "cell_type": "markdown",
   "metadata": {},
   "source": [
    "<h3> Q4: List Operations (20 points) </h3>\n",
    "\n",
    "You will first generate a list of 10 random integers from 1 to 1000 by using the Python random module. Save the list (let's call it A) and write a short snippet for each of the following task:\n",
    "\n",
    "1. Pick and sort first the odd numbers then the even numbers in ascending order and print the final list, e.g. [1 3 51 4 16 32]\n",
    "2. Extract only the items that are less than 250.\n",
    "3. Create a new list where each item y is the square of the correpsonding item in A.\n",
    "4. Extract the items that are NOT divisible by 3 and NOT divisible by 7"
   ]
  },
  {
   "cell_type": "code",
   "execution_count": 95,
   "metadata": {},
   "outputs": [],
   "source": [
    "import random\n",
    "\n",
    "# Note: you can use random.randint() to generate the random integers"
   ]
  },
  {
   "cell_type": "code",
   "execution_count": 96,
   "metadata": {},
   "outputs": [],
   "source": [
    "#Q4_1"
   ]
  },
  {
   "cell_type": "code",
   "execution_count": 97,
   "metadata": {},
   "outputs": [],
   "source": [
    "#Q4_2"
   ]
  },
  {
   "cell_type": "code",
   "execution_count": 98,
   "metadata": {},
   "outputs": [],
   "source": [
    "#Q4_3"
   ]
  },
  {
   "cell_type": "code",
   "execution_count": 99,
   "metadata": {},
   "outputs": [],
   "source": [
    "#Q4_4"
   ]
  },
  {
   "cell_type": "markdown",
   "metadata": {},
   "source": [
    "### Q5: Order of Planets (15 Points)\n",
    "\n",
    "In the solar system, the planets, in order of their distances from the Sun (closest to farthest), are Mercury, Venus, Earth, Mars, Jupiter, Saturn, Uranus, and Neptune. Given an incomplete and out-of-order list, please use list methods to make it right."
   ]
  },
  {
   "cell_type": "code",
   "execution_count": 100,
   "metadata": {},
   "outputs": [],
   "source": [
    "planets = ['venus', 'mercury', 'mars', 'jupiter', 'earth']"
   ]
  },
  {
   "cell_type": "code",
   "execution_count": null,
   "metadata": {},
   "outputs": [],
   "source": []
  }
 ],
 "metadata": {
  "kernelspec": {
   "display_name": "Python 3",
   "language": "python",
   "name": "python3"
  },
  "language_info": {
   "codemirror_mode": {
    "name": "ipython",
    "version": 3
   },
   "file_extension": ".py",
   "mimetype": "text/x-python",
   "name": "python",
   "nbconvert_exporter": "python",
   "pygments_lexer": "ipython3",
   "version": "3.11.9"
  }
 },
 "nbformat": 4,
 "nbformat_minor": 2
}
