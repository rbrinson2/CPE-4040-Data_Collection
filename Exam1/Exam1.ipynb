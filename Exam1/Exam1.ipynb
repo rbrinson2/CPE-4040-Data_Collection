{
 "cells": [
  {
   "metadata": {},
   "cell_type": "markdown",
   "source": [
    "# CPE 4040: Exam1 \n",
    "## Follow the instructions below: \n",
    "- Write your answer in the cell provided under each question. \n",
    "- You must write comments to explain your thoughts to earn full credit. \n",
    "- Show your execution result. \n",
    "- Do your own work. Discussion with peers is prohibited. \n",
    "- Do not copy-and-paste other people's (or from Generative AI) codes. \n",
    "- Please do not use pandas since it is not covered yet. \\\n",
    "\n",
    "### Student's Name: Ryan Brinson"
   ],
   "id": "801a80b266e714d8"
  },
  {
   "metadata": {},
   "cell_type": "markdown",
   "source": [
    "## Q1: Happy Twosday! (15 Points)\n",
    "February 22, 2022 was a rare day that all five digits of the date, 22222, are twos. The string is both palindrome and symmetric. Recall that a sequence is said to be palindrome if one half of the string is the reverse of the other half, e.g., \"madam\". A sequence is said to be symmetrical if both halves of the string are the same, e.g., \"abcabc\". If the length of a sequence is an odd number, the middle element in the sequence is not considered. "
   ],
   "id": "1ba0d9ca9db9f032"
  },
  {
   "metadata": {},
   "cell_type": "markdown",
   "source": "### Q1.1 Write a code to confirm that February 22 (22222) is palindrome and symmetrical.",
   "id": "b93dc7f64aff98be"
  },
  {
   "metadata": {
    "ExecuteTime": {
     "end_time": "2024-09-25T16:53:24.082474Z",
     "start_time": "2024-09-25T16:53:24.079921Z"
    }
   },
   "cell_type": "code",
   "source": "",
   "id": "aa1f3c58bff434f6",
   "outputs": [],
   "execution_count": null
  },
  {
   "metadata": {},
   "cell_type": "markdown",
   "source": [
    "### Q1.2 There are more dates in February 2022 that are also both palindrome and symmetric. \n",
    "Write a Python loop to find out all the other dates."
   ],
   "id": "3c6e84df8b71fdf8"
  },
  {
   "metadata": {
    "ExecuteTime": {
     "end_time": "2024-09-25T16:53:24.112040Z",
     "start_time": "2024-09-25T16:53:24.109671Z"
    }
   },
   "cell_type": "code",
   "source": "",
   "id": "a057dad4a773b47a",
   "outputs": [],
   "execution_count": null
  },
  {
   "metadata": {},
   "cell_type": "markdown",
   "source": [
    "### Q1.3 Super Palindrome \n",
    "A number is called a Super Palindrome if it is a palindrome and also a square of another palindrome. For Example, 10201 is a Super Palindrome since 101 is a palindrome and 10201 = 101^2. Write a Python code to find all five-digit super palindromes, that is, numbers from 10000 to 99999."
   ],
   "id": "69d9d5be5a6c64d6"
  },
  {
   "metadata": {
    "ExecuteTime": {
     "end_time": "2024-09-25T16:53:24.122633Z",
     "start_time": "2024-09-25T16:53:24.119838Z"
    }
   },
   "cell_type": "code",
   "source": "",
   "id": "74e9b2f876c38f72",
   "outputs": [],
   "execution_count": null
  },
  {
   "metadata": {},
   "cell_type": "markdown",
   "source": [
    "## Q2: Python Code Debugging (10 points)\n",
    "### Q2.1 The code below is supposed to count all of the even numbers between 1 and 100 (inclusive) that are also a multiple of 5, but it is incomplete and contains some errors. Please fix the errors and show your execution results"
   ],
   "id": "20c276bb480a1fcd"
  },
  {
   "metadata": {},
   "cell_type": "code",
   "outputs": [],
   "execution_count": null,
   "source": [
    "while i < 100:\n",
    "    if i % 2 or i % 5:\n",
    "        total + 1\n",
    "print (total)"
   ],
   "id": "6544c9971a6ed5b7"
  },
  {
   "metadata": {},
   "cell_type": "markdown",
   "source": [
    "**Explain the bugs here** \\\n",
    "**Revise the code and execute it**"
   ],
   "id": "64f01b3e6ae5b4d5"
  },
  {
   "metadata": {},
   "cell_type": "markdown",
   "source": "### Q2.2 The code below is supposed to determine if the given list of numbers is sorted. That is, it should return True if each item in the list is less than the next item. Unfortunately, there are a few errors in the code below. Please fix the code and show your execution.\n",
   "id": "88bd2ff1a3fac10b"
  },
  {
   "metadata": {},
   "cell_type": "code",
   "outputs": [],
   "execution_count": null,
   "source": [
    "def is_sorted(numbers):\n",
    "    ''' Return whether or not the list of numbers is sorted '''\n",
    "    for i in numbers:\n",
    "        if numbers[i] < numbers[i + 1]:\n",
    "            print ('True')\n",
    "        else:\n",
    "            print ('False')\n",
    "            \n",
    "\n",
    "num_list = [1, 2, -3, 6, 7]\n",
    "is_sorted(num_list)"
   ],
   "id": "ced9df2696883314"
  },
  {
   "metadata": {},
   "cell_type": "markdown",
   "source": [
    "**Explain the bugs here** \\\n",
    "**Revise the code and execute it**"
   ],
   "id": "42551c8a622cda1f"
  },
  {
   "metadata": {},
   "cell_type": "markdown",
   "source": "## Q3: Create a custom module math_operations.py that defines two functions: divide(a, b) and power(a, b). Modify the divide() function to raise a custom exception DivisionByZeroError when the divisor is zero. Write the main program to handle this exception gracefully.",
   "id": "9443407050c03667"
  },
  {
   "metadata": {},
   "cell_type": "code",
   "outputs": [],
   "execution_count": null,
   "source": "",
   "id": "70bce1ec469d21dd"
  },
  {
   "metadata": {},
   "cell_type": "markdown",
   "source": "## Q4: Write a Python program that takes a list of tuples, where each tuple contains a product name and its price. Write a lambda function to filter out products that cost more than a given threshold, and then sort the remaining products by their price in ascending order.",
   "id": "dd451211919dd715"
  },
  {
   "metadata": {},
   "cell_type": "code",
   "outputs": [],
   "execution_count": null,
   "source": "",
   "id": "ef2fd28e26687e02"
  },
  {
   "metadata": {},
   "cell_type": "markdown",
   "source": "## Q5: Write a Python program that imports the datetime module. Create a function work_week that accepts a start date and calculates the dates of all the weekdays (Monday to Friday) for the next 4 weeks (excluding weekends). Return a list of these dates in YYYY-MM-DD format.",
   "id": "54d39274e4d01390"
  },
  {
   "metadata": {},
   "cell_type": "code",
   "outputs": [],
   "execution_count": null,
   "source": "",
   "id": "6df6f74355616f2d"
  },
  {
   "metadata": {},
   "cell_type": "markdown",
   "source": "## Q6: Write a Python function group_anagrams that takes a list of strings and groups them into lists of anagrams. Two words are anagrams if they contain the same characters in the same frequencies, regardless of order. The function should return a list of lists, where each sublist contains words that are anagrams of each other.",
   "id": "da31d7fb15216e06"
  },
  {
   "metadata": {},
   "cell_type": "code",
   "outputs": [],
   "execution_count": null,
   "source": "",
   "id": "ccec11e8adf335ac"
  }
 ],
 "metadata": {
  "kernelspec": {
   "display_name": "Python 3 (ipykernel)",
   "language": "python",
   "name": "python3"
  },
  "language_info": {
   "codemirror_mode": {
    "name": "ipython",
    "version": 3
   },
   "file_extension": ".py",
   "mimetype": "text/x-python",
   "name": "python",
   "nbconvert_exporter": "python",
   "pygments_lexer": "ipython3",
   "version": "3.12.4"
  }
 },
 "nbformat": 4,
 "nbformat_minor": 5
}
