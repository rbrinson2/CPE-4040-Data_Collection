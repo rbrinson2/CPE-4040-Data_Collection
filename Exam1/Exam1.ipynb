{
 "cells": [
  {
   "metadata": {},
   "cell_type": "markdown",
   "source": [
    "# CPE 4040: Exam1 \n",
    "## Follow the instructions below: \n",
    "- Write your answer in the cell provided under each question. \n",
    "- You must write comments to explain your thoughts to earn full credit. \n",
    "- Show your execution result. \n",
    "- Do your own work. Discussion with peers is prohibited. \n",
    "- Do not copy-and-paste other people's (or from Generative AI) codes. \n",
    "- Please do not use pandas since it is not covered yet. \\\n",
    "\n",
    "### Student's Name: Ryan Brinson"
   ],
   "id": "801a80b266e714d8"
  },
  {
   "metadata": {},
   "cell_type": "markdown",
   "source": [
    "## Q1: Happy Twosday! (15 Points)\n",
    "February 22, 2022 was a rare day that all five digits of the date, 22222, are twos. The string is both palindrome and symmetric. Recall that a sequence is said to be palindrome if one half of the string is the reverse of the other half, e.g., \"madam\". A sequence is said to be symmetrical if both halves of the string are the same, e.g., \"abcabc\". If the length of a sequence is an odd number, the middle element in the sequence is not considered. "
   ],
   "id": "1ba0d9ca9db9f032"
  },
  {
   "metadata": {},
   "cell_type": "markdown",
   "source": "### Q1.1 Write a code to confirm that February 22 (22222) is palindrome and symmetrical.",
   "id": "b93dc7f64aff98be"
  },
  {
   "metadata": {
    "ExecuteTime": {
     "end_time": "2024-09-25T18:31:11.257944Z",
     "start_time": "2024-09-25T18:31:11.254090Z"
    }
   },
   "cell_type": "code",
   "source": [
    "from datetime import date\n",
    "\n",
    "## IsPalindrome iterates forwards and backwards\n",
    "## at the same time checking if the elements are\n",
    "## the same. If they are different, returns false\n",
    "## and if they are same it returns true. It \n",
    "## also ignores the middle value\n",
    "def IsPalindrome(date):\n",
    "    date = str(date)\n",
    "    mid = len(date)//2\n",
    "    for i in range(mid):\n",
    "        if date[i] != date[len(date)-i-1]: \n",
    "            return False\n",
    "    return True\n",
    "\n",
    "## IsSymmetric iterates the elements of the first\n",
    "## and second half of the string at the same time\n",
    "## in the forward direction, checking if the \n",
    "## elements are the same. If they are, returns \n",
    "## True, else it returns False\n",
    "def IsSymmetric(date):\n",
    "    date = str(date)\n",
    "    mid = len(date)//2\n",
    "    for i in range(mid):\n",
    "        if date[i] != date[mid + 1 + i]:\n",
    "            return False\n",
    "    return True\n",
    "\n",
    "print(IsPalindrome(22222) and IsSymmetric(22222))"
   ],
   "id": "aa1f3c58bff434f6",
   "outputs": [
    {
     "name": "stdout",
     "output_type": "stream",
     "text": [
      "True\n"
     ]
    }
   ],
   "execution_count": 444
  },
  {
   "metadata": {},
   "cell_type": "markdown",
   "source": [
    "### Q1.2 There are more dates in February 2022 that are also both palindrome and symmetric. \n",
    "Write a Python loop to find out all the other dates."
   ],
   "id": "3c6e84df8b71fdf8"
  },
  {
   "metadata": {
    "ExecuteTime": {
     "end_time": "2024-09-25T18:31:11.296501Z",
     "start_time": "2024-09-25T18:31:11.293475Z"
    }
   },
   "cell_type": "code",
   "source": [
    "dates = []\n",
    "\n",
    "## Iterates through the days of the month\n",
    "## and if the number is a palindrome and\n",
    "## symmetric, appends it to the dates array\n",
    "for i in range(20122, 23122, 100):\n",
    "    if IsSymmetric(i):\n",
    "        dates.append(i)\n",
    "print(dates)"
   ],
   "id": "a057dad4a773b47a",
   "outputs": [
    {
     "name": "stdout",
     "output_type": "stream",
     "text": [
      "[22022, 22122, 22222, 22322, 22422, 22522, 22622, 22722, 22822, 22922]\n"
     ]
    }
   ],
   "execution_count": 445
  },
  {
   "metadata": {},
   "cell_type": "markdown",
   "source": [
    "### Q1.3 Super Palindrome \n",
    "A number is called a Super Palindrome if it is a palindrome and also a square of another palindrome. For Example, 10201 is a Super Palindrome since 101 is a palindrome and 10201 = 101^2. Write a Python code to find all five-digit super palindromes, that is, numbers from 10000 to 99999."
   ],
   "id": "69d9d5be5a6c64d6"
  },
  {
   "metadata": {
    "ExecuteTime": {
     "end_time": "2024-09-25T18:31:11.345523Z",
     "start_time": "2024-09-25T18:31:11.306798Z"
    }
   },
   "cell_type": "code",
   "source": [
    "## FindSuperPalindrome iterates through the number\n",
    "## range and tests if each number is a palindrome\n",
    "## using the previous function, and if it a square.\n",
    "## If those to criteria are met it appends the number\n",
    "## to an array \n",
    "def FindSuperPalindrome():\n",
    "    sp = []\n",
    "    for i in range(10000, 99999):\n",
    "        x = int(i**0.5)\n",
    "        if IsPalindrome(i) and i == x**2:\n",
    "            sp.append(i)\n",
    "    return sp\n",
    "\n",
    "\n",
    "print(FindSuperPalindrome())\n"
   ],
   "id": "74e9b2f876c38f72",
   "outputs": [
    {
     "name": "stdout",
     "output_type": "stream",
     "text": [
      "[10201, 12321, 14641, 40804, 44944, 69696, 94249]\n"
     ]
    }
   ],
   "execution_count": 446
  },
  {
   "metadata": {},
   "cell_type": "markdown",
   "source": [
    "## Q2: Python Code Debugging (10 points)\n",
    "### Q2.1 The code below is supposed to count all of the even numbers between 1 and 100 (inclusive) that are also a multiple of 5, but it is incomplete and contains some errors. Please fix the errors and show your execution results\n",
    "\n"
   ],
   "id": "20c276bb480a1fcd"
  },
  {
   "metadata": {
    "ExecuteTime": {
     "end_time": "2024-09-25T18:31:11.353514Z",
     "start_time": "2024-09-25T18:31:11.351648Z"
    }
   },
   "cell_type": "code",
   "source": [
    "# while i < 100:\n",
    "#     if i % 2 or i % 5:\n",
    "#         total + 1\n",
    "# print (total)"
   ],
   "id": "6d5a0b854a36926d",
   "outputs": [],
   "execution_count": 447
  },
  {
   "metadata": {},
   "cell_type": "markdown",
   "source": [
    "**Explain the bugs here** \n",
    "- The code never initializes total\n",
    "- I is never initialized or iterated \n",
    "- Uses an **or** in the if statement so only one of the conditions have to be met\n",
    "- total is not properly updated\\\n",
    "\n",
    "**Revise the code and execute it**"
   ],
   "id": "64f01b3e6ae5b4d5"
  },
  {
   "metadata": {
    "ExecuteTime": {
     "end_time": "2024-09-25T18:31:11.363742Z",
     "start_time": "2024-09-25T18:31:11.360400Z"
    }
   },
   "cell_type": "code",
   "source": [
    "total = 0\n",
    "i = 1\n",
    "while i < 100:\n",
    "    if i % 2 and i % 5:\n",
    "        total = total + 1\n",
    "    i += 1\n",
    "print (total)"
   ],
   "id": "613b9e56b35190a2",
   "outputs": [
    {
     "name": "stdout",
     "output_type": "stream",
     "text": [
      "40\n"
     ]
    }
   ],
   "execution_count": 448
  },
  {
   "metadata": {},
   "cell_type": "markdown",
   "source": "### Q2.2 The code below is supposed to determine if the given list of numbers is sorted. That is, it should return True if each item in the list is less than the next item. Unfortunately, there are a few errors in the code below. Please fix the code and show your execution.\n",
   "id": "88bd2ff1a3fac10b"
  },
  {
   "metadata": {
    "ExecuteTime": {
     "end_time": "2024-09-25T18:31:11.379345Z",
     "start_time": "2024-09-25T18:31:11.376330Z"
    }
   },
   "cell_type": "code",
   "source": [
    "# def is_sorted(numbers):\n",
    "#     ''' Return whether or not the list of numbers is sorted '''\n",
    "#     for i in numbers:\n",
    "#         if numbers[i] < numbers[i + 1]:\n",
    "#             print ('True')\n",
    "#         else:\n",
    "#             print ('False')\n",
    "#             \n",
    "# \n",
    "# num_list = [1, 2, -3, 6, 7]\n",
    "# is_sorted(num_list)"
   ],
   "id": "ced9df2696883314",
   "outputs": [],
   "execution_count": 449
  },
  {
   "metadata": {},
   "cell_type": "markdown",
   "source": [
    "**Explain the bugs here** \n",
    "- The i goes out of bounds of the array\n",
    "- The function doesn't return anything, just prints it\n",
    "- Needs to be checking if the list is not in order and return False\n",
    "- Does not need an else statement, just need to return True if it makes it all the way through\\\n",
    "\n",
    "**Revise the code and execute it**"
   ],
   "id": "42551c8a622cda1f"
  },
  {
   "metadata": {
    "ExecuteTime": {
     "end_time": "2024-09-25T18:31:11.389174Z",
     "start_time": "2024-09-25T18:31:11.385157Z"
    }
   },
   "cell_type": "code",
   "source": [
    "def is_sorted(numbers):\n",
    "    ''' Return whether or not the list of numbers is sorted '''\n",
    "    for i in range(len(numbers)-1):\n",
    "        if numbers[i] > numbers[i + 1]:\n",
    "            return False\n",
    "    return True\n",
    "            \n",
    "\n",
    "num_list = [1, 2, -3, 6, 7]\n",
    "is_sorted(num_list)"
   ],
   "id": "3081429041b02e63",
   "outputs": [
    {
     "data": {
      "text/plain": [
       "False"
      ]
     },
     "execution_count": 450,
     "metadata": {},
     "output_type": "execute_result"
    }
   ],
   "execution_count": 450
  },
  {
   "metadata": {},
   "cell_type": "markdown",
   "source": "## Q3: Create a custom module math_operations.py that defines two functions: divide(a, b) and power(a, b). Modify the divide() function to raise a custom exception DivisionByZeroError when the divisor is zero. Write the main program to handle this exception gracefully.",
   "id": "9443407050c03667"
  },
  {
   "metadata": {
    "ExecuteTime": {
     "end_time": "2024-09-25T18:31:11.411001Z",
     "start_time": "2024-09-25T18:31:11.407501Z"
    }
   },
   "cell_type": "code",
   "source": [
    "import math_operations as mo\n",
    "\n",
    "try:\n",
    "    print(mo.divide(1, 2))\n",
    "    print(mo.divide(1, 0))\n",
    "    print(mo.power(1, 2))\n",
    "except AttributeError:\n",
    "    print(\"Power is still nor working\")"
   ],
   "id": "70bce1ec469d21dd",
   "outputs": [
    {
     "name": "stdout",
     "output_type": "stream",
     "text": [
      "0.5\n",
      "Can't divide by zero\n",
      "None\n",
      "Power is still nor working\n"
     ]
    }
   ],
   "execution_count": 451
  },
  {
   "metadata": {},
   "cell_type": "markdown",
   "source": "## Q4: Write a Python program that takes a list of tuples, where each tuple contains a product name and its price. Write a lambda function to filter out products that cost more than a given threshold, and then sort the remaining products by their price in ascending order.",
   "id": "dd451211919dd715"
  },
  {
   "metadata": {
    "ExecuteTime": {
     "end_time": "2024-09-25T18:31:11.498532Z",
     "start_time": "2024-09-25T18:31:11.495222Z"
    }
   },
   "cell_type": "code",
   "source": [
    "grocery = [(\"eggs\", 299), (\"oranges\", 5.99), (\"cheese\", 19.99), (\"bread\", 3.25)]\n",
    "\n",
    "print(grocery)"
   ],
   "id": "ef2fd28e26687e02",
   "outputs": [
    {
     "name": "stdout",
     "output_type": "stream",
     "text": [
      "[('eggs', 299), ('oranges', 5.99), ('cheese', 19.99), ('bread', 3.25)]\n"
     ]
    }
   ],
   "execution_count": 452
  },
  {
   "metadata": {},
   "cell_type": "markdown",
   "source": "## Q5: Write a Python program that imports the datetime module. Create a function work_week that accepts a start date and calculates the dates of all the weekdays (Monday to Friday) for the next 4 weeks (excluding weekends). Return a list of these dates in YYYY-MM-DD format.",
   "id": "54d39274e4d01390"
  },
  {
   "metadata": {
    "ExecuteTime": {
     "end_time": "2024-09-25T18:31:11.589841Z",
     "start_time": "2024-09-25T18:31:11.587486Z"
    }
   },
   "cell_type": "code",
   "source": "",
   "id": "6df6f74355616f2d",
   "outputs": [],
   "execution_count": null
  },
  {
   "metadata": {},
   "cell_type": "markdown",
   "source": "## Q6: Write a Python function group_anagrams that takes a list of strings and groups them into lists of anagrams. Two words are anagrams if they contain the same characters in the same frequencies, regardless of order. The function should return a list of lists, where each sublist contains words that are anagrams of each other.",
   "id": "da31d7fb15216e06"
  },
  {
   "metadata": {
    "ExecuteTime": {
     "end_time": "2024-09-25T18:31:11.602946Z",
     "start_time": "2024-09-25T18:31:11.600332Z"
    }
   },
   "cell_type": "code",
   "source": "",
   "id": "ccec11e8adf335ac",
   "outputs": [],
   "execution_count": null
  }
 ],
 "metadata": {
  "kernelspec": {
   "display_name": "Python 3 (ipykernel)",
   "language": "python",
   "name": "python3"
  },
  "language_info": {
   "codemirror_mode": {
    "name": "ipython",
    "version": 3
   },
   "file_extension": ".py",
   "mimetype": "text/x-python",
   "name": "python",
   "nbconvert_exporter": "python",
   "pygments_lexer": "ipython3",
   "version": "3.12.4"
  }
 },
 "nbformat": 4,
 "nbformat_minor": 5
}
