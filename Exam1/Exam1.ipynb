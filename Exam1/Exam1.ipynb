{
 "cells": [
  {
   "cell_type": "markdown",
   "id": "801a80b266e714d8",
   "metadata": {},
   "source": [
    "# CPE 4040: Exam1 \n",
    "## Follow the instructions below: \n",
    "- Write your answer in the cell provided under each question. \n",
    "- You must write comments to explain your thoughts to earn full credit. \n",
    "- Show your execution result. \n",
    "- Do your own work. Discussion with peers is prohibited. \n",
    "- Do not copy-and-paste other people's (or from Generative AI) codes. \n",
    "- Please do not use pandas since it is not covered yet. \\\n",
    "\n",
    "### Student's Name: Ryan Brinson"
   ]
  },
  {
   "cell_type": "markdown",
   "id": "1ba0d9ca9db9f032",
   "metadata": {},
   "source": [
    "## Q1: Happy Twosday! (15 Points)\n",
    "February 22, 2022 was a rare day that all five digits of the date, 22222, are twos. The string is both palindrome and symmetric. Recall that a sequence is said to be palindrome if one half of the string is the reverse of the other half, e.g., \"madam\". A sequence is said to be symmetrical if both halves of the string are the same, e.g., \"abcabc\". If the length of a sequence is an odd number, the middle element in the sequence is not considered. "
   ]
  },
  {
   "cell_type": "markdown",
   "id": "b93dc7f64aff98be",
   "metadata": {},
   "source": [
    "### Q1.1 Write a code to confirm that February 22 (22222) is palindrome and symmetrical."
   ]
  },
  {
   "cell_type": "code",
   "id": "aa1f3c58bff434f6",
   "metadata": {
    "ExecuteTime": {
     "end_time": "2024-09-28T14:23:11.321715Z",
     "start_time": "2024-09-28T14:23:11.317571Z"
    }
   },
   "source": [
    "from datetime import date\n",
    "\n",
    "## IsPalindrome iterates forwards and backwards\n",
    "## at the same time checking if the elements are\n",
    "## the same. If they are different, returns false\n",
    "## and if they are same it returns true. It \n",
    "## also ignores the middle value\n",
    "def IsPalindrome(date):\n",
    "    date = str(date)\n",
    "    mid = len(date)//2\n",
    "    for i in range(mid):\n",
    "        if date[i] != date[len(date)-i-1]: \n",
    "            return False\n",
    "    return True\n",
    "\n",
    "## IsSymmetric iterates the elements of the first\n",
    "## and second half of the string at the same time\n",
    "## in the forward direction, checking if the \n",
    "## elements are the same. If they are, returns \n",
    "## True, else it returns False\n",
    "def IsSymmetric(date):\n",
    "    date = str(date)\n",
    "    mid = len(date)//2\n",
    "    for i in range(mid):\n",
    "        if date[i] != date[mid + 1 + i]:\n",
    "            return False\n",
    "    return True\n",
    "\n",
    "print(IsPalindrome(22222) and IsSymmetric(22222))"
   ],
   "outputs": [
    {
     "name": "stdout",
     "output_type": "stream",
     "text": [
      "True\n"
     ]
    }
   ],
   "execution_count": 232
  },
  {
   "cell_type": "markdown",
   "id": "3c6e84df8b71fdf8",
   "metadata": {},
   "source": [
    "### Q1.2 There are more dates in February 2022 that are also both palindrome and symmetric. \n",
    "Write a Python loop to find out all the other dates."
   ]
  },
  {
   "cell_type": "code",
   "id": "a057dad4a773b47a",
   "metadata": {
    "ExecuteTime": {
     "end_time": "2024-09-28T14:23:11.342708Z",
     "start_time": "2024-09-28T14:23:11.339301Z"
    }
   },
   "source": [
    "dates = []\n",
    "\n",
    "## Iterates through the days of the month\n",
    "## and if the number is a palindrome and\n",
    "## symmetric, appends it to the dates array\n",
    "for i in range(20122, 23122, 100):\n",
    "    if IsSymmetric(i):\n",
    "        dates.append(i)\n",
    "print(dates)"
   ],
   "outputs": [
    {
     "name": "stdout",
     "output_type": "stream",
     "text": [
      "[22022, 22122, 22222, 22322, 22422, 22522, 22622, 22722, 22822, 22922]\n"
     ]
    }
   ],
   "execution_count": 233
  },
  {
   "cell_type": "markdown",
   "id": "69d9d5be5a6c64d6",
   "metadata": {},
   "source": [
    "### Q1.3 Super Palindrome \n",
    "A number is called a Super Palindrome if it is a palindrome and also a square of another palindrome. For Example, 10201 is a Super Palindrome since 101 is a palindrome and 10201 = 101^2. Write a Python code to find all five-digit super palindromes, that is, numbers from 10000 to 99999."
   ]
  },
  {
   "cell_type": "code",
   "id": "74e9b2f876c38f72",
   "metadata": {
    "ExecuteTime": {
     "end_time": "2024-09-28T14:23:11.403884Z",
     "start_time": "2024-09-28T14:23:11.360475Z"
    }
   },
   "source": [
    "## FindSuperPalindrome iterates through the number\n",
    "## range and tests if each number is a palindrome\n",
    "## using the previous function, and if it a square.\n",
    "## If those to criteria are met it appends the number\n",
    "## to an array \n",
    "def FindSuperPalindrome():\n",
    "    sp = []\n",
    "    for i in range(10000, 99999):\n",
    "        x = int(i**0.5)\n",
    "        if IsPalindrome(i) and i == x**2:\n",
    "            sp.append(i)\n",
    "    return sp\n",
    "\n",
    "\n",
    "print(FindSuperPalindrome())\n"
   ],
   "outputs": [
    {
     "name": "stdout",
     "output_type": "stream",
     "text": [
      "[10201, 12321, 14641, 40804, 44944, 69696, 94249]\n"
     ]
    }
   ],
   "execution_count": 234
  },
  {
   "cell_type": "markdown",
   "id": "20c276bb480a1fcd",
   "metadata": {},
   "source": [
    "## Q2: Python Code Debugging (10 points)\n",
    "### Q2.1 The code below is supposed to count all of the even numbers between 1 and 100 (inclusive) that are also a multiple of 5, but it is incomplete and contains some errors. Please fix the errors and show your execution results\n",
    "\n"
   ]
  },
  {
   "cell_type": "code",
   "id": "6d5a0b854a36926d",
   "metadata": {
    "ExecuteTime": {
     "end_time": "2024-09-28T14:23:11.412636Z",
     "start_time": "2024-09-28T14:23:11.410736Z"
    }
   },
   "source": [
    "# while i < 100:\n",
    "#     if i % 2 or i % 5:\n",
    "#         total + 1\n",
    "# print (total)"
   ],
   "outputs": [],
   "execution_count": 235
  },
  {
   "cell_type": "markdown",
   "id": "64f01b3e6ae5b4d5",
   "metadata": {},
   "source": [
    "**Explain the bugs here** \n",
    "- The code never initializes total\n",
    "- I is never initialized or iterated \n",
    "- Uses an **or** in the if statement so only one of the conditions have to be met\n",
    "- total is not properly updated\\\n",
    "\n",
    "**Revise the code and execute it**"
   ]
  },
  {
   "cell_type": "code",
   "id": "613b9e56b35190a2",
   "metadata": {
    "ExecuteTime": {
     "end_time": "2024-09-28T14:23:11.428555Z",
     "start_time": "2024-09-28T14:23:11.424989Z"
    }
   },
   "source": [
    "total = 0\n",
    "i = 1\n",
    "while i < 100:\n",
    "    if i % 2 and i % 5:\n",
    "        total = total + 1\n",
    "    i += 1\n",
    "print (total)"
   ],
   "outputs": [
    {
     "name": "stdout",
     "output_type": "stream",
     "text": [
      "40\n"
     ]
    }
   ],
   "execution_count": 236
  },
  {
   "cell_type": "markdown",
   "id": "88bd2ff1a3fac10b",
   "metadata": {},
   "source": [
    "### Q2.2 The code below is supposed to determine if the given list of numbers is sorted. That is, it should return True if each item in the list is less than the next item. Unfortunately, there are a few errors in the code below. Please fix the code and show your execution.\n"
   ]
  },
  {
   "cell_type": "code",
   "id": "ced9df2696883314",
   "metadata": {
    "ExecuteTime": {
     "end_time": "2024-09-28T14:23:11.444314Z",
     "start_time": "2024-09-28T14:23:11.441481Z"
    }
   },
   "source": [
    "# def is_sorted(numbers):\n",
    "#     ''' Return whether or not the list of numbers is sorted '''\n",
    "#     for i in numbers:\n",
    "#         if numbers[i] < numbers[i + 1]:\n",
    "#             print ('True')\n",
    "#         else:\n",
    "#             print ('False')\n",
    "#             \n",
    "# \n",
    "# num_list = [1, 2, -3, 6, 7]\n",
    "# is_sorted(num_list)"
   ],
   "outputs": [],
   "execution_count": 237
  },
  {
   "cell_type": "markdown",
   "id": "42551c8a622cda1f",
   "metadata": {},
   "source": [
    "**Explain the bugs here** \n",
    "- The i goes out of bounds of the array\n",
    "- The function doesn't return anything, just prints it\n",
    "- Needs to be checking if the list is not in order and return False\n",
    "- Does not need an else statement, just need to return True if it makes it all the way through\\\n",
    "\n",
    "**Revise the code and execute it**"
   ]
  },
  {
   "cell_type": "code",
   "id": "3081429041b02e63",
   "metadata": {
    "ExecuteTime": {
     "end_time": "2024-09-28T14:23:11.460800Z",
     "start_time": "2024-09-28T14:23:11.456174Z"
    }
   },
   "source": [
    "def is_sorted(numbers):\n",
    "    ''' Return whether or not the list of numbers is sorted '''\n",
    "    for i in range(len(numbers)-1):\n",
    "        if numbers[i] > numbers[i + 1]:\n",
    "            return False\n",
    "    return True\n",
    "            \n",
    "\n",
    "num_list = [1, 2, -3, 6, 7]\n",
    "is_sorted(num_list)"
   ],
   "outputs": [
    {
     "data": {
      "text/plain": [
       "False"
      ]
     },
     "execution_count": 238,
     "metadata": {},
     "output_type": "execute_result"
    }
   ],
   "execution_count": 238
  },
  {
   "cell_type": "markdown",
   "id": "9443407050c03667",
   "metadata": {},
   "source": [
    "## Q3: Create a custom module math_operations.py that defines two functions: divide(a, b) and power(a, b). Modify the divide() function to raise a custom exception DivisionByZeroError when the divisor is zero. Write the main program to handle this exception gracefully."
   ]
  },
  {
   "cell_type": "code",
   "id": "70bce1ec469d21dd",
   "metadata": {
    "ExecuteTime": {
     "end_time": "2024-09-28T14:23:11.473292Z",
     "start_time": "2024-09-28T14:23:11.470142Z"
    }
   },
   "source": [
    "import math_operations as mo\n",
    "\n",
    "print(mo.divide(1, 2))\n",
    "print(mo.divide(1, 0))\n",
    "print(mo.power(1, 2))"
   ],
   "outputs": [
    {
     "name": "stdout",
     "output_type": "stream",
     "text": [
      "0.5\n",
      "Can't divide by zero\n",
      "None\n",
      "1\n"
     ]
    }
   ],
   "execution_count": 239
  },
  {
   "cell_type": "markdown",
   "id": "dd451211919dd715",
   "metadata": {},
   "source": [
    "## Q4: Write a Python program that takes a list of tuples, where each tuple contains a product name and its price. Write a lambda function to filter out products that cost more than a given threshold, and then sort the remaining products by their price in ascending order."
   ]
  },
  {
   "cell_type": "code",
   "id": "ef2fd28e26687e02",
   "metadata": {
    "ExecuteTime": {
     "end_time": "2024-09-28T14:23:11.489872Z",
     "start_time": "2024-09-28T14:23:11.485660Z"
    }
   },
   "source": [
    "grocery = [(\"eggs\", 2.99), (\"oranges\", 5.99), (\"cheese\", 19.99), (\"bread\", 3.25)]\n",
    "\n",
    "f = lambda a : a[1] < 10\n",
    "new_grocery = [item for item in grocery if f(item)]\n",
    "new_grocery.sort(key = lambda x : x[1])\n",
    "\n",
    "print(new_grocery)"
   ],
   "outputs": [
    {
     "name": "stdout",
     "output_type": "stream",
     "text": [
      "[('eggs', 2.99), ('bread', 3.25), ('oranges', 5.99)]\n"
     ]
    }
   ],
   "execution_count": 240
  },
  {
   "cell_type": "markdown",
   "id": "54d39274e4d01390",
   "metadata": {},
   "source": [
    "## Q5: Write a Python program that imports the datetime module. Create a function work_week that accepts a start date and calculates the dates of all the weekdays (Monday to Friday) for the next 4 weeks (excluding weekends). Return a list of these dates in YYYY-MM-DD format."
   ]
  },
  {
   "cell_type": "code",
   "id": "6df6f74355616f2d",
   "metadata": {
    "ExecuteTime": {
     "end_time": "2024-09-28T14:23:11.513964Z",
     "start_time": "2024-09-28T14:23:11.508745Z"
    }
   },
   "source": [
    "import datetime as dt\n",
    "\n",
    "def work_week(day: dt.date):\n",
    "    Saturday = 5\n",
    "    Sunday = 6\n",
    "    weekdays = []\n",
    "    fourweeks = day + dt.timedelta(weeks=4)\n",
    "\n",
    "    while day < fourweeks:\n",
    "        if day.weekday() != Saturday and day.weekday() != Sunday:\n",
    "            weekdays.append(day.isoformat())\n",
    "        day = day + dt.timedelta(days=1)\n",
    "    return weekdays\n",
    "\n",
    "startday = dt.date(2024, 9, 28)\n",
    "daylist = work_week(startday)\n",
    "daylist"
   ],
   "outputs": [
    {
     "data": {
      "text/plain": [
       "['2024-09-30',\n",
       " '2024-10-01',\n",
       " '2024-10-02',\n",
       " '2024-10-03',\n",
       " '2024-10-04',\n",
       " '2024-10-07',\n",
       " '2024-10-08',\n",
       " '2024-10-09',\n",
       " '2024-10-10',\n",
       " '2024-10-11',\n",
       " '2024-10-14',\n",
       " '2024-10-15',\n",
       " '2024-10-16',\n",
       " '2024-10-17',\n",
       " '2024-10-18',\n",
       " '2024-10-21',\n",
       " '2024-10-22',\n",
       " '2024-10-23',\n",
       " '2024-10-24',\n",
       " '2024-10-25']"
      ]
     },
     "execution_count": 241,
     "metadata": {},
     "output_type": "execute_result"
    }
   ],
   "execution_count": 241
  },
  {
   "cell_type": "markdown",
   "id": "da31d7fb15216e06",
   "metadata": {},
   "source": [
    "## Q6: Write a Python function group_anagrams that takes a list of strings and groups them into lists of anagrams. Two words are anagrams if they contain the same characters in the same frequencies, regardless of order. The function should return a list of lists, where each sublist contains words that are anagrams of each other."
   ]
  },
  {
   "cell_type": "code",
   "id": "ccec11e8adf335ac",
   "metadata": {
    "ExecuteTime": {
     "end_time": "2024-09-28T14:23:11.598963Z",
     "start_time": "2024-09-28T14:23:11.593188Z"
    }
   },
   "source": [
    "\n",
    "\n",
    "def group_anagrams(words):\n",
    "    anagrams = {}\n",
    "    \n",
    "    for word in words:\n",
    "        sorted_word = ''.join(sorted(word))\n",
    "        \n",
    "        if sorted_word in anagrams:\n",
    "            anagrams[sorted_word].append(word)\n",
    "        else:\n",
    "            anagrams[sorted_word] = [word]\n",
    "        \n",
    "    return list(anagrams.values())\n",
    "\n",
    " \n",
    "word_list = [\"time\", \"group\", \"hero\", \"blast\", \"cheater\", \"teacher\", \"bust\", \"stub\", \"rail\", \"liar\", \"tom\", \"car\"]\n",
    "group_anagrams(word_list)"
   ],
   "outputs": [
    {
     "data": {
      "text/plain": [
       "[['time'],\n",
       " ['group'],\n",
       " ['hero'],\n",
       " ['blast'],\n",
       " ['cheater', 'teacher'],\n",
       " ['bust', 'stub'],\n",
       " ['rail', 'liar'],\n",
       " ['tom'],\n",
       " ['car']]"
      ]
     },
     "execution_count": 242,
     "metadata": {},
     "output_type": "execute_result"
    }
   ],
   "execution_count": 242
  }
 ],
 "metadata": {
  "kernelspec": {
   "display_name": "Python 3 (ipykernel)",
   "language": "python",
   "name": "python3"
  },
  "language_info": {
   "codemirror_mode": {
    "name": "ipython",
    "version": 3
   },
   "file_extension": ".py",
   "mimetype": "text/x-python",
   "name": "python",
   "nbconvert_exporter": "python",
   "pygments_lexer": "ipython3",
   "version": "3.11.9"
  }
 },
 "nbformat": 4,
 "nbformat_minor": 5
}
