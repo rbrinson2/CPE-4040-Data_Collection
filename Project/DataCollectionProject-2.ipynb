{
 "cells": [
  {
   "cell_type": "markdown",
   "id": "b8755c23",
   "metadata": {},
   "source": [
    "# Data Collection Final Project: Logistic Regression with Machine Learning\n",
    "### Laiken Wade and Ryan Brinson\n",
    "### Fall 2024\n",
    "\n",
    "#### Objective\n",
    "Logistic regression is a fundamental machine learning algorithm used for binary classification tasks, where the goal is to predict one of two possible outcomes. Unlike linear regression, which predicts a continuous value, logistic regression predicts probabilities that map to binary outcomes using the logistic (sigmoid) function. We will use this aspect of the algorithm to determine whether or not a stuent will be admitted to a University. It will look at the students GPA, GRE score, and their rank to try and make this determination. \n",
    "\n",
    "##### Key Concepts \n",
    "1. **Machine Leaning**: In this case, it is the process by which data is passed through a Multi-Layer Perceptron (MLP) that produces an output, this is called the forward propagation. The algorithm then judges how well the MLP did, and creates a loss. A gradient is created based off this loss and is passed back through the MLP to adjust the internal parameters, this is called the back propagation. This is done repeatidly to reduce the amount of loss. Machine learning is charactarized by the following equation:  $$a^{[l]} = f\\left(W^{[l]}a^{[l - 1]} + b^{[l]} \\right) $$\n",
    "\n",
    "2. **Sigmoid Function**: Logistic regression employs the sigmoid function, which maps any real-valued number to a value between 0 and 1. This output can be interpreted as the probability of the positive class and is defined by the equation: $$ \\sigma(x) = \\frac{1}{1 + e^{-x}} $$\n",
    "\n",
    "3. **Decision Boundary**: The algorithm determines a threshold to classify outputs. If the predicted probability is greater than or equal to the threshold, the instance is classified as the positive class; otherwise, it’s classified as the negative class.\n",
    "\n",
    "4. **Loss Function**: Logistic regression uses a loss function known as cross-entropy or log-loss to measure the performance of the model. The goal is to minimize this loss during training and can be summarized by: $$ \\text{Log Loss} = \\sum_{i=0}^{N} \\left[ -y_i \\log(p_i) + (1 - y_i) \\log(1 - p_i) \\right] $$\n",
    "\n",
    "#### Advatnages\n",
    "- Simple to implement and interpret.\n",
    "\n",
    "- Efficient for binary classification with relatively small datasets. In our case, if a student will be admitted or not.\n",
    "\n",
    "- Provides probabilities, offering insight into confidence levels of predictions."
   ]
  },
  {
   "cell_type": "markdown",
   "id": "60706af2",
   "metadata": {},
   "source": [
    "### 1. We first import all the relavent libraries\n",
    "\n",
    "The majority of the data processing will be done with the scikit learn toolset. This is a very powerful toolkit that is commonly used for machine learning. "
   ]
  },
  {
   "cell_type": "code",
   "execution_count": 72,
   "id": "fbc7d717-8e6a-4c69-b6e0-39d03650461c",
   "metadata": {},
   "outputs": [],
   "source": [
    "import numpy as np\n",
    "import matplotlib.pyplot as plt\n",
    "import seaborn as sns\n",
    "\n",
    "import pandas as pd\n",
    "from sklearn.model_selection import train_test_split\n",
    "from sklearn.linear_model import LogisticRegression\n",
    "from sklearn.preprocessing import StandardScaler\n",
    "from sklearn.metrics import accuracy_score, confusion_matrix, classification_report\n",
    "\n",
    "%matplotlib inline"
   ]
  },
  {
   "cell_type": "markdown",
   "id": "91049acc",
   "metadata": {},
   "source": [
    "### 2. Import the data\n",
    "All relavent data is stored in a comma separated value file known as a csv. This is a very common way of storing data as it is easy to parse. The csv is imported using the Pandas library as it is a commonly used and well documented library. After the csv is imported, we then display some basic information about the data."
   ]
  },
  {
   "cell_type": "code",
   "execution_count": 73,
   "id": "a821015d-50e5-4404-a4d0-bc19a30f750d",
   "metadata": {},
   "outputs": [
    {
     "data": {
      "text/html": [
       "<div>\n",
       "<style scoped>\n",
       "    .dataframe tbody tr th:only-of-type {\n",
       "        vertical-align: middle;\n",
       "    }\n",
       "\n",
       "    .dataframe tbody tr th {\n",
       "        vertical-align: top;\n",
       "    }\n",
       "\n",
       "    .dataframe thead th {\n",
       "        text-align: right;\n",
       "    }\n",
       "</style>\n",
       "<table border=\"1\" class=\"dataframe\">\n",
       "  <thead>\n",
       "    <tr style=\"text-align: right;\">\n",
       "      <th></th>\n",
       "      <th>admit</th>\n",
       "      <th>gre</th>\n",
       "      <th>gpa</th>\n",
       "      <th>rank</th>\n",
       "    </tr>\n",
       "  </thead>\n",
       "  <tbody>\n",
       "    <tr>\n",
       "      <th>0</th>\n",
       "      <td>0</td>\n",
       "      <td>380</td>\n",
       "      <td>3.61</td>\n",
       "      <td>3</td>\n",
       "    </tr>\n",
       "    <tr>\n",
       "      <th>1</th>\n",
       "      <td>1</td>\n",
       "      <td>660</td>\n",
       "      <td>3.67</td>\n",
       "      <td>3</td>\n",
       "    </tr>\n",
       "    <tr>\n",
       "      <th>2</th>\n",
       "      <td>1</td>\n",
       "      <td>800</td>\n",
       "      <td>4.00</td>\n",
       "      <td>1</td>\n",
       "    </tr>\n",
       "    <tr>\n",
       "      <th>3</th>\n",
       "      <td>1</td>\n",
       "      <td>640</td>\n",
       "      <td>3.19</td>\n",
       "      <td>4</td>\n",
       "    </tr>\n",
       "    <tr>\n",
       "      <th>4</th>\n",
       "      <td>0</td>\n",
       "      <td>520</td>\n",
       "      <td>2.93</td>\n",
       "      <td>4</td>\n",
       "    </tr>\n",
       "  </tbody>\n",
       "</table>\n",
       "</div>"
      ],
      "text/plain": [
       "   admit  gre   gpa  rank\n",
       "0      0  380  3.61     3\n",
       "1      1  660  3.67     3\n",
       "2      1  800  4.00     1\n",
       "3      1  640  3.19     4\n",
       "4      0  520  2.93     4"
      ]
     },
     "execution_count": 73,
     "metadata": {},
     "output_type": "execute_result"
    }
   ],
   "source": [
    "admission = pd.read_csv('dataset_admissions.csv')\n",
    "admission.head()"
   ]
  },
  {
   "cell_type": "code",
   "execution_count": 74,
   "id": "80304bf7",
   "metadata": {},
   "outputs": [
    {
     "data": {
      "text/plain": [
       "(400, 4)"
      ]
     },
     "execution_count": 74,
     "metadata": {},
     "output_type": "execute_result"
    }
   ],
   "source": [
    "admission.shape "
   ]
  },
  {
   "cell_type": "markdown",
   "id": "4fcf0c82",
   "metadata": {},
   "source": [
    "#### Standard Diviatoin\n",
    "Standard deviation is a statistical measure that quantifies the amount of variation or dispersion in a set of numerical data. It indicates how spread out the values are from the mean (average) of the data set. A low standard deviation means that the data points are close to the mean, while a high standard deviation indicates that the data points are spread out over a wider range.\n",
    "\n",
    "We can see from the output that the GRE scores have the highest standard deviation. Meaning that it has the widest variance of all the parameters. The other parameters are very tightly centered around the means. "
   ]
  },
  {
   "cell_type": "code",
   "execution_count": 75,
   "id": "e25c5188-3b97-479a-99f4-df929d9aeb63",
   "metadata": {},
   "outputs": [
    {
     "data": {
      "text/plain": [
       "admit      0.466087\n",
       "gre      115.516536\n",
       "gpa        0.380567\n",
       "rank       0.944460\n",
       "dtype: float64"
      ]
     },
     "execution_count": 75,
     "metadata": {},
     "output_type": "execute_result"
    }
   ],
   "source": [
    "admission.std()"
   ]
  },
  {
   "cell_type": "markdown",
   "id": "a7fbe812",
   "metadata": {},
   "source": [
    "#### Data Description\n",
    "One of the ways that Pandas is so useful is that it provides simmple API calls that allows us to get information about the data very quickly. In this case we can see that each column has various statistics like count, mean, and distribution. The dataset is faily sizable with 400 data points. This allows for a decent amount of accuracy in our informatics.\n",
    "\n",
    "In the Admit column we see that the mean is below 0.5. Because the data is binary, only 0 or 1, the mean being below 0.5 indicates that the data trends closer to 0. This further indicatest that the admittance to the University is low with the majority of applicants being rejected."
   ]
  },
  {
   "cell_type": "code",
   "execution_count": 76,
   "id": "89388f96-f932-4e2b-96f7-bf70df3d04f8",
   "metadata": {},
   "outputs": [
    {
     "data": {
      "text/html": [
       "<div>\n",
       "<style scoped>\n",
       "    .dataframe tbody tr th:only-of-type {\n",
       "        vertical-align: middle;\n",
       "    }\n",
       "\n",
       "    .dataframe tbody tr th {\n",
       "        vertical-align: top;\n",
       "    }\n",
       "\n",
       "    .dataframe thead th {\n",
       "        text-align: right;\n",
       "    }\n",
       "</style>\n",
       "<table border=\"1\" class=\"dataframe\">\n",
       "  <thead>\n",
       "    <tr style=\"text-align: right;\">\n",
       "      <th></th>\n",
       "      <th>admit</th>\n",
       "      <th>gre</th>\n",
       "      <th>gpa</th>\n",
       "      <th>rank</th>\n",
       "    </tr>\n",
       "  </thead>\n",
       "  <tbody>\n",
       "    <tr>\n",
       "      <th>count</th>\n",
       "      <td>400.000000</td>\n",
       "      <td>400.000000</td>\n",
       "      <td>400.000000</td>\n",
       "      <td>400.00000</td>\n",
       "    </tr>\n",
       "    <tr>\n",
       "      <th>mean</th>\n",
       "      <td>0.317500</td>\n",
       "      <td>587.700000</td>\n",
       "      <td>3.389900</td>\n",
       "      <td>2.48500</td>\n",
       "    </tr>\n",
       "    <tr>\n",
       "      <th>std</th>\n",
       "      <td>0.466087</td>\n",
       "      <td>115.516536</td>\n",
       "      <td>0.380567</td>\n",
       "      <td>0.94446</td>\n",
       "    </tr>\n",
       "    <tr>\n",
       "      <th>min</th>\n",
       "      <td>0.000000</td>\n",
       "      <td>220.000000</td>\n",
       "      <td>2.260000</td>\n",
       "      <td>1.00000</td>\n",
       "    </tr>\n",
       "    <tr>\n",
       "      <th>25%</th>\n",
       "      <td>0.000000</td>\n",
       "      <td>520.000000</td>\n",
       "      <td>3.130000</td>\n",
       "      <td>2.00000</td>\n",
       "    </tr>\n",
       "    <tr>\n",
       "      <th>50%</th>\n",
       "      <td>0.000000</td>\n",
       "      <td>580.000000</td>\n",
       "      <td>3.395000</td>\n",
       "      <td>2.00000</td>\n",
       "    </tr>\n",
       "    <tr>\n",
       "      <th>75%</th>\n",
       "      <td>1.000000</td>\n",
       "      <td>660.000000</td>\n",
       "      <td>3.670000</td>\n",
       "      <td>3.00000</td>\n",
       "    </tr>\n",
       "    <tr>\n",
       "      <th>max</th>\n",
       "      <td>1.000000</td>\n",
       "      <td>800.000000</td>\n",
       "      <td>4.000000</td>\n",
       "      <td>4.00000</td>\n",
       "    </tr>\n",
       "  </tbody>\n",
       "</table>\n",
       "</div>"
      ],
      "text/plain": [
       "            admit         gre         gpa       rank\n",
       "count  400.000000  400.000000  400.000000  400.00000\n",
       "mean     0.317500  587.700000    3.389900    2.48500\n",
       "std      0.466087  115.516536    0.380567    0.94446\n",
       "min      0.000000  220.000000    2.260000    1.00000\n",
       "25%      0.000000  520.000000    3.130000    2.00000\n",
       "50%      0.000000  580.000000    3.395000    2.00000\n",
       "75%      1.000000  660.000000    3.670000    3.00000\n",
       "max      1.000000  800.000000    4.000000    4.00000"
      ]
     },
     "execution_count": 76,
     "metadata": {},
     "output_type": "execute_result"
    }
   ],
   "source": [
    "admission.describe()"
   ]
  },
  {
   "cell_type": "markdown",
   "id": "6027f03a",
   "metadata": {},
   "source": [
    "#### GRE and GPA Distribution\n",
    "In order to get a better look at how the GRE score and GPAs are distributed we use matplotlib to create bar graphs of the data. The data appears to be faily normally distributed around their respective means. But what is very clear is that there is a large portion of students at the upper bounds. This seems out of place, but if the school is prestigous enough, this could be a selection bias of sorts indicating that a large portion of high achieving students apply to this particular school."
   ]
  },
  {
   "cell_type": "code",
   "execution_count": 77,
   "id": "d7ab79bc-4d72-46c7-aa33-31a904aacbee",
   "metadata": {},
   "outputs": [
    {
     "data": {
      "image/png": "[encoded data removed]",
      "text/plain": [
       "<Figure size 1400x600 with 2 Axes>"
      ]
     },
     "metadata": {},
     "output_type": "display_data"
    }
   ],
   "source": [
    "# Plot histograms for numerical features\n",
    "plt.figure(figsize=(14, 6))\n",
    "\n",
    "plt.subplot(1, 2, 1)\n",
    "sns.histplot(admission['gre'], kde=True, bins=30)\n",
    "plt.title('Distribution of GRE Scores')\n",
    "plt.xlabel('GRE Score')\n",
    "\n",
    "plt.subplot(1, 2, 2)\n",
    "sns.histplot(admission['gpa'], kde=True, bins=30)\n",
    "plt.title('Distribution of GPA')\n",
    "plt.xlabel('GPA')\n",
    "\n",
    "plt.tight_layout()\n",
    "plt.show()\n"
   ]
  },
  {
   "cell_type": "markdown",
   "id": "e18d9f57",
   "metadata": {},
   "source": [
    "#### All distributions\n",
    "Here we plot all the columns into their respective histopgrams to visualize their distributions. We can see again that the proportion of students admitted is scewed away from acceptance, meaning the majority of students are rejected. We also see that the majority of applicants are rank 2 with the fewest being rank 1. It makes sense that if this is a prestigious school that the majority of the students applying fall into a rank 1 or 2 category as they are the students that feel as if they have the best chances."
   ]
  },
  {
   "cell_type": "code",
   "execution_count": 78,
   "id": "00272a83-d5eb-46a9-9961-f4cba49d4165",
   "metadata": {},
   "outputs": [
    {
     "data": {
      "image/png": "[encoded data removed]",
      "text/plain": [
       "<Figure size 640x480 with 4 Axes>"
      ]
     },
     "metadata": {},
     "output_type": "display_data"
    }
   ],
   "source": [
    "admission.hist(color=\"blue\")\n",
    "plt.show()"
   ]
  },
  {
   "cell_type": "markdown",
   "id": "dbe2a4d8",
   "metadata": {},
   "source": [
    "#### Heat Map\n",
    "Heat maps are graphical representations of data where individual values contained in a matrix are represented as colors. They are particularly useful for visualizing complex data sets, as they allow for the quick identification of patterns, correlations, and outliers within the data. Each cell in a heat map corresponds to a specific data point, and the color intensity of the cell indicates the magnitude of the value. By transforming numerical data into visual color gradients, heat maps provide an intuitive and immediate way to discern large-scale data trends and insights.\n",
    "\n",
    "What our heatmap is showing us is there doesn't seem to be a strong correlation between admittance and and of the other statistics. The strongest correlation we see is between GPA and rank, showing and inverse relation, indicating that rank is most likely partially determined by GPA. We also see a decent correlation between GPA and GRE score. This makes sense because a student with a high GPA is more likely to do well on the GRE. But this is not strictly true as and intelligent underachiever could have a low GPA and a high GRE just like an average intellegint student could be an over achiever."
   ]
  },
  {
   "cell_type": "code",
   "execution_count": 79,
   "id": "527d604d-ce39-4a41-a3b8-85a51ac3c5c9",
   "metadata": {},
   "outputs": [
    {
     "data": {
      "image/png": "[encoded data removed]",
      "text/plain": [
       "<Figure size 1000x800 with 2 Axes>"
      ]
     },
     "metadata": {},
     "output_type": "display_data"
    }
   ],
   "source": [
    "# Correlation matrix with a heatmap\n",
    "plt.figure(figsize=(10, 8))\n",
    "sns.heatmap(admission.corr(), annot=True, cmap='coolwarm', vmin=-1, vmax=1)\n",
    "plt.title('Feature Correlation Matrix')\n",
    "plt.show()\n"
   ]
  },
  {
   "cell_type": "markdown",
   "id": "c0f632f3",
   "metadata": {},
   "source": [
    "### 3. Create subsets of the data and train the model\n",
    "Separating data into training and testing subsets is crucial in machine learning to ensure that models generalize well to unseen data. The training subset is used to teach the model, allowing it to learn patterns and relationships within the data. The testing subset, on the other hand, is used to evaluate the model's performance and accuracy on new, unseen data. This distinction helps in assessing how well the model can generalize and predict outcomes beyond the data it was trained on. By avoiding overfitting to the training data, this practice ensures that the model remains robust, reliable, and capable of making accurate predictions in real-world scenarios."
   ]
  },
  {
   "cell_type": "code",
   "execution_count": 80,
   "id": "ba09d05b-360b-4497-8325-b8edc7129fb4",
   "metadata": {},
   "outputs": [],
   "source": [
    "# Splitting the data into features and target\n",
    "X = admission[['gre', 'gpa', 'rank']]\n",
    "y = admission['admit']"
   ]
  },
  {
   "cell_type": "markdown",
   "id": "298354ed",
   "metadata": {},
   "source": [
    "We designate our inputs as X and our outputs as Y. Here we have our inputs of GRE, GPA, and Rank while the outputs are the admission status. The function train_test_split takes our two main datasets and breaks them randomly into four smaller ones with a precentage of $80\\%$ going into the test dataset and $20\\%$ going into the test dataset."
   ]
  },
  {
   "cell_type": "code",
   "execution_count": 81,
   "id": "122e3dc8-91b8-473e-b2b6-318a00149ef7",
   "metadata": {},
   "outputs": [],
   "source": [
    "X_train, X_test, y_train, y_test = train_test_split(X, y, test_size=0.2, random_state=42)"
   ]
  },
  {
   "cell_type": "markdown",
   "id": "3cf5d079",
   "metadata": {},
   "source": [
    "#### Importance of Normalizing Data in Machine Learning\n",
    "\n",
    "Normalizing data improves model performance by ensuring features are on a similar scale, which speeds up convergence, avoids numerical issues, and reduces bias. It's essential for algorithms that assume features are comparably scaled and prepares data for regularization."
   ]
  },
  {
   "cell_type": "code",
   "execution_count": 82,
   "id": "14f711e3-b429-473a-9607-ebda5af6e654",
   "metadata": {},
   "outputs": [],
   "source": [
    "# Normalizing the features\n",
    "scaler = StandardScaler()\n",
    "X_train = scaler.fit_transform(X_train)\n",
    "X_test = scaler.transform(X_test)"
   ]
  },
  {
   "cell_type": "markdown",
   "id": "057eef8a",
   "metadata": {},
   "source": [
    "#### Building our model\n",
    "\n",
    "One of the reasons sklearn is so popular is because of the how easy it makes it to build and train machine learning models. Here you can see that in order to build the model all you have to do is assign a built in class to a variable. Once the class is assigned, it is able to call all of the built in methods. So all the user has to do is call the fit method and pass it the training data, and away it goes."
   ]
  },
  {
   "cell_type": "code",
   "execution_count": 83,
   "id": "95165fa0-8cfe-487c-be7b-7a3877c97af9",
   "metadata": {},
   "outputs": [
    {
     "data": {
      "text/html": [
       "<style>#sk-container-id-5 {\n",
       "  /* Definition of color scheme common for light and dark mode */\n",
       "  --sklearn-color-text: black;\n",
       "  --sklearn-color-line: gray;\n",
       "  /* Definition of color scheme for unfitted estimators */\n",
       "  --sklearn-color-unfitted-level-0: #fff5e6;\n",
       "  --sklearn-color-unfitted-level-1: #f6e4d2;\n",
       "  --sklearn-color-unfitted-level-2: #ffe0b3;\n",
       "  --sklearn-color-unfitted-level-3: chocolate;\n",
       "  /* Definition of color scheme for fitted estimators */\n",
       "  --sklearn-color-fitted-level-0: #f0f8ff;\n",
       "  --sklearn-color-fitted-level-1: #d4ebff;\n",
       "  --sklearn-color-fitted-level-2: #b3dbfd;\n",
       "  --sklearn-color-fitted-level-3: cornflowerblue;\n",
       "\n",
       "  /* Specific color for light theme */\n",
       "  --sklearn-color-text-on-default-background: var(--sg-text-color, var(--theme-code-foreground, var(--jp-content-font-color1, black)));\n",
       "  --sklearn-color-background: var(--sg-background-color, var(--theme-background, var(--jp-layout-color0, white)));\n",
       "  --sklearn-color-border-box: var(--sg-text-color, var(--theme-code-foreground, var(--jp-content-font-color1, black)));\n",
       "  --sklearn-color-icon: #696969;\n",
       "\n",
       "  @media (prefers-color-scheme: dark) {\n",
       "    /* Redefinition of color scheme for dark theme */\n",
       "    --sklearn-color-text-on-default-background: var(--sg-text-color, var(--theme-code-foreground, var(--jp-content-font-color1, white)));\n",
       "    --sklearn-color-background: var(--sg-background-color, var(--theme-background, var(--jp-layout-color0, #111)));\n",
       "    --sklearn-color-border-box: var(--sg-text-color, var(--theme-code-foreground, var(--jp-content-font-color1, white)));\n",
       "    --sklearn-color-icon: #878787;\n",
       "  }\n",
       "}\n",
       "\n",
       "#sk-container-id-5 {\n",
       "  color: var(--sklearn-color-text);\n",
       "}\n",
       "\n",
       "#sk-container-id-5 pre {\n",
       "  padding: 0;\n",
       "}\n",
       "\n",
       "#sk-container-id-5 input.sk-hidden--visually {\n",
       "  border: 0;\n",
       "  clip: rect(1px 1px 1px 1px);\n",
       "  clip: rect(1px, 1px, 1px, 1px);\n",
       "  height: 1px;\n",
       "  margin: -1px;\n",
       "  overflow: hidden;\n",
       "  padding: 0;\n",
       "  position: absolute;\n",
       "  width: 1px;\n",
       "}\n",
       "\n",
       "#sk-container-id-5 div.sk-dashed-wrapped {\n",
       "  border: 1px dashed var(--sklearn-color-line);\n",
       "  margin: 0 0.4em 0.5em 0.4em;\n",
       "  box-sizing: border-box;\n",
       "  padding-bottom: 0.4em;\n",
       "  background-color: var(--sklearn-color-background);\n",
       "}\n",
       "\n",
       "#sk-container-id-5 div.sk-container {\n",
       "  /* jupyter's `normalize.less` sets `[hidden] { display: none; }`\n",
       "     but bootstrap.min.css set `[hidden] { display: none !important; }`\n",
       "     so we also need the `!important` here to be able to override the\n",
       "     default hidden behavior on the sphinx rendered scikit-learn.org.\n",
       "     See: https://github.com/scikit-learn/scikit-learn/issues/21755 */\n",
       "  display: inline-block !important;\n",
       "  position: relative;\n",
       "}\n",
       "\n",
       "#sk-container-id-5 div.sk-text-repr-fallback {\n",
       "  display: none;\n",
       "}\n",
       "\n",
       "div.sk-parallel-item,\n",
       "div.sk-serial,\n",
       "div.sk-item {\n",
       "  /* draw centered vertical line to link estimators */\n",
       "  background-image: linear-gradient(var(--sklearn-color-text-on-default-background), var(--sklearn-color-text-on-default-background));\n",
       "  background-size: 2px 100%;\n",
       "  background-repeat: no-repeat;\n",
       "  background-position: center center;\n",
       "}\n",
       "\n",
       "/* Parallel-specific style estimator block */\n",
       "\n",
       "#sk-container-id-5 div.sk-parallel-item::after {\n",
       "  content: \"\";\n",
       "  width: 100%;\n",
       "  border-bottom: 2px solid var(--sklearn-color-text-on-default-background);\n",
       "  flex-grow: 1;\n",
       "}\n",
       "\n",
       "#sk-container-id-5 div.sk-parallel {\n",
       "  display: flex;\n",
       "  align-items: stretch;\n",
       "  justify-content: center;\n",
       "  background-color: var(--sklearn-color-background);\n",
       "  position: relative;\n",
       "}\n",
       "\n",
       "#sk-container-id-5 div.sk-parallel-item {\n",
       "  display: flex;\n",
       "  flex-direction: column;\n",
       "}\n",
       "\n",
       "#sk-container-id-5 div.sk-parallel-item:first-child::after {\n",
       "  align-self: flex-end;\n",
       "  width: 50%;\n",
       "}\n",
       "\n",
       "#sk-container-id-5 div.sk-parallel-item:last-child::after {\n",
       "  align-self: flex-start;\n",
       "  width: 50%;\n",
       "}\n",
       "\n",
       "#sk-container-id-5 div.sk-parallel-item:only-child::after {\n",
       "  width: 0;\n",
       "}\n",
       "\n",
       "/* Serial-specific style estimator block */\n",
       "\n",
       "#sk-container-id-5 div.sk-serial {\n",
       "  display: flex;\n",
       "  flex-direction: column;\n",
       "  align-items: center;\n",
       "  background-color: var(--sklearn-color-background);\n",
       "  padding-right: 1em;\n",
       "  padding-left: 1em;\n",
       "}\n",
       "\n",
       "\n",
       "/* Toggleable style: style used for estimator/Pipeline/ColumnTransformer box that is\n",
       "clickable and can be expanded/collapsed.\n",
       "- Pipeline and ColumnTransformer use this feature and define the default style\n",
       "- Estimators will overwrite some part of the style using the `sk-estimator` class\n",
       "*/\n",
       "\n",
       "/* Pipeline and ColumnTransformer style (default) */\n",
       "\n",
       "#sk-container-id-5 div.sk-toggleable {\n",
       "  /* Default theme specific background. It is overwritten whether we have a\n",
       "  specific estimator or a Pipeline/ColumnTransformer */\n",
       "  background-color: var(--sklearn-color-background);\n",
       "}\n",
       "\n",
       "/* Toggleable label */\n",
       "#sk-container-id-5 label.sk-toggleable__label {\n",
       "  cursor: pointer;\n",
       "  display: block;\n",
       "  width: 100%;\n",
       "  margin-bottom: 0;\n",
       "  padding: 0.5em;\n",
       "  box-sizing: border-box;\n",
       "  text-align: center;\n",
       "}\n",
       "\n",
       "#sk-container-id-5 label.sk-toggleable__label-arrow:before {\n",
       "  /* Arrow on the left of the label */\n",
       "  content: \"▸\";\n",
       "  float: left;\n",
       "  margin-right: 0.25em;\n",
       "  color: var(--sklearn-color-icon);\n",
       "}\n",
       "\n",
       "#sk-container-id-5 label.sk-toggleable__label-arrow:hover:before {\n",
       "  color: var(--sklearn-color-text);\n",
       "}\n",
       "\n",
       "/* Toggleable content - dropdown */\n",
       "\n",
       "#sk-container-id-5 div.sk-toggleable__content {\n",
       "  max-height: 0;\n",
       "  max-width: 0;\n",
       "  overflow: hidden;\n",
       "  text-align: left;\n",
       "  /* unfitted */\n",
       "  background-color: var(--sklearn-color-unfitted-level-0);\n",
       "}\n",
       "\n",
       "#sk-container-id-5 div.sk-toggleable__content.fitted {\n",
       "  /* fitted */\n",
       "  background-color: var(--sklearn-color-fitted-level-0);\n",
       "}\n",
       "\n",
       "#sk-container-id-5 div.sk-toggleable__content pre {\n",
       "  margin: 0.2em;\n",
       "  border-radius: 0.25em;\n",
       "  color: var(--sklearn-color-text);\n",
       "  /* unfitted */\n",
       "  background-color: var(--sklearn-color-unfitted-level-0);\n",
       "}\n",
       "\n",
       "#sk-container-id-5 div.sk-toggleable__content.fitted pre {\n",
       "  /* unfitted */\n",
       "  background-color: var(--sklearn-color-fitted-level-0);\n",
       "}\n",
       "\n",
       "#sk-container-id-5 input.sk-toggleable__control:checked~div.sk-toggleable__content {\n",
       "  /* Expand drop-down */\n",
       "  max-height: 200px;\n",
       "  max-width: 100%;\n",
       "  overflow: auto;\n",
       "}\n",
       "\n",
       "#sk-container-id-5 input.sk-toggleable__control:checked~label.sk-toggleable__label-arrow:before {\n",
       "  content: \"▾\";\n",
       "}\n",
       "\n",
       "/* Pipeline/ColumnTransformer-specific style */\n",
       "\n",
       "#sk-container-id-5 div.sk-label input.sk-toggleable__control:checked~label.sk-toggleable__label {\n",
       "  color: var(--sklearn-color-text);\n",
       "  background-color: var(--sklearn-color-unfitted-level-2);\n",
       "}\n",
       "\n",
       "#sk-container-id-5 div.sk-label.fitted input.sk-toggleable__control:checked~label.sk-toggleable__label {\n",
       "  background-color: var(--sklearn-color-fitted-level-2);\n",
       "}\n",
       "\n",
       "/* Estimator-specific style */\n",
       "\n",
       "/* Colorize estimator box */\n",
       "#sk-container-id-5 div.sk-estimator input.sk-toggleable__control:checked~label.sk-toggleable__label {\n",
       "  /* unfitted */\n",
       "  background-color: var(--sklearn-color-unfitted-level-2);\n",
       "}\n",
       "\n",
       "#sk-container-id-5 div.sk-estimator.fitted input.sk-toggleable__control:checked~label.sk-toggleable__label {\n",
       "  /* fitted */\n",
       "  background-color: var(--sklearn-color-fitted-level-2);\n",
       "}\n",
       "\n",
       "#sk-container-id-5 div.sk-label label.sk-toggleable__label,\n",
       "#sk-container-id-5 div.sk-label label {\n",
       "  /* The background is the default theme color */\n",
       "  color: var(--sklearn-color-text-on-default-background);\n",
       "}\n",
       "\n",
       "/* On hover, darken the color of the background */\n",
       "#sk-container-id-5 div.sk-label:hover label.sk-toggleable__label {\n",
       "  color: var(--sklearn-color-text);\n",
       "  background-color: var(--sklearn-color-unfitted-level-2);\n",
       "}\n",
       "\n",
       "/* Label box, darken color on hover, fitted */\n",
       "#sk-container-id-5 div.sk-label.fitted:hover label.sk-toggleable__label.fitted {\n",
       "  color: var(--sklearn-color-text);\n",
       "  background-color: var(--sklearn-color-fitted-level-2);\n",
       "}\n",
       "\n",
       "/* Estimator label */\n",
       "\n",
       "#sk-container-id-5 div.sk-label label {\n",
       "  font-family: monospace;\n",
       "  font-weight: bold;\n",
       "  display: inline-block;\n",
       "  line-height: 1.2em;\n",
       "}\n",
       "\n",
       "#sk-container-id-5 div.sk-label-container {\n",
       "  text-align: center;\n",
       "}\n",
       "\n",
       "/* Estimator-specific */\n",
       "#sk-container-id-5 div.sk-estimator {\n",
       "  font-family: monospace;\n",
       "  border: 1px dotted var(--sklearn-color-border-box);\n",
       "  border-radius: 0.25em;\n",
       "  box-sizing: border-box;\n",
       "  margin-bottom: 0.5em;\n",
       "  /* unfitted */\n",
       "  background-color: var(--sklearn-color-unfitted-level-0);\n",
       "}\n",
       "\n",
       "#sk-container-id-5 div.sk-estimator.fitted {\n",
       "  /* fitted */\n",
       "  background-color: var(--sklearn-color-fitted-level-0);\n",
       "}\n",
       "\n",
       "/* on hover */\n",
       "#sk-container-id-5 div.sk-estimator:hover {\n",
       "  /* unfitted */\n",
       "  background-color: var(--sklearn-color-unfitted-level-2);\n",
       "}\n",
       "\n",
       "#sk-container-id-5 div.sk-estimator.fitted:hover {\n",
       "  /* fitted */\n",
       "  background-color: var(--sklearn-color-fitted-level-2);\n",
       "}\n",
       "\n",
       "/* Specification for estimator info (e.g. \"i\" and \"?\") */\n",
       "\n",
       "/* Common style for \"i\" and \"?\" */\n",
       "\n",
       ".sk-estimator-doc-link,\n",
       "a:link.sk-estimator-doc-link,\n",
       "a:visited.sk-estimator-doc-link {\n",
       "  float: right;\n",
       "  font-size: smaller;\n",
       "  line-height: 1em;\n",
       "  font-family: monospace;\n",
       "  background-color: var(--sklearn-color-background);\n",
       "  border-radius: 1em;\n",
       "  height: 1em;\n",
       "  width: 1em;\n",
       "  text-decoration: none !important;\n",
       "  margin-left: 1ex;\n",
       "  /* unfitted */\n",
       "  border: var(--sklearn-color-unfitted-level-1) 1pt solid;\n",
       "  color: var(--sklearn-color-unfitted-level-1);\n",
       "}\n",
       "\n",
       ".sk-estimator-doc-link.fitted,\n",
       "a:link.sk-estimator-doc-link.fitted,\n",
       "a:visited.sk-estimator-doc-link.fitted {\n",
       "  /* fitted */\n",
       "  border: var(--sklearn-color-fitted-level-1) 1pt solid;\n",
       "  color: var(--sklearn-color-fitted-level-1);\n",
       "}\n",
       "\n",
       "/* On hover */\n",
       "div.sk-estimator:hover .sk-estimator-doc-link:hover,\n",
       ".sk-estimator-doc-link:hover,\n",
       "div.sk-label-container:hover .sk-estimator-doc-link:hover,\n",
       ".sk-estimator-doc-link:hover {\n",
       "  /* unfitted */\n",
       "  background-color: var(--sklearn-color-unfitted-level-3);\n",
       "  color: var(--sklearn-color-background);\n",
       "  text-decoration: none;\n",
       "}\n",
       "\n",
       "div.sk-estimator.fitted:hover .sk-estimator-doc-link.fitted:hover,\n",
       ".sk-estimator-doc-link.fitted:hover,\n",
       "div.sk-label-container:hover .sk-estimator-doc-link.fitted:hover,\n",
       ".sk-estimator-doc-link.fitted:hover {\n",
       "  /* fitted */\n",
       "  background-color: var(--sklearn-color-fitted-level-3);\n",
       "  color: var(--sklearn-color-background);\n",
       "  text-decoration: none;\n",
       "}\n",
       "\n",
       "/* Span, style for the box shown on hovering the info icon */\n",
       ".sk-estimator-doc-link span {\n",
       "  display: none;\n",
       "  z-index: 9999;\n",
       "  position: relative;\n",
       "  font-weight: normal;\n",
       "  right: .2ex;\n",
       "  padding: .5ex;\n",
       "  margin: .5ex;\n",
       "  width: min-content;\n",
       "  min-width: 20ex;\n",
       "  max-width: 50ex;\n",
       "  color: var(--sklearn-color-text);\n",
       "  box-shadow: 2pt 2pt 4pt #999;\n",
       "  /* unfitted */\n",
       "  background: var(--sklearn-color-unfitted-level-0);\n",
       "  border: .5pt solid var(--sklearn-color-unfitted-level-3);\n",
       "}\n",
       "\n",
       ".sk-estimator-doc-link.fitted span {\n",
       "  /* fitted */\n",
       "  background: var(--sklearn-color-fitted-level-0);\n",
       "  border: var(--sklearn-color-fitted-level-3);\n",
       "}\n",
       "\n",
       ".sk-estimator-doc-link:hover span {\n",
       "  display: block;\n",
       "}\n",
       "\n",
       "/* \"?\"-specific style due to the `<a>` HTML tag */\n",
       "\n",
       "#sk-container-id-5 a.estimator_doc_link {\n",
       "  float: right;\n",
       "  font-size: 1rem;\n",
       "  line-height: 1em;\n",
       "  font-family: monospace;\n",
       "  background-color: var(--sklearn-color-background);\n",
       "  border-radius: 1rem;\n",
       "  height: 1rem;\n",
       "  width: 1rem;\n",
       "  text-decoration: none;\n",
       "  /* unfitted */\n",
       "  color: var(--sklearn-color-unfitted-level-1);\n",
       "  border: var(--sklearn-color-unfitted-level-1) 1pt solid;\n",
       "}\n",
       "\n",
       "#sk-container-id-5 a.estimator_doc_link.fitted {\n",
       "  /* fitted */\n",
       "  border: var(--sklearn-color-fitted-level-1) 1pt solid;\n",
       "  color: var(--sklearn-color-fitted-level-1);\n",
       "}\n",
       "\n",
       "/* On hover */\n",
       "#sk-container-id-5 a.estimator_doc_link:hover {\n",
       "  /* unfitted */\n",
       "  background-color: var(--sklearn-color-unfitted-level-3);\n",
       "  color: var(--sklearn-color-background);\n",
       "  text-decoration: none;\n",
       "}\n",
       "\n",
       "#sk-container-id-5 a.estimator_doc_link.fitted:hover {\n",
       "  /* fitted */\n",
       "  background-color: var(--sklearn-color-fitted-level-3);\n",
       "}\n",
       "</style><div id=\"sk-container-id-5\" class=\"sk-top-container\"><div class=\"sk-text-repr-fallback\"><pre>LogisticRegression(max_iter=1000)</pre><b>In a Jupyter environment, please rerun this cell to show the HTML representation or trust the notebook. <br />On GitHub, the HTML representation is unable to render, please try loading this page with nbviewer.org.</b></div><div class=\"sk-container\" hidden><div class=\"sk-item\"><div class=\"sk-estimator fitted sk-toggleable\"><input class=\"sk-toggleable__control sk-hidden--visually\" id=\"sk-estimator-id-5\" type=\"checkbox\" checked><label for=\"sk-estimator-id-5\" class=\"sk-toggleable__label fitted sk-toggleable__label-arrow fitted\">&nbsp;&nbsp;LogisticRegression<a class=\"sk-estimator-doc-link fitted\" rel=\"noreferrer\" target=\"_blank\" href=\"https://scikit-learn.org/1.5/modules/generated/sklearn.linear_model.LogisticRegression.html\">?<span>Documentation for LogisticRegression</span></a><span class=\"sk-estimator-doc-link fitted\">i<span>Fitted</span></span></label><div class=\"sk-toggleable__content fitted\"><pre>LogisticRegression(max_iter=1000)</pre></div> </div></div></div></div>"
      ],
      "text/plain": [
       "LogisticRegression(max_iter=1000)"
      ]
     },
     "execution_count": 83,
     "metadata": {},
     "output_type": "execute_result"
    }
   ],
   "source": [
    "# Creating and training the logistic regression model\n",
    "log_reg = LogisticRegression(max_iter=1000)\n",
    "log_reg.fit(X_train, y_train)"
   ]
  },
  {
   "cell_type": "markdown",
   "id": "5ca52878",
   "metadata": {},
   "source": [
    "### 4. Evaluate the success of the model\n",
    "\n",
    "In order to evaluate the model, we must pass it data it hasn't seen before and see what the outcome is and how well the model perfomes. This is what we are doing by passing the X_test data into the model and storing the results in y_pred."
   ]
  },
  {
   "cell_type": "code",
   "execution_count": null,
   "id": "6ff9eb3c",
   "metadata": {},
   "outputs": [],
   "source": [
    "# Making predictions\n",
    "y_pred = log_reg.predict(X_test)\n"
   ]
  },
  {
   "cell_type": "markdown",
   "id": "f0722a97",
   "metadata": {},
   "source": [
    "#### Accuracy\n",
    "We can determine the accuracy by seeing the degree to which out model agrees and disagrees with the actual outcomes. As you can see the model was only able to make an accurate prediction  $\\sim 70\\%$ of the time. This is good, but not great. What this indicates is that the model had a very tough time determining an pattern. "
   ]
  },
  {
   "cell_type": "code",
   "execution_count": null,
   "id": "1e7482b4-5071-47c7-9e7d-d970c05d7b5f",
   "metadata": {},
   "outputs": [
    {
     "name": "stdout",
     "output_type": "stream",
     "text": [
      "Accuracy: 67.50%\n",
      "Confusion Matrix:\n",
      "[[50  3]\n",
      " [23  4]]\n"
     ]
    }
   ],
   "source": [
    "# Evaluating the model\n",
    "accuracy = accuracy_score(y_test, y_pred)\n",
    "conf_matrix = confusion_matrix(y_test, y_pred)\n",
    "\n",
    "# Print the results\n",
    "print(f\"Accuracy: {accuracy:.2%}\")"
   ]
  },
  {
   "cell_type": "code",
   "execution_count": 86,
   "id": "59d997e6-3455-4d40-9fc9-98f15569021b",
   "metadata": {},
   "outputs": [
    {
     "name": "stdout",
     "output_type": "stream",
     "text": [
      "Classification Report:\n",
      "              precision    recall  f1-score   support\n",
      "\n",
      "           0       0.68      0.94      0.79        53\n",
      "           1       0.57      0.15      0.24        27\n",
      "\n",
      "    accuracy                           0.68        80\n",
      "   macro avg       0.63      0.55      0.51        80\n",
      "weighted avg       0.65      0.68      0.61        80\n",
      "\n"
     ]
    }
   ],
   "source": [
    "class_report = classification_report(y_test, y_pred)\n",
    "\n",
    "print(\"Classification Report:\")\n",
    "print(class_report)"
   ]
  },
  {
   "cell_type": "markdown",
   "id": "72592b58",
   "metadata": {},
   "source": [
    "#### Confusion Matrix\n",
    "\n",
    "The confusion matrix shows us where the model got \"confused\" and miss identified that admittance status of a student. It was decently good at determining if a student would be rejected, but not near as good at determining if they would be accepted. The upper left $50$ is the number of times the model correctly determined if a student would get rejected indicated by the intersection of the 0's. The bottom left $23$ determines a miss caracterization of acceptance when when the student was actually rejected. The worst metric by far is the bottom right $4$. This is how many times the model was abot to accuratly determine if a student was accepted."
   ]
  },
  {
   "cell_type": "code",
   "execution_count": 87,
   "id": "cfdaa7f4-d038-4f2e-aa87-1185d75a1296",
   "metadata": {},
   "outputs": [
    {
     "data": {
      "text/plain": [
       "<Axes: >"
      ]
     },
     "execution_count": 87,
     "metadata": {},
     "output_type": "execute_result"
    },
    {
     "data": {
      "image/png": "[encoded data removed]",
      "text/plain": [
       "<Figure size 640x480 with 2 Axes>"
      ]
     },
     "metadata": {},
     "output_type": "display_data"
    }
   ],
   "source": [
    "sns.heatmap(conf_matrix, annot=True)"
   ]
  },
  {
   "cell_type": "markdown",
   "id": "8d89079a",
   "metadata": {},
   "source": [
    "This inability to determine if a student would be accepted is reflected in the percentage below. Only being able to deterimne the correct outcome $\\sim 40\\%$ of the time is not very good."
   ]
  },
  {
   "cell_type": "code",
   "execution_count": 88,
   "id": "b38a0473-0024-4409-b5ba-932c9d86a1f8",
   "metadata": {},
   "outputs": [
    {
     "name": "stdout",
     "output_type": "stream",
     "text": [
      "Number of misclassified examples: 185\n",
      "Prediction accuracy on the training data: 42.19%\n"
     ]
    }
   ],
   "source": [
    "A_final = np.random.randn(X_train.shape[1])\n",
    "\n",
    "linear_combination = np.dot(X_train, A_final)\n",
    "prediction = 1 / (1 + np.exp(-linear_combination))\n",
    "class_y = (prediction >= 0.5).astype(int)\n",
    "num_misclassified = np.sum(class_y != y_train)\n",
    "accuracy = np.mean(class_y == y_train) * 100\n",
    "\n",
    "print(f\"Number of misclassified examples: {num_misclassified}\")\n",
    "print(f\"Prediction accuracy on the training data: {accuracy:.2f}%\")\n"
   ]
  },
  {
   "cell_type": "markdown",
   "id": "124c2277",
   "metadata": {},
   "source": [
    "#### Logistic Regression Coefficients\n",
    "In scikit-learn, logistic regression coefficients represent the relationship between the input features and the log-odds of the target class. Each coefficient indicates the change in the log-odds of the outcome for a one-unit change in the corresponding feature, holding all other features constant. These coefficients help in understanding the impact of each feature on the predicted probability of the target class and are accessible via the .coef_ attribute of the LogisticRegression model after fitting the data.\n",
    "\n",
    "So, what we see is that there are not any strong coefficients. The strongest there is is Rank, and it is only decently strong."
   ]
  },
  {
   "cell_type": "code",
   "execution_count": 89,
   "id": "0bbad67f-c33a-4beb-9577-97833e3448c5",
   "metadata": {},
   "outputs": [
    {
     "name": "stdout",
     "output_type": "stream",
     "text": [
      "Feature Coefficients:\n",
      "  Feature  Coefficient\n",
      "0     gre     0.200257\n",
      "1     gpa     0.330198\n",
      "2    rank    -0.577485\n"
     ]
    },
    {
     "data": {
      "image/png": "[encoded data removed]",
      "text/plain": [
       "<Figure size 640x480 with 1 Axes>"
      ]
     },
     "metadata": {},
     "output_type": "display_data"
    }
   ],
   "source": [
    "# Standardize the features\n",
    "scaler = StandardScaler()\n",
    "X_train_scaled = scaler.fit_transform(X_train)\n",
    "\n",
    "# Train the logistic regression model\n",
    "model = LogisticRegression()\n",
    "model.fit(X_train_scaled, y_train)\n",
    "\n",
    "# Print coefficients\n",
    "coefficients = pd.DataFrame({'Feature': ['gre', 'gpa', 'rank'], 'Coefficient': model.coef_[0]})\n",
    "print(\"Feature Coefficients:\")\n",
    "print(coefficients)\n",
    "\n",
    "# Visualize coefficients\n",
    "coefficients.set_index('Feature').plot(kind='bar', legend=False)\n",
    "plt.title('Logistic Regression Coefficients')\n",
    "plt.ylabel('Coefficient Value')\n",
    "plt.show()\n",
    "\n"
   ]
  },
  {
   "cell_type": "markdown",
   "id": "cad1e1da",
   "metadata": {},
   "source": [
    "### 5. Conclusion\n",
    "\n",
    "What we can determine from this data is that our model had a very difficult time finding underlying patterns given this dataset. What we suspect is happening is that our data does not include a lot of the nuances of the application process. We believe that the GPA, GRE, and Rank is not enough data to determine how the University deciedes to accept and reject students. Other factors most go into the decision making process such as a written essay, extra curricular activities, etc. Because we do not have this information the best we can do is determine if a particular student has good or bad chances of acceptance based off their GPA and GRE, but we cannot say for certain if they will actually be accepted. "
   ]
  }
 ],
 "metadata": {
  "kernelspec": {
   "display_name": "4040",
   "language": "python",
   "name": "python3"
  },
  "language_info": {
   "codemirror_mode": {
    "name": "ipython",
    "version": 3
   },
   "file_extension": ".py",
   "mimetype": "text/x-python",
   "name": "python",
   "nbconvert_exporter": "python",
   "pygments_lexer": "ipython3",
   "version": "3.11.9"
  }
 },
 "nbformat": 4,
 "nbformat_minor": 5
}
