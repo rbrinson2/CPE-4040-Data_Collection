{
 "cells": [
  {
   "cell_type": "markdown",
   "metadata": {},
   "source": [
    "<center><h1> CPE 4040: Homework 3</h1></center>"
   ]
  },
  {
   "cell_type": "markdown",
   "metadata": {},
   "source": [
    "1. Write your answer in the cell provided under each question.\n",
    "2. __Important: Write comments__ in the code to explain your thoughts. __You may lose points without comments.__\n",
    "3. Show your execution result. \n",
    "4. Do your own work. __Do not copy-and-paste other people's (or Generative AI's) codes.__    \n",
    "\n",
    "### Submission:\n",
    " * __Submit this notebook file and the pdf version__ - remember to add your name in the filename.\n",
    
   ]
  },
  {
   "cell_type": "markdown",
   "metadata": {},
   "source": [
    "## Q1: Functions and Lambda (15 Points)\n",
    "\n",
    "#### Q1.1: Sort the tuples in the list based on the second item (that is, the state name), in __descending order__ alphabetically. \n",
    "#### You will write a small function, `\"second\"`, to achieve this purpose. "
   ]
  },
  {
   "cell_type": "code",
   "execution_count": 9,
   "metadata": {},
   "outputs": [],
   "source": [
    "state=[(19542209, \"New York\") ,(4887871, \"Alabama\"), (1420491, \"Wyoming\"), \n",
    "       (626299, \"Vermont\"), (1805832, \"Utah\"), (39865590, \"California\")]"
   ]
  },
  {
   "cell_type": "code",
   "execution_count": null,
   "metadata": {},
   "outputs": [],
   "source": []
  },
  {
   "cell_type": "markdown",
   "metadata": {},
   "source": [
    "#### Q1.2 Perform the same task as in Q1.1, however, you will write a `lambda` function to replace `\"second\"`. "
   ]
  },
  {
   "cell_type": "code",
   "execution_count": null,
   "metadata": {},
   "outputs": [],
   "source": []
  },
  {
   "cell_type": "markdown",
   "metadata": {},
   "source": [
    "#### Q1.3 Use the sorted method and lambda to sort the tuples in the list based on the `next to last` character of the second items."
   ]
  },
  {
   "cell_type": "code",
   "execution_count": null,
   "metadata": {},
   "outputs": [],
   "source": []
  },
  {
   "cell_type": "markdown",
   "metadata": {},
   "source": [
    "## Q2: List Comprehension vs. Map/Filter + Lambda (15 Points)\n",
    "#### For each question below, use both list comprehension and Python `map()` or `filter( )` function. \n",
    "#### Use `%%timeit` magic command to profile the computation time. Make some comments about the profiling results."
   ]
  },
  {
   "cell_type": "markdown",
   "metadata": {},
   "source": [
    "#### Q2.1 For each of the floating number in the list, calcuate the __square__ of it and __round__ the result to 2 decimal places. "
   ]
  },
  {
   "cell_type": "code",
   "execution_count": 16,
   "metadata": {},
   "outputs": [],
   "source": [
    "num = [4.35, 6.09, 3.25, 9.77, 2.16, 8.88, 4.59]"
   ]
  },
  {
   "cell_type": "code",
   "execution_count": 1,
   "metadata": {},
   "outputs": [],
   "source": [
    "## List comprehension\n"
   ]
  },
  {
   "cell_type": "code",
   "execution_count": 2,
   "metadata": {},
   "outputs": [],
   "source": [
    "# map() function\n"
   ]
  },
  {
   "cell_type": "markdown",
   "metadata": {},
   "source": [
    "#### Q2.2 For each of the name in the list, print only the names with less than 7 letters."
   ]
  },
  {
   "cell_type": "code",
   "execution_count": 21,
   "metadata": {},
   "outputs": [],
   "source": [
    "names = [\"olumide\", \"akinremi\", \"alex\", \"josiah\", \"john\", \"temidayo\", \"emily\", \"omoseun\"]"
   ]
  },
  {
   "cell_type": "code",
   "execution_count": 3,
   "metadata": {},
   "outputs": [],
   "source": [
    "# Use List Comprehension\n"
   ]
  },
  {
   "cell_type": "code",
   "execution_count": 4,
   "metadata": {},
   "outputs": [],
   "source": [
    "# Use filter() function\n"
   ]
  },
  {
   "cell_type": "markdown",
   "metadata": {},
   "source": [
    "## Q3: Dictionary Operations (20 Points)"
   ]
  },
  {
   "cell_type": "markdown",
   "metadata": {},
   "source": [
    "#### Q3.1 Shopping Lists\n",
    "You are given two shopping lists (with items and quantity), one from your mom and one for yourself:\n",
    " * mom's list: banana 5, avacado 8, eggs 12, milk 2, orange 6\n",
    " * your list: Red Bull 12, potato chips 5, pineapple 3, eggs 6, avacado 4\n",
    "        \n",
    "Please construct two dictionaries, one for each shopping list."
   ]
  },
  {
   "cell_type": "code",
   "execution_count": null,
   "metadata": {},
   "outputs": [],
   "source": []
  },
  {
   "cell_type": "markdown",
   "metadata": {},
   "source": [
    "#### Q3.2 Merging the Shopping Lists\n",
    "You realize there are some overlapping items on the lists, so you decide to merge the two.\n",
    "\n",
    "Please write a `__function, merge_shop_list(a, b)__`, that takes two dictionaries __a__ and __b__ as inputs, and merge them together. If there is a common item, you should add the quantities together. The function shall return the merged dictionary (or the shopping list).\n",
    "\n",
    "Show your result by printing the merged shopping list."
   ]
  },
  {
   "cell_type": "code",
   "execution_count": null,
   "metadata": {},
   "outputs": [],
   "source": []
  },
  {
   "cell_type": "markdown",
   "metadata": {},
   "source": [
    "## Q4: AppleStore Dataset (50 points)\n",
    "\n",
    "#### Q4.1 Genres and Content Ratings\n",
    "\n",
    "With the AppleStore dataset, we found that \"Game\" is the most popular genre with more than 3000+ apps. We also realized that there are four different age-based content ratings (4+, 9+, 12+, and 17+). \n",
    "\n",
    "Write a Python program that analyzes the content rating distribution for the top three genres (Game, Entertainment and Education). That is, we want to know, for example, in the \"Game\" genere, how many apps are 4+, 9+, 12+, and 17+, respectively. \n",
    "\n",
    "__There are different ways to do this. Try your best to come up with a solution.__ "
   ]
  },
  {
   "cell_type": "code",
   "execution_count": 222,
   "metadata": {},
   "outputs": [],
   "source": [
    "opened_file = open('AppleStore.csv', encoding=\"utf-8\")\n",
    "from csv import reader\n",
    "\n",
    "read_file = reader(opened_file)\n",
    "apps_data = list(read_file)"
   ]
  },
  {
   "cell_type": "code",
   "execution_count": null,
   "metadata": {},
   "outputs": [],
   "source": []
  },
  {
   "cell_type": "markdown",
   "metadata": {},
   "source": [
    "__Q4.2 We are also interested in the price of the apps. Specifically, we want to know the number of applications in five different price ranges, that is,__ \n",
    "1. free\n",
    "2. 0 < price < 5\n",
    "3. 5<= price < 10\n",
    "4. 10 <= price < 50\n",
    "5. price >=50.\n",
    "\n",
    "__Please write a code that shows the price range distribution.__"
   ]
  },
  {
   "cell_type": "code",
   "execution_count": 224,
   "metadata": {},
   "outputs": [],
   "source": [
    "# Initialize the price range dictionary. You will write the rest.\n",
    "\n",
    "price_range = {'Free': 0, '0 to $5': 0, '$5 to $10': 0, '$10 to $50': 0, '>= $50': 0}"
   ]
  },
  {
   "cell_type": "code",
   "execution_count": null,
   "metadata": {},
   "outputs": [],
   "source": []
  },
  {
   "cell_type": "markdown",
   "metadata": {},
   "source": [
    "#### Q4.3 How many of the applications are free? That is, find out how many applications are priced at $0.0."
   ]
  },
  {
   "cell_type": "code",
   "execution_count": null,
   "metadata": {},
   "outputs": [],
   "source": []
  },
  {
   "cell_type": "markdown",
   "metadata": {},
   "source": [
    "#### Q4.4 What are the three most expensive prices? How much? What are the titles?"
   ]
  },
  {
   "cell_type": "code",
   "execution_count": null,
   "metadata": {},
   "outputs": [],
   "source": []
  }
 ],
 "metadata": {
  "kernelspec": {
   "display_name": "Python 3",
   "language": "python",
   "name": "python3"
  },
  "language_info": {
   "codemirror_mode": {
    "name": "ipython",
    "version": 3
   },
   "file_extension": ".py",
   "mimetype": "text/x-python",
   "name": "python",
   "nbconvert_exporter": "python",
   "pygments_lexer": "ipython3",
   "version": "3.8.8"
  }
 },
 "nbformat": 4,
 "nbformat_minor": 2
}
