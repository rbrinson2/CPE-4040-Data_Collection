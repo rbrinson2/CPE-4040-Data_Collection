{
 "cells": [
  {
   "cell_type": "markdown",
   "metadata": {},
   "source": [
    "<center><h1> CPE 4040: Homework 2</h1></center>"
   ]
  },
  {
   "cell_type": "markdown",
   "metadata": {},
   "source": [
    "1. Write your answer in the cell provided under each question.\n",
    "2. __Important: Write comments__ in the code to explain your thoughts. __You may lose points without comments.__\n",
    "3. Show your execution result. \n",
    "4. Do your own work. __Do not copy-and-paste other people's (or Generative AI's) codes.__    \n",
    "\n",
    "### Submission:\n",
    " * __Submit this notebook file and the pdf version__ - remember to add your name in the filename.\n",
    "#### You will write a small function, `\"second\"`, to achieve this purpose. "
   ]
  },
  {
   "metadata": {},
   "cell_type": "markdown",
   "source": [
    "## Q1: Functions and Lambda (15 Points)\n",
    "\n",
    "#### Q1.1: Sort the tuples in the list based on the second item (that is, the state name), in __descending order__ alphabetically.\n",
    "#### You will write a small function, \"second\", to achieve this purpose. "
   ]
  },
  {
   "metadata": {},
   "cell_type": "markdown",
   "source": ""
  },
  {
   "cell_type": "code",
   "metadata": {
    "ExecuteTime": {
     "end_time": "2024-09-20T19:13:56.982890Z",
     "start_time": "2024-09-20T19:13:56.979727Z"
    }
   },
   "source": [
    "state=[(19542209, \"New York\") ,(4887871, \"Alabama\"), (1420491, \"Wyoming\"), \n",
    "       (626299, \"Vermont\"), (1805832, \"Utah\"), (39865590, \"California\")]"
   ],
   "outputs": [],
   "execution_count": 80
  },
  {
   "cell_type": "code",
   "metadata": {
    "ExecuteTime": {
     "end_time": "2024-09-20T19:13:57.026720Z",
     "start_time": "2024-09-20T19:13:57.022962Z"
    }
   },
   "source": [
    "def second(states):\n",
    "    n = len(states)\n",
    "    \n",
    "    # Simple bubble sort algorithm \n",
    "    for i in range(n - 1):\n",
    "        for j in range(n - i - 1):\n",
    "            if states[j][1] > states[j + 1][1]:\n",
    "                states[j], states[j + 1] = states[j + 1], states[j]\n",
    "    return states\n",
    "\n",
    "print(second(state))\n"
   ],
   "outputs": [
    {
     "name": "stdout",
     "output_type": "stream",
     "text": [
      "[(4887871, 'Alabama'), (39865590, 'California'), (19542209, 'New York'), (1805832, 'Utah'), (626299, 'Vermont'), (1420491, 'Wyoming')]\n"
     ]
    }
   ],
   "execution_count": 81
  },
  {
   "cell_type": "markdown",
   "metadata": {},
   "source": [
    "#### Q1.2 Perform the same task as in Q1.1, however, you will write a `lambda` function to replace `\"second\"`. "
   ]
  },
  {
   "metadata": {
    "ExecuteTime": {
     "end_time": "2024-09-20T19:13:57.049722Z",
     "start_time": "2024-09-20T19:13:57.045438Z"
    }
   },
   "cell_type": "code",
   "source": "print(sorted(state, key=lambda x: x[1]))",
   "outputs": [
    {
     "name": "stdout",
     "output_type": "stream",
     "text": [
      "[(4887871, 'Alabama'), (39865590, 'California'), (19542209, 'New York'), (1805832, 'Utah'), (626299, 'Vermont'), (1420491, 'Wyoming')]\n"
     ]
    }
   ],
   "execution_count": 82
  },
  {
   "cell_type": "markdown",
   "metadata": {},
   "source": [
    "#### Q1.3 Use the sorted method and lambda to sort the tuples in the list based on the `next to last` character of the second items."
   ]
  },
  {
   "metadata": {
    "ExecuteTime": {
     "end_time": "2024-09-20T19:13:57.086909Z",
     "start_time": "2024-09-20T19:13:57.085045Z"
    }
   },
   "cell_type": "code",
   "source": "",
   "outputs": [],
   "execution_count": null
  },
  {
   "cell_type": "code",
   "metadata": {
    "ExecuteTime": {
     "end_time": "2024-09-20T19:13:57.115012Z",
     "start_time": "2024-09-20T19:13:57.111250Z"
    }
   },
   "source": [
    "def second(states):\n",
    "    n = len(states)\n",
    "    \n",
    "    # Modified Bubble Sort to sort based off second to last letter\n",
    "    for i in range(n - 1):\n",
    "        for j in range(n - i - 1):\n",
    "            state1 = states[j][1][len(states[j][1]) - 2]        # 3 dimensional index to grab the second to last letter\n",
    "            state2 = states[j + 1][1][len(state[j + 1][1]) - 2] # 3 dimensional index to grab the second to last letter\n",
    "            \n",
    "            if state1 > state2: # Compares the two \n",
    "                states[j], states[j + 1] = states[j + 1], states[j]\n",
    "    return states\n",
    "\n",
    "print(second(state))\n",
    "\n",
    "print(sorted(state, key=lambda x: x[1][len(x[1]) - 2]))"
   ],
   "outputs": [
    {
     "name": "stdout",
     "output_type": "stream",
     "text": [
      "[(1805832, 'Utah'), (39865590, 'California'), (4887871, 'Alabama'), (626299, 'Vermont'), (1420491, 'Wyoming'), (19542209, 'New York')]\n",
      "[(1805832, 'Utah'), (39865590, 'California'), (4887871, 'Alabama'), (626299, 'Vermont'), (1420491, 'Wyoming'), (19542209, 'New York')]\n"
     ]
    }
   ],
   "execution_count": 83
  },
  {
   "cell_type": "markdown",
   "metadata": {},
   "source": [
    "## Q2: List Comprehension vs. Map/Filter + Lambda (15 Points)\n",
    "#### For each question below, use both list comprehension and Python `map()` or `filter( )` function. \n",
    "#### Use `%%timeit` magic command to profile the computation time. Make some comments about the profiling results."
   ]
  },
  {
   "cell_type": "markdown",
   "metadata": {},
   "source": [
    "#### Q2.1 For each of the floating number in the list, calcuate the __square__ of it and __round__ the result to 2 decimal places. "
   ]
  },
  {
   "cell_type": "code",
   "metadata": {
    "ExecuteTime": {
     "end_time": "2024-09-20T19:13:57.157859Z",
     "start_time": "2024-09-20T19:13:57.154511Z"
    }
   },
   "source": [
    "num = [4.35, 6.09, 3.25, 9.77, 2.16, 8.88, 4.59]"
   ],
   "outputs": [],
   "execution_count": 84
  },
  {
   "cell_type": "code",
   "metadata": {
    "ExecuteTime": {
     "end_time": "2024-09-20T19:13:57.196674Z",
     "start_time": "2024-09-20T19:13:57.192350Z"
    }
   },
   "source": [
    "## List comprehension\n",
    "numComp = [round(x**2, 2) for x in num]\n",
    "print(numComp)"
   ],
   "outputs": [
    {
     "name": "stdout",
     "output_type": "stream",
     "text": [
      "[18.92, 37.09, 10.56, 95.45, 4.67, 78.85, 21.07]\n"
     ]
    }
   ],
   "execution_count": 85
  },
  {
   "metadata": {
    "ExecuteTime": {
     "end_time": "2024-09-20T19:13:57.216708Z",
     "start_time": "2024-09-20T19:13:57.212709Z"
    }
   },
   "cell_type": "code",
   "source": [
    "# map() function\n",
    "def square(n):\n",
    "    return round(n**2, 2)\n",
    "\n",
    "numMap = list(map(square, num))\n",
    "print(numMap)"
   ],
   "outputs": [
    {
     "name": "stdout",
     "output_type": "stream",
     "text": [
      "[18.92, 37.09, 10.56, 95.45, 4.67, 78.85, 21.07]\n"
     ]
    }
   ],
   "execution_count": 86
  },
  {
   "cell_type": "markdown",
   "metadata": {},
   "source": [
    "#### Q2.2 For each of the name in the list, print only the names with less than 7 letters."
   ]
  },
  {
   "cell_type": "code",
   "metadata": {
    "ExecuteTime": {
     "end_time": "2024-09-20T19:13:57.267460Z",
     "start_time": "2024-09-20T19:13:57.264610Z"
    }
   },
   "source": [
    "names = [\"olumide\", \"akinremi\", \"alex\", \"josiah\", \"john\", \"temidayo\", \"emily\", \"omoseun\"]"
   ],
   "outputs": [],
   "execution_count": 87
  },
  {
   "cell_type": "code",
   "metadata": {
    "ExecuteTime": {
     "end_time": "2024-09-20T19:13:57.303328Z",
     "start_time": "2024-09-20T19:13:57.300106Z"
    }
   },
   "source": [
    "# Use List Comprehension\n",
    "namesComp = [name for name in names if len(name) < 7]\n",
    "print(namesComp)\n"
   ],
   "outputs": [
    {
     "name": "stdout",
     "output_type": "stream",
     "text": [
      "['alex', 'josiah', 'john', 'emily']\n"
     ]
    }
   ],
   "execution_count": 88
  },
  {
   "cell_type": "code",
   "metadata": {
    "ExecuteTime": {
     "end_time": "2024-09-20T19:13:57.379501Z",
     "start_time": "2024-09-20T19:13:57.376743Z"
    }
   },
   "source": [
    "# Use filter() function\n",
    "def nameFilter(name):\n",
    "    if len(name) < 7:\n",
    "        return name\n",
    "nameFil = list(filter(nameFilter, namesComp))\n",
    "print(nameFil)"
   ],
   "outputs": [
    {
     "name": "stdout",
     "output_type": "stream",
     "text": [
      "['alex', 'josiah', 'john', 'emily']\n"
     ]
    }
   ],
   "execution_count": 89
  },
  {
   "cell_type": "markdown",
   "metadata": {},
   "source": [
    "## Q3: Dictionary Operations (20 Points)"
   ]
  },
  {
   "cell_type": "markdown",
   "metadata": {},
   "source": [
    "#### Q3.1 Shopping Lists\n",
    "You are given two shopping lists (with items and quantity), one from your mom and one for yourself:\n",
    " * mom's list: banana 5, avacado 8, eggs 12, milk 2, orange 6\n",
    " * your list: Red Bull 12, potato chips 5, pineapple 3, eggs 6, avacado 4\n",
    "        \n",
    "Please construct two dictionaries, one for each shopping list."
   ]
  },
  {
   "cell_type": "code",
   "metadata": {
    "ExecuteTime": {
     "end_time": "2024-09-20T19:13:57.475249Z",
     "start_time": "2024-09-20T19:13:57.472777Z"
    }
   },
   "source": [],
   "outputs": [],
   "execution_count": null
  },
  {
   "cell_type": "markdown",
   "metadata": {},
   "source": [
    "#### Q3.2 Merging the Shopping Lists\n",
    "You realize there are some overlapping items on the lists, so you decide to merge the two.\n",
    "\n",
    "Please write a `__function, merge_shop_list(a, b)__`, that takes two dictionaries __a__ and __b__ as inputs, and merge them together. If there is a common item, you should add the quantities together. The function shall return the merged dictionary (or the shopping list).\n",
    "\n",
    "Show your result by printing the merged shopping list."
   ]
  },
  {
   "cell_type": "code",
   "metadata": {
    "ExecuteTime": {
     "end_time": "2024-09-20T19:13:57.497461Z",
     "start_time": "2024-09-20T19:13:57.495307Z"
    }
   },
   "source": [],
   "outputs": [],
   "execution_count": null
  },
  {
   "cell_type": "markdown",
   "metadata": {},
   "source": [
    "## Q4: AppleStore Dataset (50 points)\n",
    "\n",
    "#### Q4.1 Genres and Content Ratings\n",
    "\n",
    "With the AppleStore dataset, we found that \"Game\" is the most popular genre with more than 3000+ apps. We also realized that there are four different age-based content ratings (4+, 9+, 12+, and 17+). \n",
    "\n",
    "Write a Python program that analyzes the content rating distribution for the top three genres (Game, Entertainment and Education). That is, we want to know, for example, in the \"Game\" genere, how many apps are 4+, 9+, 12+, and 17+, respectively. \n",
    "\n",
    "__There are different ways to do this. Try your best to come up with a solution.__ "
   ]
  },
  {
   "cell_type": "code",
   "metadata": {
    "ExecuteTime": {
     "end_time": "2024-09-20T19:13:57.515614Z",
     "start_time": "2024-09-20T19:13:57.502958Z"
    }
   },
   "source": [
    "opened_file = open('AppleStore.csv', encoding=\"utf-8\")\n",
    "from csv import reader\n",
    "\n",
    "read_file = reader(opened_file)\n",
    "apps_data = list(read_file)"
   ],
   "outputs": [
    {
     "ename": "FileNotFoundError",
     "evalue": "[Errno 2] No such file or directory: 'AppleStore.csv'",
     "output_type": "error",
     "traceback": [
      "\u001B[1;31m---------------------------------------------------------------------------\u001B[0m",
      "\u001B[1;31mFileNotFoundError\u001B[0m                         Traceback (most recent call last)",
      "Cell \u001B[1;32mIn[90], line 1\u001B[0m\n\u001B[1;32m----> 1\u001B[0m opened_file \u001B[38;5;241m=\u001B[39m \u001B[38;5;28;43mopen\u001B[39;49m\u001B[43m(\u001B[49m\u001B[38;5;124;43m'\u001B[39;49m\u001B[38;5;124;43mAppleStore.csv\u001B[39;49m\u001B[38;5;124;43m'\u001B[39;49m\u001B[43m,\u001B[49m\u001B[43m \u001B[49m\u001B[43mencoding\u001B[49m\u001B[38;5;241;43m=\u001B[39;49m\u001B[38;5;124;43m\"\u001B[39;49m\u001B[38;5;124;43mutf-8\u001B[39;49m\u001B[38;5;124;43m\"\u001B[39;49m\u001B[43m)\u001B[49m\n\u001B[0;32m      2\u001B[0m \u001B[38;5;28;01mfrom\u001B[39;00m \u001B[38;5;21;01mcsv\u001B[39;00m \u001B[38;5;28;01mimport\u001B[39;00m reader\n\u001B[0;32m      4\u001B[0m read_file \u001B[38;5;241m=\u001B[39m reader(opened_file)\n",
      "File \u001B[1;32mc:\\Users\\rbrin\\miniconda3\\envs\\4040\\Lib\\site-packages\\IPython\\core\\interactiveshell.py:324\u001B[0m, in \u001B[0;36m_modified_open\u001B[1;34m(file, *args, **kwargs)\u001B[0m\n\u001B[0;32m    317\u001B[0m \u001B[38;5;28;01mif\u001B[39;00m file \u001B[38;5;129;01min\u001B[39;00m {\u001B[38;5;241m0\u001B[39m, \u001B[38;5;241m1\u001B[39m, \u001B[38;5;241m2\u001B[39m}:\n\u001B[0;32m    318\u001B[0m     \u001B[38;5;28;01mraise\u001B[39;00m \u001B[38;5;167;01mValueError\u001B[39;00m(\n\u001B[0;32m    319\u001B[0m         \u001B[38;5;124mf\u001B[39m\u001B[38;5;124m\"\u001B[39m\u001B[38;5;124mIPython won\u001B[39m\u001B[38;5;124m'\u001B[39m\u001B[38;5;124mt let you open fd=\u001B[39m\u001B[38;5;132;01m{\u001B[39;00mfile\u001B[38;5;132;01m}\u001B[39;00m\u001B[38;5;124m by default \u001B[39m\u001B[38;5;124m\"\u001B[39m\n\u001B[0;32m    320\u001B[0m         \u001B[38;5;124m\"\u001B[39m\u001B[38;5;124mas it is likely to crash IPython. If you know what you are doing, \u001B[39m\u001B[38;5;124m\"\u001B[39m\n\u001B[0;32m    321\u001B[0m         \u001B[38;5;124m\"\u001B[39m\u001B[38;5;124myou can use builtins\u001B[39m\u001B[38;5;124m'\u001B[39m\u001B[38;5;124m open.\u001B[39m\u001B[38;5;124m\"\u001B[39m\n\u001B[0;32m    322\u001B[0m     )\n\u001B[1;32m--> 324\u001B[0m \u001B[38;5;28;01mreturn\u001B[39;00m \u001B[43mio_open\u001B[49m\u001B[43m(\u001B[49m\u001B[43mfile\u001B[49m\u001B[43m,\u001B[49m\u001B[43m \u001B[49m\u001B[38;5;241;43m*\u001B[39;49m\u001B[43margs\u001B[49m\u001B[43m,\u001B[49m\u001B[43m \u001B[49m\u001B[38;5;241;43m*\u001B[39;49m\u001B[38;5;241;43m*\u001B[39;49m\u001B[43mkwargs\u001B[49m\u001B[43m)\u001B[49m\n",
      "\u001B[1;31mFileNotFoundError\u001B[0m: [Errno 2] No such file or directory: 'AppleStore.csv'"
     ]
    }
   ],
   "execution_count": 90
  },
  {
   "cell_type": "code",
   "execution_count": null,
   "metadata": {},
   "outputs": [],
   "source": []
  },
  {
   "cell_type": "markdown",
   "metadata": {},
   "source": [
    "__Q4.2 We are also interested in the price of the apps. Specifically, we want to know the number of applications in five different price ranges, that is,__ \n",
    "1. free\n",
    "2. 0 < price < 5\n",
    "3. 5<= price < 10\n",
    "4. 10 <= price < 50\n",
    "5. price >=50.\n",
    "\n",
    "__Please write a code that shows the price range distribution.__"
   ]
  },
  {
   "cell_type": "code",
   "execution_count": 224,
   "metadata": {},
   "outputs": [],
   "source": [
    "# Initialize the price range dictionary. You will write the rest.\n",
    "\n",
    "price_range = {'Free': 0, '0 to $5': 0, '$5 to $10': 0, '$10 to $50': 0, '>= $50': 0}"
   ]
  },
  {
   "cell_type": "code",
   "execution_count": null,
   "metadata": {},
   "outputs": [],
   "source": []
  },
  {
   "cell_type": "markdown",
   "metadata": {},
   "source": [
    "#### Q4.3 How many of the applications are free? That is, find out how many applications are priced at $0.0."
   ]
  },
  {
   "cell_type": "code",
   "execution_count": null,
   "metadata": {},
   "outputs": [],
   "source": []
  },
  {
   "cell_type": "markdown",
   "metadata": {},
   "source": [
    "#### Q4.4 What are the three most expensive prices? How much? What are the titles?"
   ]
  },
  {
   "cell_type": "code",
   "execution_count": null,
   "metadata": {},
   "outputs": [],
   "source": []
  }
 ],
 "metadata": {
  "kernelspec": {
   "display_name": "Python 3",
   "language": "python",
   "name": "python3"
  },
  "language_info": {
   "codemirror_mode": {
    "name": "ipython",
    "version": 3
   },
   "file_extension": ".py",
   "mimetype": "text/x-python",
   "name": "python",
   "nbconvert_exporter": "python",
   "pygments_lexer": "ipython3",
   "version": "3.8.8"
  }
 },
 "nbformat": 4,
 "nbformat_minor": 2
}
