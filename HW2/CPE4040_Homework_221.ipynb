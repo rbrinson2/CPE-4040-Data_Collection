{
 "cells": [
  {
   "cell_type": "markdown",
   "metadata": {},
   "source": [
    "<center><h1> CPE 4040: Homework 2</h1></center>"
   ]
  },
  {
   "cell_type": "markdown",
   "metadata": {},
   "source": [
    "1. Write your answer in the cell provided under each question.\n",
    "2. __Important: Write comments__ in the code to explain your thoughts. __You may lose points without comments.__\n",
    "3. Show your execution result. \n",
    "4. Do your own work. __Do not copy-and-paste other people's (or Generative AI's) codes.__    \n",
    "\n",
    "### Submission:\n",
    " * __Submit this notebook file and the pdf version__ - remember to add your name in the filename.\n",
    "#### You will write a small function, `\"second\"`, to achieve this purpose. "
   ]
  },
  {
   "metadata": {},
   "cell_type": "markdown",
   "source": [
    "## Q1: Functions and Lambda (15 Points)\n",
    "\n",
    "#### Q1.1: Sort the tuples in the list based on the second item (that is, the state name), in __descending order__ alphabetically.\n",
    "#### You will write a small function, \"second\", to achieve this purpose. "
   ]
  },
  {
   "metadata": {},
   "cell_type": "markdown",
   "source": ""
  },
  {
   "cell_type": "code",
   "metadata": {
    "ExecuteTime": {
     "end_time": "2024-09-25T15:49:22.746357Z",
     "start_time": "2024-09-25T15:49:22.743649Z"
    }
   },
   "source": [
    "state=[(19542209, \"New York\") ,(4887871, \"Alabama\"), (1420491, \"Wyoming\"), \n",
    "       (626299, \"Vermont\"), (1805832, \"Utah\"), (39865590, \"California\")]"
   ],
   "outputs": [],
   "execution_count": 1300
  },
  {
   "cell_type": "code",
   "metadata": {
    "ExecuteTime": {
     "end_time": "2024-09-25T15:49:22.761193Z",
     "start_time": "2024-09-25T15:49:22.757819Z"
    }
   },
   "source": [
    "def second(states):\n",
    "    n = len(states)\n",
    "    \n",
    "    # Simple bubble sort algorithm \n",
    "    for i in range(n - 1):\n",
    "        for j in range(n - i - 1):\n",
    "            if states[j][1] > states[j + 1][1]:\n",
    "                states[j], states[j + 1] = states[j + 1], states[j]\n",
    "    return states\n",
    "\n",
    "print(second(state))\n"
   ],
   "outputs": [
    {
     "name": "stdout",
     "output_type": "stream",
     "text": [
      "[(4887871, 'Alabama'), (39865590, 'California'), (19542209, 'New York'), (1805832, 'Utah'), (626299, 'Vermont'), (1420491, 'Wyoming')]\n"
     ]
    }
   ],
   "execution_count": 1301
  },
  {
   "cell_type": "markdown",
   "metadata": {},
   "source": [
    "#### Q1.2 Perform the same task as in Q1.1, however, you will write a `lambda` function to replace `\"second\"`. "
   ]
  },
  {
   "metadata": {
    "ExecuteTime": {
     "end_time": "2024-09-25T15:49:22.788862Z",
     "start_time": "2024-09-25T15:49:22.785431Z"
    }
   },
   "cell_type": "code",
   "source": "print(sorted(state, key=lambda x: x[1]))",
   "outputs": [
    {
     "name": "stdout",
     "output_type": "stream",
     "text": [
      "[(4887871, 'Alabama'), (39865590, 'California'), (19542209, 'New York'), (1805832, 'Utah'), (626299, 'Vermont'), (1420491, 'Wyoming')]\n"
     ]
    }
   ],
   "execution_count": 1302
  },
  {
   "cell_type": "markdown",
   "metadata": {},
   "source": [
    "#### Q1.3 Use the sorted method and lambda to sort the tuples in the list based on the `next to last` character of the second items."
   ]
  },
  {
   "metadata": {
    "ExecuteTime": {
     "end_time": "2024-09-25T15:49:22.813335Z",
     "start_time": "2024-09-25T15:49:22.811679Z"
    }
   },
   "cell_type": "code",
   "source": "",
   "outputs": [],
   "execution_count": null
  },
  {
   "cell_type": "code",
   "metadata": {
    "ExecuteTime": {
     "end_time": "2024-09-25T15:49:22.840829Z",
     "start_time": "2024-09-25T15:49:22.835834Z"
    }
   },
   "source": [
    "def second(states):\n",
    "    n = len(states)\n",
    "    \n",
    "    # Modified Bubble Sort to sort based off second to last letter\n",
    "    for i in range(n - 1):\n",
    "        for j in range(n - i - 1):\n",
    "            state1 = states[j][1][len(states[j][1]) - 2]        # 3 dimensional index to grab the second to last letter\n",
    "            state2 = states[j + 1][1][len(state[j + 1][1]) - 2] # 3 dimensional index to grab the second to last letter\n",
    "            \n",
    "            if state1 > state2: # Compares the two \n",
    "                states[j], states[j + 1] = states[j + 1], states[j]\n",
    "    return states\n",
    "\n",
    "print(second(state))\n",
    "\n",
    "print(sorted(state, key=lambda x: x[1][len(x[1]) - 2]))"
   ],
   "outputs": [
    {
     "name": "stdout",
     "output_type": "stream",
     "text": [
      "[(1805832, 'Utah'), (39865590, 'California'), (4887871, 'Alabama'), (626299, 'Vermont'), (1420491, 'Wyoming'), (19542209, 'New York')]\n",
      "[(1805832, 'Utah'), (39865590, 'California'), (4887871, 'Alabama'), (626299, 'Vermont'), (1420491, 'Wyoming'), (19542209, 'New York')]\n"
     ]
    }
   ],
   "execution_count": 1303
  },
  {
   "cell_type": "markdown",
   "metadata": {},
   "source": [
    "## Q2: List Comprehension vs. Map/Filter + Lambda (15 Points)\n",
    "#### For each question below, use both list comprehension and Python `map()` or `filter( )` function. \n",
    "#### Use `%%timeit` magic command to profile the computation time. Make some comments about the profiling results."
   ]
  },
  {
   "cell_type": "markdown",
   "metadata": {},
   "source": [
    "#### Q2.1 For each of the floating number in the list, calcuate the __square__ of it and __round__ the result to 2 decimal places. "
   ]
  },
  {
   "cell_type": "code",
   "metadata": {
    "ExecuteTime": {
     "end_time": "2024-09-25T15:49:22.868382Z",
     "start_time": "2024-09-25T15:49:22.865866Z"
    }
   },
   "source": [
    "num = [4.35, 6.09, 3.25, 9.77, 2.16, 8.88, 4.59]"
   ],
   "outputs": [],
   "execution_count": 1304
  },
  {
   "cell_type": "code",
   "metadata": {
    "ExecuteTime": {
     "end_time": "2024-09-25T15:49:22.893435Z",
     "start_time": "2024-09-25T15:49:22.890498Z"
    }
   },
   "source": [
    "## List comprehension\n",
    "numComp = [round(x**2, 2) for x in num]\n",
    "print(numComp)"
   ],
   "outputs": [
    {
     "name": "stdout",
     "output_type": "stream",
     "text": [
      "[18.92, 37.09, 10.56, 95.45, 4.67, 78.85, 21.07]\n"
     ]
    }
   ],
   "execution_count": 1305
  },
  {
   "metadata": {
    "ExecuteTime": {
     "end_time": "2024-09-25T15:49:22.919151Z",
     "start_time": "2024-09-25T15:49:22.916091Z"
    }
   },
   "cell_type": "code",
   "source": [
    "# map() function\n",
    "def square(n):\n",
    "    return round(n**2, 2)\n",
    "\n",
    "numMap = list(map(square, num))\n",
    "print(numMap)"
   ],
   "outputs": [
    {
     "name": "stdout",
     "output_type": "stream",
     "text": [
      "[18.92, 37.09, 10.56, 95.45, 4.67, 78.85, 21.07]\n"
     ]
    }
   ],
   "execution_count": 1306
  },
  {
   "cell_type": "markdown",
   "metadata": {},
   "source": [
    "#### Q2.2 For each of the name in the list, print only the names with less than 7 letters."
   ]
  },
  {
   "cell_type": "code",
   "metadata": {
    "ExecuteTime": {
     "end_time": "2024-09-25T15:49:22.943624Z",
     "start_time": "2024-09-25T15:49:22.941423Z"
    }
   },
   "source": [
    "names = [\"olumide\", \"akinremi\", \"alex\", \"josiah\", \"john\", \"temidayo\", \"emily\", \"omoseun\"]"
   ],
   "outputs": [],
   "execution_count": 1307
  },
  {
   "cell_type": "code",
   "metadata": {
    "ExecuteTime": {
     "end_time": "2024-09-25T15:49:22.969311Z",
     "start_time": "2024-09-25T15:49:22.966280Z"
    }
   },
   "source": [
    "# Use List Comprehension\n",
    "namesComp = [name for name in names if len(name) < 7]\n",
    "print(namesComp)\n"
   ],
   "outputs": [
    {
     "name": "stdout",
     "output_type": "stream",
     "text": [
      "['alex', 'josiah', 'john', 'emily']\n"
     ]
    }
   ],
   "execution_count": 1308
  },
  {
   "cell_type": "code",
   "metadata": {
    "ExecuteTime": {
     "end_time": "2024-09-25T15:49:22.994143Z",
     "start_time": "2024-09-25T15:49:22.991520Z"
    }
   },
   "source": [
    "# Use filter() function\n",
    "def nameFilter(name):\n",
    "    if len(name) < 7:\n",
    "        return name\n",
    "nameFil = list(filter(nameFilter, namesComp))\n",
    "print(nameFil)"
   ],
   "outputs": [
    {
     "name": "stdout",
     "output_type": "stream",
     "text": [
      "['alex', 'josiah', 'john', 'emily']\n"
     ]
    }
   ],
   "execution_count": 1309
  },
  {
   "cell_type": "markdown",
   "metadata": {},
   "source": [
    "## Q3: Dictionary Operations (20 Points)"
   ]
  },
  {
   "cell_type": "markdown",
   "metadata": {},
   "source": [
    "#### Q3.1 Shopping Lists\n",
    "You are given two shopping lists (with items and quantity), one from your mom and one for yourself:\n",
    " * mom's list: banana 5, avacado 8, eggs 12, milk 2, orange 6\n",
    " * your list: Red Bull 12, potato chips 5, pineapple 3, eggs 6, avacado 4\n",
    "        \n",
    "Please construct two dictionaries, one for each shopping list."
   ]
  },
  {
   "cell_type": "code",
   "metadata": {
    "ExecuteTime": {
     "end_time": "2024-09-25T15:49:23.019008Z",
     "start_time": "2024-09-25T15:49:23.015619Z"
    }
   },
   "source": [
    "momList = {\"banana\" : 5, \"avocado\" : 8, \"eggs\" : 12, \"milk\" : 2, \"orange\" : 6}\n",
    "myList = {\"Red Bull\" : 12, \"potato chips\" : 5, \"pineapple\" : 3, \"eggs\" : 6, \"avocado\" : 4}"
   ],
   "outputs": [],
   "execution_count": 1310
  },
  {
   "cell_type": "markdown",
   "metadata": {},
   "source": [
    "#### Q3.2 Merging the Shopping Lists\n",
    "You realize there are some overlapping items on the lists, so you decide to merge the two.\n",
    "\n",
    "Please write a `__function, merge_shop_list(a, b)__`, that takes two dictionaries __a__ and __b__ as inputs, and merge them together. If there is a common item, you should add the quantities together. The function shall return the merged dictionary (or the shopping list).\n",
    "\n",
    "Show your result by printing the merged shopping list."
   ]
  },
  {
   "cell_type": "code",
   "metadata": {
    "ExecuteTime": {
     "end_time": "2024-09-25T15:49:23.044199Z",
     "start_time": "2024-09-25T15:49:23.040075Z"
    }
   },
   "source": [
    "def merge_shop_list(a, b):\n",
    "    c = {i: a.get(i, 0) + b.get(i, 0) for i in set(a).union(b)}\n",
    "    return c\n",
    "\n",
    "newList = merge_shop_list(momList, myList)\n",
    "print(newList)"
   ],
   "outputs": [
    {
     "name": "stdout",
     "output_type": "stream",
     "text": [
      "{'eggs': 18, 'milk': 2, 'orange': 6, 'banana': 5, 'potato chips': 5, 'pineapple': 3, 'Red Bull': 12, 'avocado': 12}\n"
     ]
    }
   ],
   "execution_count": 1311
  },
  {
   "cell_type": "markdown",
   "metadata": {},
   "source": [
    "## Q4: AppleStore Dataset (50 points)\n",
    "\n",
    "#### Q4.1 Genres and Content Ratings\n",
    "\n",
    "With the AppleStore dataset, we found that \"Game\" is the most popular genre with more than 3000+ apps. We also realized that there are four different age-based content ratings (4+, 9+, 12+, and 17+). \n",
    "\n",
    "Write a Python program that analyzes the content rating distribution for the top three genres (Game, Entertainment and Education). That is, we want to know, for example, in the \"Game\" genere, how many apps are 4+, 9+, 12+, and 17+, respectively. \n",
    "\n",
    "__There are different ways to do this. Try your best to come up with a solution.__ "
   ]
  },
  {
   "cell_type": "code",
   "metadata": {
    "ExecuteTime": {
     "end_time": "2024-09-25T15:49:23.082868Z",
     "start_time": "2024-09-25T15:49:23.066297Z"
    }
   },
   "source": [
    "opened_file = open('AppleStore1.csv', encoding=\"utf-8\")\n",
    "from csv import reader\n",
    "\n",
    "read_file = reader(opened_file)\n",
    "apps_data = list(read_file)"
   ],
   "outputs": [],
   "execution_count": 1312
  },
  {
   "cell_type": "code",
   "metadata": {
    "ExecuteTime": {
     "end_time": "2024-09-25T15:49:23.123754Z",
     "start_time": "2024-09-25T15:49:23.104803Z"
    }
   },
   "source": [
    "import pandas as pd\n",
    "\n",
    "dataframe = pd.read_csv(\"AppleStore1.csv\")\n",
    "\n",
    "## Game Data\n",
    "game_data = dataframe.loc[dataframe[\"prime_genre\"] == \"Games\"]\n",
    "game_rating_count = game_data[\"cont_rating\"].value_counts()\n",
    "print(\"Games by rating: \\n\", game_rating_count)\n",
    "\n",
    "## Entertainment Data\n",
    "ent_data = dataframe.loc[dataframe[\"prime_genre\"] == \"Entertainment\"]\n",
    "ent_rating_count = ent_data[\"cont_rating\"].value_counts()\n",
    "print(\"\\nEntertainment Apps by rating: \\n\", ent_rating_count)\n",
    "\n",
    "## Education data\n",
    "edu_data = dataframe.loc[dataframe[\"prime_genre\"] == \"Education\"]\n",
    "edu_rating_count = edu_data[\"cont_rating\"].value_counts()\n",
    "print(\"\\nEducation Apps by rating: \\n\", edu_rating_count)"
   ],
   "outputs": [
    {
     "name": "stdout",
     "output_type": "stream",
     "text": [
      "Games by rating: \n",
      " cont_rating\n",
      "4+     2079\n",
      "9+      865\n",
      "12+     741\n",
      "17+     177\n",
      "Name: count, dtype: int64\n",
      "\n",
      "Entertainment Apps by rating: \n",
      " cont_rating\n",
      "4+     285\n",
      "12+    108\n",
      "17+     98\n",
      "9+      44\n",
      "Name: count, dtype: int64\n",
      "\n",
      "Education Apps by rating: \n",
      " cont_rating\n",
      "4+     432\n",
      "12+      8\n",
      "17+      7\n",
      "9+       6\n",
      "Name: count, dtype: int64\n"
     ]
    }
   ],
   "execution_count": 1313
  },
  {
   "cell_type": "markdown",
   "metadata": {},
   "source": [
    "__Q4.2 We are also interested in the price of the apps. Specifically, we want to know the number of applications in five different price ranges, that is,__ \n",
    "1. free\n",
    "2. 0 < price < 5\n",
    "3. 5<= price < 10\n",
    "4. 10 <= price < 50\n",
    "5. price >=50.\n",
    "\n",
    "__Please write a code that shows the price range distribution.__"
   ]
  },
  {
   "cell_type": "code",
   "metadata": {
    "ExecuteTime": {
     "end_time": "2024-09-25T15:49:23.149292Z",
     "start_time": "2024-09-25T15:49:23.146932Z"
    }
   },
   "source": [
    "# Initialize the price range dictionary. You will write the rest.\n",
    "\n",
    "price_range = {'Free': 0, '0 to $5': 0, '$5 to $10': 0, '$10 to $50': 0, '>= $50': 0}"
   ],
   "outputs": [],
   "execution_count": 1314
  },
  {
   "cell_type": "code",
   "metadata": {
    "ExecuteTime": {
     "end_time": "2024-09-25T15:49:23.178655Z",
     "start_time": "2024-09-25T15:49:23.172990Z"
    }
   },
   "source": [
    "\n",
    "for price in price_range:\n",
    "    if price == 'Free':\n",
    "        price_range[price] = len(dataframe[(dataframe[\"price\"] == 0.0)])\n",
    "    elif price == '0 to $5':\n",
    "        price_range[price] = len(dataframe[(dataframe[\"price\"] > 0.0) & (dataframe[\"price\"] <= 5.0)])\n",
    "    elif price == '$5 to $10':\n",
    "        price_range[price] = len(dataframe[(dataframe[\"price\"] > 5.0) & (dataframe[\"price\"] <= 10.0)])\n",
    "    elif price == '$10 to $50':\n",
    "        price_range[price] = len(dataframe[(dataframe[\"price\"] > 10.0) & (dataframe[\"price\"] <= 50.0)])\n",
    "    elif price == '>= $50':\n",
    "        price_range[price] = len(dataframe[(dataframe[\"price\"] > 50.0)])\n",
    "\n",
    "print(price_range)\n"
   ],
   "outputs": [
    {
     "name": "stdout",
     "output_type": "stream",
     "text": [
      "{'Free': 4056, '0 to $5': 2703, '$5 to $10': 341, '$10 to $50': 90, '>= $50': 7}\n"
     ]
    }
   ],
   "execution_count": 1315
  },
  {
   "cell_type": "markdown",
   "metadata": {},
   "source": [
    "#### Q4.3 How many of the applications are free? That is, find out how many applications are priced at $0.0."
   ]
  },
  {
   "cell_type": "code",
   "metadata": {
    "ExecuteTime": {
     "end_time": "2024-09-25T15:49:23.258892Z",
     "start_time": "2024-09-25T15:49:23.256322Z"
    }
   },
   "source": "print(\"Number of Free apps: \", price_range['Free'])",
   "outputs": [
    {
     "name": "stdout",
     "output_type": "stream",
     "text": [
      "Number of Free apps:  4056\n"
     ]
    }
   ],
   "execution_count": 1316
  },
  {
   "cell_type": "code",
   "metadata": {
    "ExecuteTime": {
     "end_time": "2024-09-25T15:49:23.350982Z",
     "start_time": "2024-09-25T15:49:23.344432Z"
    }
   },
   "source": [
    "max_price = dataframe[[\"track_name\", \"price\"]]\n",
    "max_price = max_price.sort_values(by=\"price\", ascending=False)\n",
    "print(max_price.head(3))"
   ],
   "outputs": [
    {
     "name": "stdout",
     "output_type": "stream",
     "text": [
      "                          track_name   price\n",
      "5184             LAMP Words For Life  299.99\n",
      "2828  Proloquo2Go - Symbol-based AAC  249.99\n",
      "4769                     KNFB Reader   99.99\n"
     ]
    }
   ],
   "execution_count": 1317
  }
 ],
 "metadata": {
  "kernelspec": {
   "display_name": "Python 3",
   "language": "python",
   "name": "python3"
  },
  "language_info": {
   "codemirror_mode": {
    "name": "ipython",
    "version": 3
   },
   "file_extension": ".py",
   "mimetype": "text/x-python",
   "name": "python",
   "nbconvert_exporter": "python",
   "pygments_lexer": "ipython3",
   "version": "3.8.8"
  }
 },
 "nbformat": 4,
 "nbformat_minor": 2
}
